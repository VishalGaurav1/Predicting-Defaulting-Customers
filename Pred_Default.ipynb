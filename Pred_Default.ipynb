{
  "nbformat": 4,
  "nbformat_minor": 0,
  "metadata": {
    "colab": {
      "name": "Pred_Default.ipynb",
      "provenance": [],
      "authorship_tag": "ABX9TyOghKUUQC/heTffOd+evGGh",
      "include_colab_link": true
    },
    "kernelspec": {
      "name": "python3",
      "display_name": "Python 3"
    },
    "language_info": {
      "name": "python"
    }
  },
  "cells": [
    {
      "cell_type": "markdown",
      "metadata": {
        "id": "view-in-github",
        "colab_type": "text"
      },
      "source": [
        "<a href=\"https://colab.research.google.com/github/VishalGaurav1/Predicting-Defaulting-Customers/blob/main/Pred_Default.ipynb\" target=\"_parent\"><img src=\"https://colab.research.google.com/assets/colab-badge.svg\" alt=\"Open In Colab\"/></a>"
      ]
    },
    {
      "cell_type": "code",
      "execution_count": 1,
      "metadata": {
        "id": "orBq5cg4F0Nm"
      },
      "outputs": [],
      "source": [
        "import pandas as pd\n",
        "import matplotlib.pyplot as plt\n",
        "import seaborn as sns\n",
        "import numpy as np"
      ]
    },
    {
      "cell_type": "code",
      "source": [
        "! gdown --id 1PiqtIzS7XZ91bvJVfCVf-3Aw_GE0iENR"
      ],
      "metadata": {
        "colab": {
          "base_uri": "https://localhost:8080/"
        },
        "id": "1ojE2nxzGUx3",
        "outputId": "bd10115c-3ac8-47c1-be2a-9959e5a2805b"
      },
      "execution_count": 2,
      "outputs": [
        {
          "output_type": "stream",
          "name": "stdout",
          "text": [
            "/usr/local/lib/python3.7/dist-packages/gdown/cli.py:131: FutureWarning: Option `--id` was deprecated in version 4.3.1 and will be removed in 5.0. You don't need to pass it anymore to use a file ID.\n",
            "  category=FutureWarning,\n",
            "Downloading...\n",
            "From: https://drive.google.com/uc?id=1PiqtIzS7XZ91bvJVfCVf-3Aw_GE0iENR\n",
            "To: /content/kisan_net_log.csv\n",
            "100% 27.5M/27.5M [00:00<00:00, 114MB/s]\n"
          ]
        }
      ]
    },
    {
      "cell_type": "code",
      "source": [
        "kisan=pd.read_csv('kisan_net_log.csv')\n",
        "kisan.head()"
      ],
      "metadata": {
        "colab": {
          "base_uri": "https://localhost:8080/",
          "height": 525
        },
        "id": "dIEjK6yWGYL6",
        "outputId": "34f25b0c-30cc-4eaa-e843-4bbe91face6a"
      },
      "execution_count": 3,
      "outputs": [
        {
          "output_type": "stream",
          "name": "stderr",
          "text": [
            "/usr/local/lib/python3.7/dist-packages/IPython/core/interactiveshell.py:2882: DtypeWarning: Columns (19,29,30) have mixed types.Specify dtype option on import or set low_memory=False.\n",
            "  exec(code_obj, self.user_global_ns, self.user_ns)\n"
          ]
        },
        {
          "output_type": "execute_result",
          "data": {
            "text/plain": [
              "     loan_amnt        term  int_rate  installment grade sub_grade  \\\n",
              "0      10000.0   36 months     11.44       329.48     B        B4   \n",
              "1  Mendozaberg   OK 22690\"       NaN          NaN   NaN       NaN   \n",
              "2       8000.0   36 months     11.99       265.68     B        B5   \n",
              "3   Loganmouth   SD 05113\"       NaN          NaN   NaN       NaN   \n",
              "4      15600.0   36 months     10.49       506.97     B        B3   \n",
              "\n",
              "         emp_title emp_length home_ownership annual_inc  ... total_acc  \\\n",
              "0        Marketing  10+ years           RENT     117000  ...      25.0   \n",
              "1              NaN        NaN            NaN        NaN  ...       NaN   \n",
              "2  Credit analyst     4 years       MORTGAGE      65000  ...      27.0   \n",
              "3              NaN        NaN            NaN        NaN  ...       NaN   \n",
              "4     Statistician   < 1 year           RENT      43057  ...      26.0   \n",
              "\n",
              "  initial_list_status application_type mort_acc pub_rec_bankruptcies  \\\n",
              "0                   w       INDIVIDUAL        0                    0   \n",
              "1                 NaN              NaN      NaN                  NaN   \n",
              "2                   f       INDIVIDUAL        3                    0   \n",
              "3                 NaN              NaN      NaN                  NaN   \n",
              "4                   f       INDIVIDUAL        0                    0   \n",
              "\n",
              "                      address Unnamed: 27 Unnamed: 28 Unnamed: 29 Unnamed: 30  \n",
              "0      \"0174 Michelle Gateway         NaN         NaN         NaN         NaN  \n",
              "1                         NaN         NaN         NaN         NaN         NaN  \n",
              "2  \"1076 Carney Fort Apt. 347         NaN         NaN         NaN         NaN  \n",
              "3                         NaN         NaN         NaN         NaN         NaN  \n",
              "4   \"87025 Mark Dale Apt. 269         NaN         NaN         NaN         NaN  \n",
              "\n",
              "[5 rows x 31 columns]"
            ],
            "text/html": [
              "\n",
              "  <div id=\"df-54d0bc58-b84c-4a60-b0eb-3d6bce689b2a\">\n",
              "    <div class=\"colab-df-container\">\n",
              "      <div>\n",
              "<style scoped>\n",
              "    .dataframe tbody tr th:only-of-type {\n",
              "        vertical-align: middle;\n",
              "    }\n",
              "\n",
              "    .dataframe tbody tr th {\n",
              "        vertical-align: top;\n",
              "    }\n",
              "\n",
              "    .dataframe thead th {\n",
              "        text-align: right;\n",
              "    }\n",
              "</style>\n",
              "<table border=\"1\" class=\"dataframe\">\n",
              "  <thead>\n",
              "    <tr style=\"text-align: right;\">\n",
              "      <th></th>\n",
              "      <th>loan_amnt</th>\n",
              "      <th>term</th>\n",
              "      <th>int_rate</th>\n",
              "      <th>installment</th>\n",
              "      <th>grade</th>\n",
              "      <th>sub_grade</th>\n",
              "      <th>emp_title</th>\n",
              "      <th>emp_length</th>\n",
              "      <th>home_ownership</th>\n",
              "      <th>annual_inc</th>\n",
              "      <th>...</th>\n",
              "      <th>total_acc</th>\n",
              "      <th>initial_list_status</th>\n",
              "      <th>application_type</th>\n",
              "      <th>mort_acc</th>\n",
              "      <th>pub_rec_bankruptcies</th>\n",
              "      <th>address</th>\n",
              "      <th>Unnamed: 27</th>\n",
              "      <th>Unnamed: 28</th>\n",
              "      <th>Unnamed: 29</th>\n",
              "      <th>Unnamed: 30</th>\n",
              "    </tr>\n",
              "  </thead>\n",
              "  <tbody>\n",
              "    <tr>\n",
              "      <th>0</th>\n",
              "      <td>10000.0</td>\n",
              "      <td>36 months</td>\n",
              "      <td>11.44</td>\n",
              "      <td>329.48</td>\n",
              "      <td>B</td>\n",
              "      <td>B4</td>\n",
              "      <td>Marketing</td>\n",
              "      <td>10+ years</td>\n",
              "      <td>RENT</td>\n",
              "      <td>117000</td>\n",
              "      <td>...</td>\n",
              "      <td>25.0</td>\n",
              "      <td>w</td>\n",
              "      <td>INDIVIDUAL</td>\n",
              "      <td>0</td>\n",
              "      <td>0</td>\n",
              "      <td>\"0174 Michelle Gateway</td>\n",
              "      <td>NaN</td>\n",
              "      <td>NaN</td>\n",
              "      <td>NaN</td>\n",
              "      <td>NaN</td>\n",
              "    </tr>\n",
              "    <tr>\n",
              "      <th>1</th>\n",
              "      <td>Mendozaberg</td>\n",
              "      <td>OK 22690\"</td>\n",
              "      <td>NaN</td>\n",
              "      <td>NaN</td>\n",
              "      <td>NaN</td>\n",
              "      <td>NaN</td>\n",
              "      <td>NaN</td>\n",
              "      <td>NaN</td>\n",
              "      <td>NaN</td>\n",
              "      <td>NaN</td>\n",
              "      <td>...</td>\n",
              "      <td>NaN</td>\n",
              "      <td>NaN</td>\n",
              "      <td>NaN</td>\n",
              "      <td>NaN</td>\n",
              "      <td>NaN</td>\n",
              "      <td>NaN</td>\n",
              "      <td>NaN</td>\n",
              "      <td>NaN</td>\n",
              "      <td>NaN</td>\n",
              "      <td>NaN</td>\n",
              "    </tr>\n",
              "    <tr>\n",
              "      <th>2</th>\n",
              "      <td>8000.0</td>\n",
              "      <td>36 months</td>\n",
              "      <td>11.99</td>\n",
              "      <td>265.68</td>\n",
              "      <td>B</td>\n",
              "      <td>B5</td>\n",
              "      <td>Credit analyst</td>\n",
              "      <td>4 years</td>\n",
              "      <td>MORTGAGE</td>\n",
              "      <td>65000</td>\n",
              "      <td>...</td>\n",
              "      <td>27.0</td>\n",
              "      <td>f</td>\n",
              "      <td>INDIVIDUAL</td>\n",
              "      <td>3</td>\n",
              "      <td>0</td>\n",
              "      <td>\"1076 Carney Fort Apt. 347</td>\n",
              "      <td>NaN</td>\n",
              "      <td>NaN</td>\n",
              "      <td>NaN</td>\n",
              "      <td>NaN</td>\n",
              "    </tr>\n",
              "    <tr>\n",
              "      <th>3</th>\n",
              "      <td>Loganmouth</td>\n",
              "      <td>SD 05113\"</td>\n",
              "      <td>NaN</td>\n",
              "      <td>NaN</td>\n",
              "      <td>NaN</td>\n",
              "      <td>NaN</td>\n",
              "      <td>NaN</td>\n",
              "      <td>NaN</td>\n",
              "      <td>NaN</td>\n",
              "      <td>NaN</td>\n",
              "      <td>...</td>\n",
              "      <td>NaN</td>\n",
              "      <td>NaN</td>\n",
              "      <td>NaN</td>\n",
              "      <td>NaN</td>\n",
              "      <td>NaN</td>\n",
              "      <td>NaN</td>\n",
              "      <td>NaN</td>\n",
              "      <td>NaN</td>\n",
              "      <td>NaN</td>\n",
              "      <td>NaN</td>\n",
              "    </tr>\n",
              "    <tr>\n",
              "      <th>4</th>\n",
              "      <td>15600.0</td>\n",
              "      <td>36 months</td>\n",
              "      <td>10.49</td>\n",
              "      <td>506.97</td>\n",
              "      <td>B</td>\n",
              "      <td>B3</td>\n",
              "      <td>Statistician</td>\n",
              "      <td>&lt; 1 year</td>\n",
              "      <td>RENT</td>\n",
              "      <td>43057</td>\n",
              "      <td>...</td>\n",
              "      <td>26.0</td>\n",
              "      <td>f</td>\n",
              "      <td>INDIVIDUAL</td>\n",
              "      <td>0</td>\n",
              "      <td>0</td>\n",
              "      <td>\"87025 Mark Dale Apt. 269</td>\n",
              "      <td>NaN</td>\n",
              "      <td>NaN</td>\n",
              "      <td>NaN</td>\n",
              "      <td>NaN</td>\n",
              "    </tr>\n",
              "  </tbody>\n",
              "</table>\n",
              "<p>5 rows × 31 columns</p>\n",
              "</div>\n",
              "      <button class=\"colab-df-convert\" onclick=\"convertToInteractive('df-54d0bc58-b84c-4a60-b0eb-3d6bce689b2a')\"\n",
              "              title=\"Convert this dataframe to an interactive table.\"\n",
              "              style=\"display:none;\">\n",
              "        \n",
              "  <svg xmlns=\"http://www.w3.org/2000/svg\" height=\"24px\"viewBox=\"0 0 24 24\"\n",
              "       width=\"24px\">\n",
              "    <path d=\"M0 0h24v24H0V0z\" fill=\"none\"/>\n",
              "    <path d=\"M18.56 5.44l.94 2.06.94-2.06 2.06-.94-2.06-.94-.94-2.06-.94 2.06-2.06.94zm-11 1L8.5 8.5l.94-2.06 2.06-.94-2.06-.94L8.5 2.5l-.94 2.06-2.06.94zm10 10l.94 2.06.94-2.06 2.06-.94-2.06-.94-.94-2.06-.94 2.06-2.06.94z\"/><path d=\"M17.41 7.96l-1.37-1.37c-.4-.4-.92-.59-1.43-.59-.52 0-1.04.2-1.43.59L10.3 9.45l-7.72 7.72c-.78.78-.78 2.05 0 2.83L4 21.41c.39.39.9.59 1.41.59.51 0 1.02-.2 1.41-.59l7.78-7.78 2.81-2.81c.8-.78.8-2.07 0-2.86zM5.41 20L4 18.59l7.72-7.72 1.47 1.35L5.41 20z\"/>\n",
              "  </svg>\n",
              "      </button>\n",
              "      \n",
              "  <style>\n",
              "    .colab-df-container {\n",
              "      display:flex;\n",
              "      flex-wrap:wrap;\n",
              "      gap: 12px;\n",
              "    }\n",
              "\n",
              "    .colab-df-convert {\n",
              "      background-color: #E8F0FE;\n",
              "      border: none;\n",
              "      border-radius: 50%;\n",
              "      cursor: pointer;\n",
              "      display: none;\n",
              "      fill: #1967D2;\n",
              "      height: 32px;\n",
              "      padding: 0 0 0 0;\n",
              "      width: 32px;\n",
              "    }\n",
              "\n",
              "    .colab-df-convert:hover {\n",
              "      background-color: #E2EBFA;\n",
              "      box-shadow: 0px 1px 2px rgba(60, 64, 67, 0.3), 0px 1px 3px 1px rgba(60, 64, 67, 0.15);\n",
              "      fill: #174EA6;\n",
              "    }\n",
              "\n",
              "    [theme=dark] .colab-df-convert {\n",
              "      background-color: #3B4455;\n",
              "      fill: #D2E3FC;\n",
              "    }\n",
              "\n",
              "    [theme=dark] .colab-df-convert:hover {\n",
              "      background-color: #434B5C;\n",
              "      box-shadow: 0px 1px 3px 1px rgba(0, 0, 0, 0.15);\n",
              "      filter: drop-shadow(0px 1px 2px rgba(0, 0, 0, 0.3));\n",
              "      fill: #FFFFFF;\n",
              "    }\n",
              "  </style>\n",
              "\n",
              "      <script>\n",
              "        const buttonEl =\n",
              "          document.querySelector('#df-54d0bc58-b84c-4a60-b0eb-3d6bce689b2a button.colab-df-convert');\n",
              "        buttonEl.style.display =\n",
              "          google.colab.kernel.accessAllowed ? 'block' : 'none';\n",
              "\n",
              "        async function convertToInteractive(key) {\n",
              "          const element = document.querySelector('#df-54d0bc58-b84c-4a60-b0eb-3d6bce689b2a');\n",
              "          const dataTable =\n",
              "            await google.colab.kernel.invokeFunction('convertToInteractive',\n",
              "                                                     [key], {});\n",
              "          if (!dataTable) return;\n",
              "\n",
              "          const docLinkHtml = 'Like what you see? Visit the ' +\n",
              "            '<a target=\"_blank\" href=https://colab.research.google.com/notebooks/data_table.ipynb>data table notebook</a>'\n",
              "            + ' to learn more about interactive tables.';\n",
              "          element.innerHTML = '';\n",
              "          dataTable['output_type'] = 'display_data';\n",
              "          await google.colab.output.renderOutput(dataTable, element);\n",
              "          const docLink = document.createElement('div');\n",
              "          docLink.innerHTML = docLinkHtml;\n",
              "          element.appendChild(docLink);\n",
              "        }\n",
              "      </script>\n",
              "    </div>\n",
              "  </div>\n",
              "  "
            ]
          },
          "metadata": {},
          "execution_count": 3
        }
      ]
    },
    {
      "cell_type": "code",
      "source": [
        "kisan1=kisan.iloc[0::2,0:27]\n",
        "kisan1.head()"
      ],
      "metadata": {
        "colab": {
          "base_uri": "https://localhost:8080/",
          "height": 508
        },
        "id": "p4doCiTRGceF",
        "outputId": "9aad1ea3-7d5e-4372-98e9-ea3b0315917b"
      },
      "execution_count": 4,
      "outputs": [
        {
          "output_type": "execute_result",
          "data": {
            "text/plain": [
              "  loan_amnt        term  int_rate  installment grade sub_grade  \\\n",
              "0   10000.0   36 months     11.44       329.48     B        B4   \n",
              "2    8000.0   36 months     11.99       265.68     B        B5   \n",
              "4   15600.0   36 months     10.49       506.97     B        B3   \n",
              "6    7200.0   36 months      6.49       220.65     A        A2   \n",
              "8   24375.0   60 months     17.27       609.33     C        C5   \n",
              "\n",
              "                 emp_title emp_length home_ownership annual_inc  ... open_acc  \\\n",
              "0                Marketing  10+ years           RENT     117000  ...       16   \n",
              "2          Credit analyst     4 years       MORTGAGE      65000  ...       17   \n",
              "4             Statistician   < 1 year           RENT      43057  ...       13   \n",
              "6          Client Advocate    6 years           RENT      54000  ...        6   \n",
              "8  Destiny Management Inc.    9 years       MORTGAGE      55000  ...       13   \n",
              "\n",
              "  pub_rec revol_bal revol_util total_acc initial_list_status application_type  \\\n",
              "0       0     36369       41.8      25.0                   w       INDIVIDUAL   \n",
              "2       0     20131       53.3      27.0                   f       INDIVIDUAL   \n",
              "4       0     11987       92.2      26.0                   f       INDIVIDUAL   \n",
              "6       0      5472       21.5      13.0                   f       INDIVIDUAL   \n",
              "8       0     24584       69.8      43.0                   f       INDIVIDUAL   \n",
              "\n",
              "  mort_acc pub_rec_bankruptcies                     address  \n",
              "0        0                    0      \"0174 Michelle Gateway  \n",
              "2        3                    0  \"1076 Carney Fort Apt. 347  \n",
              "4        0                    0   \"87025 Mark Dale Apt. 269  \n",
              "6        0                    0              \"823 Reid Ford  \n",
              "8        1                    0             \"679 Luna Roads  \n",
              "\n",
              "[5 rows x 27 columns]"
            ],
            "text/html": [
              "\n",
              "  <div id=\"df-d4573048-47ad-4804-ac3b-85da82cc9a29\">\n",
              "    <div class=\"colab-df-container\">\n",
              "      <div>\n",
              "<style scoped>\n",
              "    .dataframe tbody tr th:only-of-type {\n",
              "        vertical-align: middle;\n",
              "    }\n",
              "\n",
              "    .dataframe tbody tr th {\n",
              "        vertical-align: top;\n",
              "    }\n",
              "\n",
              "    .dataframe thead th {\n",
              "        text-align: right;\n",
              "    }\n",
              "</style>\n",
              "<table border=\"1\" class=\"dataframe\">\n",
              "  <thead>\n",
              "    <tr style=\"text-align: right;\">\n",
              "      <th></th>\n",
              "      <th>loan_amnt</th>\n",
              "      <th>term</th>\n",
              "      <th>int_rate</th>\n",
              "      <th>installment</th>\n",
              "      <th>grade</th>\n",
              "      <th>sub_grade</th>\n",
              "      <th>emp_title</th>\n",
              "      <th>emp_length</th>\n",
              "      <th>home_ownership</th>\n",
              "      <th>annual_inc</th>\n",
              "      <th>...</th>\n",
              "      <th>open_acc</th>\n",
              "      <th>pub_rec</th>\n",
              "      <th>revol_bal</th>\n",
              "      <th>revol_util</th>\n",
              "      <th>total_acc</th>\n",
              "      <th>initial_list_status</th>\n",
              "      <th>application_type</th>\n",
              "      <th>mort_acc</th>\n",
              "      <th>pub_rec_bankruptcies</th>\n",
              "      <th>address</th>\n",
              "    </tr>\n",
              "  </thead>\n",
              "  <tbody>\n",
              "    <tr>\n",
              "      <th>0</th>\n",
              "      <td>10000.0</td>\n",
              "      <td>36 months</td>\n",
              "      <td>11.44</td>\n",
              "      <td>329.48</td>\n",
              "      <td>B</td>\n",
              "      <td>B4</td>\n",
              "      <td>Marketing</td>\n",
              "      <td>10+ years</td>\n",
              "      <td>RENT</td>\n",
              "      <td>117000</td>\n",
              "      <td>...</td>\n",
              "      <td>16</td>\n",
              "      <td>0</td>\n",
              "      <td>36369</td>\n",
              "      <td>41.8</td>\n",
              "      <td>25.0</td>\n",
              "      <td>w</td>\n",
              "      <td>INDIVIDUAL</td>\n",
              "      <td>0</td>\n",
              "      <td>0</td>\n",
              "      <td>\"0174 Michelle Gateway</td>\n",
              "    </tr>\n",
              "    <tr>\n",
              "      <th>2</th>\n",
              "      <td>8000.0</td>\n",
              "      <td>36 months</td>\n",
              "      <td>11.99</td>\n",
              "      <td>265.68</td>\n",
              "      <td>B</td>\n",
              "      <td>B5</td>\n",
              "      <td>Credit analyst</td>\n",
              "      <td>4 years</td>\n",
              "      <td>MORTGAGE</td>\n",
              "      <td>65000</td>\n",
              "      <td>...</td>\n",
              "      <td>17</td>\n",
              "      <td>0</td>\n",
              "      <td>20131</td>\n",
              "      <td>53.3</td>\n",
              "      <td>27.0</td>\n",
              "      <td>f</td>\n",
              "      <td>INDIVIDUAL</td>\n",
              "      <td>3</td>\n",
              "      <td>0</td>\n",
              "      <td>\"1076 Carney Fort Apt. 347</td>\n",
              "    </tr>\n",
              "    <tr>\n",
              "      <th>4</th>\n",
              "      <td>15600.0</td>\n",
              "      <td>36 months</td>\n",
              "      <td>10.49</td>\n",
              "      <td>506.97</td>\n",
              "      <td>B</td>\n",
              "      <td>B3</td>\n",
              "      <td>Statistician</td>\n",
              "      <td>&lt; 1 year</td>\n",
              "      <td>RENT</td>\n",
              "      <td>43057</td>\n",
              "      <td>...</td>\n",
              "      <td>13</td>\n",
              "      <td>0</td>\n",
              "      <td>11987</td>\n",
              "      <td>92.2</td>\n",
              "      <td>26.0</td>\n",
              "      <td>f</td>\n",
              "      <td>INDIVIDUAL</td>\n",
              "      <td>0</td>\n",
              "      <td>0</td>\n",
              "      <td>\"87025 Mark Dale Apt. 269</td>\n",
              "    </tr>\n",
              "    <tr>\n",
              "      <th>6</th>\n",
              "      <td>7200.0</td>\n",
              "      <td>36 months</td>\n",
              "      <td>6.49</td>\n",
              "      <td>220.65</td>\n",
              "      <td>A</td>\n",
              "      <td>A2</td>\n",
              "      <td>Client Advocate</td>\n",
              "      <td>6 years</td>\n",
              "      <td>RENT</td>\n",
              "      <td>54000</td>\n",
              "      <td>...</td>\n",
              "      <td>6</td>\n",
              "      <td>0</td>\n",
              "      <td>5472</td>\n",
              "      <td>21.5</td>\n",
              "      <td>13.0</td>\n",
              "      <td>f</td>\n",
              "      <td>INDIVIDUAL</td>\n",
              "      <td>0</td>\n",
              "      <td>0</td>\n",
              "      <td>\"823 Reid Ford</td>\n",
              "    </tr>\n",
              "    <tr>\n",
              "      <th>8</th>\n",
              "      <td>24375.0</td>\n",
              "      <td>60 months</td>\n",
              "      <td>17.27</td>\n",
              "      <td>609.33</td>\n",
              "      <td>C</td>\n",
              "      <td>C5</td>\n",
              "      <td>Destiny Management Inc.</td>\n",
              "      <td>9 years</td>\n",
              "      <td>MORTGAGE</td>\n",
              "      <td>55000</td>\n",
              "      <td>...</td>\n",
              "      <td>13</td>\n",
              "      <td>0</td>\n",
              "      <td>24584</td>\n",
              "      <td>69.8</td>\n",
              "      <td>43.0</td>\n",
              "      <td>f</td>\n",
              "      <td>INDIVIDUAL</td>\n",
              "      <td>1</td>\n",
              "      <td>0</td>\n",
              "      <td>\"679 Luna Roads</td>\n",
              "    </tr>\n",
              "  </tbody>\n",
              "</table>\n",
              "<p>5 rows × 27 columns</p>\n",
              "</div>\n",
              "      <button class=\"colab-df-convert\" onclick=\"convertToInteractive('df-d4573048-47ad-4804-ac3b-85da82cc9a29')\"\n",
              "              title=\"Convert this dataframe to an interactive table.\"\n",
              "              style=\"display:none;\">\n",
              "        \n",
              "  <svg xmlns=\"http://www.w3.org/2000/svg\" height=\"24px\"viewBox=\"0 0 24 24\"\n",
              "       width=\"24px\">\n",
              "    <path d=\"M0 0h24v24H0V0z\" fill=\"none\"/>\n",
              "    <path d=\"M18.56 5.44l.94 2.06.94-2.06 2.06-.94-2.06-.94-.94-2.06-.94 2.06-2.06.94zm-11 1L8.5 8.5l.94-2.06 2.06-.94-2.06-.94L8.5 2.5l-.94 2.06-2.06.94zm10 10l.94 2.06.94-2.06 2.06-.94-2.06-.94-.94-2.06-.94 2.06-2.06.94z\"/><path d=\"M17.41 7.96l-1.37-1.37c-.4-.4-.92-.59-1.43-.59-.52 0-1.04.2-1.43.59L10.3 9.45l-7.72 7.72c-.78.78-.78 2.05 0 2.83L4 21.41c.39.39.9.59 1.41.59.51 0 1.02-.2 1.41-.59l7.78-7.78 2.81-2.81c.8-.78.8-2.07 0-2.86zM5.41 20L4 18.59l7.72-7.72 1.47 1.35L5.41 20z\"/>\n",
              "  </svg>\n",
              "      </button>\n",
              "      \n",
              "  <style>\n",
              "    .colab-df-container {\n",
              "      display:flex;\n",
              "      flex-wrap:wrap;\n",
              "      gap: 12px;\n",
              "    }\n",
              "\n",
              "    .colab-df-convert {\n",
              "      background-color: #E8F0FE;\n",
              "      border: none;\n",
              "      border-radius: 50%;\n",
              "      cursor: pointer;\n",
              "      display: none;\n",
              "      fill: #1967D2;\n",
              "      height: 32px;\n",
              "      padding: 0 0 0 0;\n",
              "      width: 32px;\n",
              "    }\n",
              "\n",
              "    .colab-df-convert:hover {\n",
              "      background-color: #E2EBFA;\n",
              "      box-shadow: 0px 1px 2px rgba(60, 64, 67, 0.3), 0px 1px 3px 1px rgba(60, 64, 67, 0.15);\n",
              "      fill: #174EA6;\n",
              "    }\n",
              "\n",
              "    [theme=dark] .colab-df-convert {\n",
              "      background-color: #3B4455;\n",
              "      fill: #D2E3FC;\n",
              "    }\n",
              "\n",
              "    [theme=dark] .colab-df-convert:hover {\n",
              "      background-color: #434B5C;\n",
              "      box-shadow: 0px 1px 3px 1px rgba(0, 0, 0, 0.15);\n",
              "      filter: drop-shadow(0px 1px 2px rgba(0, 0, 0, 0.3));\n",
              "      fill: #FFFFFF;\n",
              "    }\n",
              "  </style>\n",
              "\n",
              "      <script>\n",
              "        const buttonEl =\n",
              "          document.querySelector('#df-d4573048-47ad-4804-ac3b-85da82cc9a29 button.colab-df-convert');\n",
              "        buttonEl.style.display =\n",
              "          google.colab.kernel.accessAllowed ? 'block' : 'none';\n",
              "\n",
              "        async function convertToInteractive(key) {\n",
              "          const element = document.querySelector('#df-d4573048-47ad-4804-ac3b-85da82cc9a29');\n",
              "          const dataTable =\n",
              "            await google.colab.kernel.invokeFunction('convertToInteractive',\n",
              "                                                     [key], {});\n",
              "          if (!dataTable) return;\n",
              "\n",
              "          const docLinkHtml = 'Like what you see? Visit the ' +\n",
              "            '<a target=\"_blank\" href=https://colab.research.google.com/notebooks/data_table.ipynb>data table notebook</a>'\n",
              "            + ' to learn more about interactive tables.';\n",
              "          element.innerHTML = '';\n",
              "          dataTable['output_type'] = 'display_data';\n",
              "          await google.colab.output.renderOutput(dataTable, element);\n",
              "          const docLink = document.createElement('div');\n",
              "          docLink.innerHTML = docLinkHtml;\n",
              "          element.appendChild(docLink);\n",
              "        }\n",
              "      </script>\n",
              "    </div>\n",
              "  </div>\n",
              "  "
            ]
          },
          "metadata": {},
          "execution_count": 4
        }
      ]
    },
    {
      "cell_type": "markdown",
      "source": [
        "Exploratory Data Analysis"
      ],
      "metadata": {
        "id": "E-eBu9XmGnhv"
      }
    },
    {
      "cell_type": "code",
      "source": [
        "kisan1['loan_status'].value_counts()"
      ],
      "metadata": {
        "colab": {
          "base_uri": "https://localhost:8080/"
        },
        "id": "-ubs-gshGopN",
        "outputId": "2731f200-2123-440e-e203-a5a978c4f203"
      },
      "execution_count": 5,
      "outputs": [
        {
          "output_type": "execute_result",
          "data": {
            "text/plain": [
              "Fully Paid     78498\n",
              "Charged Off    19294\n",
              "Jun-13           125\n",
              "Aug-13           107\n",
              "May-13            99\n",
              "               ...  \n",
              "42000              1\n",
              "81090              1\n",
              "40000              1\n",
              "85000              1\n",
              "275000             1\n",
              "Name: loan_status, Length: 127, dtype: int64"
            ]
          },
          "metadata": {},
          "execution_count": 5
        }
      ]
    },
    {
      "cell_type": "code",
      "source": [
        "kisan2=kisan1[(kisan1['loan_status']=='Fully Paid')|((kisan1['loan_status']=='Charged Off'))]\n",
        "kisan2.shape"
      ],
      "metadata": {
        "colab": {
          "base_uri": "https://localhost:8080/"
        },
        "id": "X0QC1SjwGsp_",
        "outputId": "1bb150f3-dcc7-476f-8628-937369d07dbc"
      },
      "execution_count": 6,
      "outputs": [
        {
          "output_type": "execute_result",
          "data": {
            "text/plain": [
              "(97792, 27)"
            ]
          },
          "metadata": {},
          "execution_count": 6
        }
      ]
    },
    {
      "cell_type": "code",
      "source": [
        "kisan2.info()"
      ],
      "metadata": {
        "colab": {
          "base_uri": "https://localhost:8080/"
        },
        "id": "btpkYkwuGxs4",
        "outputId": "fe02b19e-5d5a-45f8-a827-2ae17abee378"
      },
      "execution_count": 7,
      "outputs": [
        {
          "output_type": "stream",
          "name": "stdout",
          "text": [
            "<class 'pandas.core.frame.DataFrame'>\n",
            "Int64Index: 97792 entries, 0 to 200488\n",
            "Data columns (total 27 columns):\n",
            " #   Column                Non-Null Count  Dtype  \n",
            "---  ------                --------------  -----  \n",
            " 0   loan_amnt             97792 non-null  object \n",
            " 1   term                  97792 non-null  object \n",
            " 2   int_rate              97792 non-null  float64\n",
            " 3   installment           97792 non-null  float64\n",
            " 4   grade                 97792 non-null  object \n",
            " 5   sub_grade             97792 non-null  object \n",
            " 6   emp_title             92061 non-null  object \n",
            " 7   emp_length            93190 non-null  object \n",
            " 8   home_ownership        97792 non-null  object \n",
            " 9   annual_inc            97792 non-null  object \n",
            " 10  verification_status   97792 non-null  object \n",
            " 11  issue_d               97792 non-null  object \n",
            " 12  loan_status           97792 non-null  object \n",
            " 13  purpose               97792 non-null  object \n",
            " 14  title                 97351 non-null  object \n",
            " 15  dti                   97792 non-null  object \n",
            " 16  earliest_cr_line      97792 non-null  object \n",
            " 17  open_acc              97792 non-null  object \n",
            " 18  pub_rec               97792 non-null  object \n",
            " 19  revol_bal             97792 non-null  object \n",
            " 20  revol_util            97723 non-null  float64\n",
            " 21  total_acc             97792 non-null  float64\n",
            " 22  initial_list_status   97792 non-null  object \n",
            " 23  application_type      97792 non-null  object \n",
            " 24  mort_acc              88924 non-null  object \n",
            " 25  pub_rec_bankruptcies  97607 non-null  object \n",
            " 26  address               97782 non-null  object \n",
            "dtypes: float64(4), object(23)\n",
            "memory usage: 20.9+ MB\n"
          ]
        }
      ]
    },
    {
      "cell_type": "code",
      "source": [
        "kisan2.isnull().sum()"
      ],
      "metadata": {
        "colab": {
          "base_uri": "https://localhost:8080/"
        },
        "id": "Ucyg0UlhG0z8",
        "outputId": "9606b307-8cce-480a-9d74-0aecd92e780b"
      },
      "execution_count": 8,
      "outputs": [
        {
          "output_type": "execute_result",
          "data": {
            "text/plain": [
              "loan_amnt                  0\n",
              "term                       0\n",
              "int_rate                   0\n",
              "installment                0\n",
              "grade                      0\n",
              "sub_grade                  0\n",
              "emp_title               5731\n",
              "emp_length              4602\n",
              "home_ownership             0\n",
              "annual_inc                 0\n",
              "verification_status        0\n",
              "issue_d                    0\n",
              "loan_status                0\n",
              "purpose                    0\n",
              "title                    441\n",
              "dti                        0\n",
              "earliest_cr_line           0\n",
              "open_acc                   0\n",
              "pub_rec                    0\n",
              "revol_bal                  0\n",
              "revol_util                69\n",
              "total_acc                  0\n",
              "initial_list_status        0\n",
              "application_type           0\n",
              "mort_acc                8868\n",
              "pub_rec_bankruptcies     185\n",
              "address                   10\n",
              "dtype: int64"
            ]
          },
          "metadata": {},
          "execution_count": 8
        }
      ]
    },
    {
      "cell_type": "markdown",
      "source": [
        "Barchart to represent percent of people who have taken loans for diferent terms and have either paid or defaulted"
      ],
      "metadata": {
        "id": "jpXjjHv-HDf_"
      }
    },
    {
      "cell_type": "code",
      "source": [
        "df=((kisan2.groupby(['loan_status','term']).size()*100)/kisan2.groupby('loan_status').size()).reset_index(name='percent')\n",
        "df.pivot(index='loan_status',columns='term',values='percent').plot.bar(stacked=True)\n",
        "plt.ylabel('Percent')\n",
        "plt.show()"
      ],
      "metadata": {
        "colab": {
          "base_uri": "https://localhost:8080/",
          "height": 331
        },
        "id": "lbrZa-mmHE3G",
        "outputId": "e0fc9947-8d3a-4392-db2b-0d812a98db0b"
      },
      "execution_count": 9,
      "outputs": [
        {
          "output_type": "display_data",
          "data": {
            "text/plain": [
              "<Figure size 432x288 with 1 Axes>"
            ],
            "image/png": "[encoded data removed]"
          },
          "metadata": {
            "needs_background": "light"
          }
        }
      ]
    },
    {
      "cell_type": "code",
      "source": [
        "import re\n",
        "pattern='[a-zA-Z]'\n",
        "cols=['loan_amnt','annual_inc','dti','revol_bal','mort_acc']\n",
        "for i in cols:\n",
        "    kisan2[i]=list(map(lambda x:'nan'if re.search(pattern,str(x))else x,kisan2[i]))\n",
        "    kisan2=kisan2[kisan2[i]!='nan']\n",
        "kisan2.shape"
      ],
      "metadata": {
        "colab": {
          "base_uri": "https://localhost:8080/"
        },
        "id": "Juw0YcwcG5kd",
        "outputId": "a843734d-ce82-4500-a194-3c57bb955275"
      },
      "execution_count": 10,
      "outputs": [
        {
          "output_type": "stream",
          "name": "stderr",
          "text": [
            "/usr/local/lib/python3.7/dist-packages/ipykernel_launcher.py:5: SettingWithCopyWarning: \n",
            "A value is trying to be set on a copy of a slice from a DataFrame.\n",
            "Try using .loc[row_indexer,col_indexer] = value instead\n",
            "\n",
            "See the caveats in the documentation: https://pandas.pydata.org/pandas-docs/stable/user_guide/indexing.html#returning-a-view-versus-a-copy\n",
            "  \"\"\"\n"
          ]
        },
        {
          "output_type": "execute_result",
          "data": {
            "text/plain": [
              "(88741, 27)"
            ]
          },
          "metadata": {},
          "execution_count": 10
        }
      ]
    },
    {
      "cell_type": "code",
      "source": [
        "cols=['loan_amnt','int_rate','installment','annual_inc','dti',\n",
        " 'revol_bal','revol_util']\n",
        "for i in cols:\n",
        " kisan2[i]=list(map(lambda x:float(x),kisan2[i]))\n",
        "kisan2.info()"
      ],
      "metadata": {
        "colab": {
          "base_uri": "https://localhost:8080/"
        },
        "id": "zhCA7mF-HMuO",
        "outputId": "c2ea873f-1263-480a-cbd6-3a2adf9692fd"
      },
      "execution_count": 11,
      "outputs": [
        {
          "output_type": "stream",
          "name": "stdout",
          "text": [
            "<class 'pandas.core.frame.DataFrame'>\n",
            "Int64Index: 88741 entries, 0 to 200488\n",
            "Data columns (total 27 columns):\n",
            " #   Column                Non-Null Count  Dtype  \n",
            "---  ------                --------------  -----  \n",
            " 0   loan_amnt             88741 non-null  float64\n",
            " 1   term                  88741 non-null  object \n",
            " 2   int_rate              88741 non-null  float64\n",
            " 3   installment           88741 non-null  float64\n",
            " 4   grade                 88741 non-null  object \n",
            " 5   sub_grade             88741 non-null  object \n",
            " 6   emp_title             83607 non-null  object \n",
            " 7   emp_length            84403 non-null  object \n",
            " 8   home_ownership        88741 non-null  object \n",
            " 9   annual_inc            88741 non-null  float64\n",
            " 10  verification_status   88741 non-null  object \n",
            " 11  issue_d               88741 non-null  object \n",
            " 12  loan_status           88741 non-null  object \n",
            " 13  purpose               88741 non-null  object \n",
            " 14  title                 88302 non-null  object \n",
            " 15  dti                   88741 non-null  float64\n",
            " 16  earliest_cr_line      88741 non-null  object \n",
            " 17  open_acc              88741 non-null  object \n",
            " 18  pub_rec               88741 non-null  object \n",
            " 19  revol_bal             88741 non-null  float64\n",
            " 20  revol_util            88684 non-null  float64\n",
            " 21  total_acc             88741 non-null  float64\n",
            " 22  initial_list_status   88741 non-null  object \n",
            " 23  application_type      88741 non-null  object \n",
            " 24  mort_acc              88741 non-null  object \n",
            " 25  pub_rec_bankruptcies  88741 non-null  object \n",
            " 26  address               88741 non-null  object \n",
            "dtypes: float64(8), object(19)\n",
            "memory usage: 19.0+ MB\n"
          ]
        }
      ]
    },
    {
      "cell_type": "code",
      "source": [
        "kisan2['title'].value_counts()"
      ],
      "metadata": {
        "colab": {
          "base_uri": "https://localhost:8080/"
        },
        "id": "EkChlhFhHS1e",
        "outputId": "986a20c1-d351-4adb-95a2-97d8188a7904"
      },
      "execution_count": 12,
      "outputs": [
        {
          "output_type": "execute_result",
          "data": {
            "text/plain": [
              "Debt consolidation                  37962\n",
              "Credit card refinancing             12970\n",
              "Home improvement                     3865\n",
              "Other                                3179\n",
              "Debt Consolidation                   2191\n",
              "                                    ...  \n",
              "Credit Card and Medical Expenses        1\n",
              "Home remodeling                         1\n",
              "Getting a relief                        1\n",
              "PayOffs For Good                        1\n",
              "Credit card paid off                    1\n",
              "Name: title, Length: 10289, dtype: int64"
            ]
          },
          "metadata": {},
          "execution_count": 12
        }
      ]
    },
    {
      "cell_type": "code",
      "source": [
        "kisan2['purpose'].value_counts()"
      ],
      "metadata": {
        "colab": {
          "base_uri": "https://localhost:8080/"
        },
        "id": "EYNJjpbNHYOg",
        "outputId": "ef232b90-fcf7-4b36-d1fc-c68ed5c3c9ad"
      },
      "execution_count": 13,
      "outputs": [
        {
          "output_type": "execute_result",
          "data": {
            "text/plain": [
              "debt_consolidation    53511\n",
              "credit_card           19352\n",
              "home_improvement       5359\n",
              "other                  4275\n",
              "major_purchase         1723\n",
              "small_business          939\n",
              "medical                 889\n",
              "car                     808\n",
              "moving                  599\n",
              "vacation                549\n",
              "house                   468\n",
              "wedding                 215\n",
              "renewable_energy         53\n",
              "educational               1\n",
              "Name: purpose, dtype: int64"
            ]
          },
          "metadata": {},
          "execution_count": 13
        }
      ]
    },
    {
      "cell_type": "markdown",
      "source": [
        "Boxplot for Loan Status and Loan Amount"
      ],
      "metadata": {
        "id": "vwFp4ddwHiM2"
      }
    },
    {
      "cell_type": "code",
      "source": [
        "kisan2.boxplot(by='loan_status',column='loan_amnt',figsize=(10,10))\n",
        "plt.xlabel('Loan_Status')\n",
        "plt.ylabel('Loan Amount')\n",
        "plt.show()"
      ],
      "metadata": {
        "colab": {
          "base_uri": "https://localhost:8080/",
          "height": 715
        },
        "id": "Mrt-eeC3HjBN",
        "outputId": "6d8e76cd-0731-463e-fdd5-ea817e2b2d82"
      },
      "execution_count": 14,
      "outputs": [
        {
          "output_type": "stream",
          "name": "stderr",
          "text": [
            "/usr/local/lib/python3.7/dist-packages/matplotlib/cbook/__init__.py:1376: VisibleDeprecationWarning: Creating an ndarray from ragged nested sequences (which is a list-or-tuple of lists-or-tuples-or ndarrays with different lengths or shapes) is deprecated. If you meant to do this, you must specify 'dtype=object' when creating the ndarray.\n",
            "  X = np.atleast_1d(X.T if isinstance(X, np.ndarray) else np.asarray(X))\n"
          ]
        },
        {
          "output_type": "display_data",
          "data": {
            "text/plain": [
              "<Figure size 720x720 with 1 Axes>"
            ],
            "image/png": "[encoded data removed]"
          },
          "metadata": {
            "needs_background": "light"
          }
        }
      ]
    },
    {
      "cell_type": "markdown",
      "source": [
        "Boxplot For Loan Status and Annual Income"
      ],
      "metadata": {
        "id": "EwFgMyQiHsjB"
      }
    },
    {
      "cell_type": "code",
      "source": [
        "kisan2.boxplot(by='loan_status',column='annual_inc',figsize=(15,10))\n",
        "plt.xlabel('Loan_Status')\n",
        "plt.ylabel('Annual Income')\n",
        "plt.show()"
      ],
      "metadata": {
        "colab": {
          "base_uri": "https://localhost:8080/",
          "height": 715
        },
        "id": "KJwEf_L2HtUK",
        "outputId": "3ea28eb4-21e8-42b0-dabb-a20e70f32970"
      },
      "execution_count": 15,
      "outputs": [
        {
          "output_type": "stream",
          "name": "stderr",
          "text": [
            "/usr/local/lib/python3.7/dist-packages/matplotlib/cbook/__init__.py:1376: VisibleDeprecationWarning: Creating an ndarray from ragged nested sequences (which is a list-or-tuple of lists-or-tuples-or ndarrays with different lengths or shapes) is deprecated. If you meant to do this, you must specify 'dtype=object' when creating the ndarray.\n",
            "  X = np.atleast_1d(X.T if isinstance(X, np.ndarray) else np.asarray(X))\n"
          ]
        },
        {
          "output_type": "display_data",
          "data": {
            "text/plain": [
              "<Figure size 1080x720 with 1 Axes>"
            ],
            "image/png": "[encoded data removed]"
          },
          "metadata": {
            "needs_background": "light"
          }
        }
      ]
    },
    {
      "cell_type": "markdown",
      "source": [
        "Aggregating Purpose into Debt_Consolidation,Credit_Card and Others"
      ],
      "metadata": {
        "id": "g8MGyDjWH31-"
      }
    },
    {
      "cell_type": "code",
      "source": [
        "z=['debt_consolidation','credit_card']\n",
        "kisan2['purpose']=list(map(lambda x:x if x in z else 'others',kisan2['purpose']))\n",
        "kisan2['purpose'].value_counts()"
      ],
      "metadata": {
        "colab": {
          "base_uri": "https://localhost:8080/"
        },
        "id": "X-hoaB1_H442",
        "outputId": "31ed5fff-0945-436a-88b9-b0d1c916205c"
      },
      "execution_count": 16,
      "outputs": [
        {
          "output_type": "execute_result",
          "data": {
            "text/plain": [
              "debt_consolidation    53511\n",
              "credit_card           19352\n",
              "others                15878\n",
              "Name: purpose, dtype: int64"
            ]
          },
          "metadata": {},
          "execution_count": 16
        }
      ]
    },
    {
      "cell_type": "code",
      "source": [
        "df=((kisan2.groupby(['loan_status', 'purpose']).size()/kisan2.groupby('loan_status').size())*100).reset_index(name='percent')\n",
        "df.pivot(index='loan_status',columns='purpose',values='percent').plot.barh(stacked=True)\n",
        "plt.show()"
      ],
      "metadata": {
        "colab": {
          "base_uri": "https://localhost:8080/",
          "height": 265
        },
        "id": "1MQtcOztHw18",
        "outputId": "d3284ca8-0ae8-4333-b983-9fbc140a337b"
      },
      "execution_count": 17,
      "outputs": [
        {
          "output_type": "display_data",
          "data": {
            "text/plain": [
              "<Figure size 432x288 with 1 Axes>"
            ],
            "image/png": "[encoded data removed]"
          },
          "metadata": {
            "needs_background": "light"
          }
        }
      ]
    },
    {
      "cell_type": "code",
      "source": [
        "kisan2['home_ownership'].value_counts()"
      ],
      "metadata": {
        "colab": {
          "base_uri": "https://localhost:8080/"
        },
        "id": "WVi7CPnuH_wS",
        "outputId": "58568c32-05d4-4a0c-bf6b-0303bc4297b6"
      },
      "execution_count": 18,
      "outputs": [
        {
          "output_type": "execute_result",
          "data": {
            "text/plain": [
              "MORTGAGE    45023\n",
              "RENT        35083\n",
              "OWN          8613\n",
              "OTHER          13\n",
              "NONE            7\n",
              "ANY             2\n",
              "Name: home_ownership, dtype: int64"
            ]
          },
          "metadata": {},
          "execution_count": 18
        }
      ]
    },
    {
      "cell_type": "markdown",
      "source": [
        "Aggregating home_ownership into Mortgage,Rent and Others"
      ],
      "metadata": {
        "id": "ubZaQ_guII--"
      }
    },
    {
      "cell_type": "code",
      "source": [
        "z=['MORTGAGE','RENT']\n",
        "kisan2['home_ownership']=list(map(lambda x:x if x in z else 'OTHERS',kisan2['home_ownership']))\n",
        "kisan2['home_ownership'].value_counts()"
      ],
      "metadata": {
        "colab": {
          "base_uri": "https://localhost:8080/"
        },
        "id": "Kaz8nwSLIJsL",
        "outputId": "2e6b2cd0-abc4-4b40-e684-6f494586fd36"
      },
      "execution_count": 19,
      "outputs": [
        {
          "output_type": "execute_result",
          "data": {
            "text/plain": [
              "MORTGAGE    45023\n",
              "RENT        35083\n",
              "OTHERS       8635\n",
              "Name: home_ownership, dtype: int64"
            ]
          },
          "metadata": {},
          "execution_count": 19
        }
      ]
    },
    {
      "cell_type": "code",
      "source": [
        "df=((kisan2.groupby(['loan_status', 'home_ownership']).size()/kisan2.groupby('loan_status').size())*100).reset_index(name='percent')\n",
        "df.pivot(index='loan_status',columns='home_ownership',values='percent').plot.barh(stacked=True)\n",
        "plt.show()"
      ],
      "metadata": {
        "colab": {
          "base_uri": "https://localhost:8080/",
          "height": 265
        },
        "id": "gl4CLxAUIDlw",
        "outputId": "d57751bc-d3d5-4c1a-cde1-99022b318634"
      },
      "execution_count": 20,
      "outputs": [
        {
          "output_type": "display_data",
          "data": {
            "text/plain": [
              "<Figure size 432x288 with 1 Axes>"
            ],
            "image/png": "[encoded data removed]"
          },
          "metadata": {
            "needs_background": "light"
          }
        }
      ]
    },
    {
      "cell_type": "code",
      "source": [
        "kisan2['verification_status'].value_counts()"
      ],
      "metadata": {
        "colab": {
          "base_uri": "https://localhost:8080/"
        },
        "id": "SwGZLkf8ITK-",
        "outputId": "5ffc59f4-b227-4c8b-b711-f25631e12ca3"
      },
      "execution_count": 21,
      "outputs": [
        {
          "output_type": "execute_result",
          "data": {
            "text/plain": [
              "Verified           31144\n",
              "Source Verified    30265\n",
              "Not Verified       27332\n",
              "Name: verification_status, dtype: int64"
            ]
          },
          "metadata": {},
          "execution_count": 21
        }
      ]
    },
    {
      "cell_type": "code",
      "source": [
        "values=['Verified','Not Verified']\n",
        "kisan2['verification_status']=list(map(lambda x:x if x in values else 'Verified',kisan2['verification_status']))\n",
        "kisan2['verification_status'].value_counts()"
      ],
      "metadata": {
        "colab": {
          "base_uri": "https://localhost:8080/"
        },
        "id": "z644_2R7IZoT",
        "outputId": "b89d0799-9f3f-4f16-ae01-028e5c0fc01e"
      },
      "execution_count": 22,
      "outputs": [
        {
          "output_type": "execute_result",
          "data": {
            "text/plain": [
              "Verified        61409\n",
              "Not Verified    27332\n",
              "Name: verification_status, dtype: int64"
            ]
          },
          "metadata": {},
          "execution_count": 22
        }
      ]
    },
    {
      "cell_type": "code",
      "source": [
        "kisan2['pub_rec'].value_counts()"
      ],
      "metadata": {
        "colab": {
          "base_uri": "https://localhost:8080/"
        },
        "id": "4wLPKJu2IX70",
        "outputId": "aa154c72-f71a-4dfd-d497-d8b2d1652900"
      },
      "execution_count": 23,
      "outputs": [
        {
          "output_type": "execute_result",
          "data": {
            "text/plain": [
              "0     74769\n",
              "1     11950\n",
              "2      1393\n",
              "3       360\n",
              "4       147\n",
              "5        63\n",
              "6        27\n",
              "8        15\n",
              "7         8\n",
              "10        3\n",
              "9         2\n",
              "11        2\n",
              "19        1\n",
              "13        1\n",
              "Name: pub_rec, dtype: int64"
            ]
          },
          "metadata": {},
          "execution_count": 23
        }
      ]
    },
    {
      "cell_type": "code",
      "source": [
        "kisan2['pub_rec'].isnull().sum()"
      ],
      "metadata": {
        "colab": {
          "base_uri": "https://localhost:8080/"
        },
        "id": "IGKGB9K1IhV6",
        "outputId": "5abf4ff6-3c00-4a84-8fb9-f8b244e39dd2"
      },
      "execution_count": 24,
      "outputs": [
        {
          "output_type": "execute_result",
          "data": {
            "text/plain": [
              "0"
            ]
          },
          "metadata": {},
          "execution_count": 24
        }
      ]
    },
    {
      "cell_type": "code",
      "source": [
        "kisan2.info()"
      ],
      "metadata": {
        "colab": {
          "base_uri": "https://localhost:8080/"
        },
        "id": "FNxyNNIfIu-N",
        "outputId": "e2ac6893-0182-4e55-886d-24baffd2c663"
      },
      "execution_count": 25,
      "outputs": [
        {
          "output_type": "stream",
          "name": "stdout",
          "text": [
            "<class 'pandas.core.frame.DataFrame'>\n",
            "Int64Index: 88741 entries, 0 to 200488\n",
            "Data columns (total 27 columns):\n",
            " #   Column                Non-Null Count  Dtype  \n",
            "---  ------                --------------  -----  \n",
            " 0   loan_amnt             88741 non-null  float64\n",
            " 1   term                  88741 non-null  object \n",
            " 2   int_rate              88741 non-null  float64\n",
            " 3   installment           88741 non-null  float64\n",
            " 4   grade                 88741 non-null  object \n",
            " 5   sub_grade             88741 non-null  object \n",
            " 6   emp_title             83607 non-null  object \n",
            " 7   emp_length            84403 non-null  object \n",
            " 8   home_ownership        88741 non-null  object \n",
            " 9   annual_inc            88741 non-null  float64\n",
            " 10  verification_status   88741 non-null  object \n",
            " 11  issue_d               88741 non-null  object \n",
            " 12  loan_status           88741 non-null  object \n",
            " 13  purpose               88741 non-null  object \n",
            " 14  title                 88302 non-null  object \n",
            " 15  dti                   88741 non-null  float64\n",
            " 16  earliest_cr_line      88741 non-null  object \n",
            " 17  open_acc              88741 non-null  object \n",
            " 18  pub_rec               88741 non-null  object \n",
            " 19  revol_bal             88741 non-null  float64\n",
            " 20  revol_util            88684 non-null  float64\n",
            " 21  total_acc             88741 non-null  float64\n",
            " 22  initial_list_status   88741 non-null  object \n",
            " 23  application_type      88741 non-null  object \n",
            " 24  mort_acc              88741 non-null  object \n",
            " 25  pub_rec_bankruptcies  88741 non-null  object \n",
            " 26  address               88741 non-null  object \n",
            "dtypes: float64(8), object(19)\n",
            "memory usage: 19.0+ MB\n"
          ]
        }
      ]
    },
    {
      "cell_type": "code",
      "source": [
        "kisan2['pub_rec']=list(map(lambda x:x if x=='0' else '1',kisan2['pub_rec']))\n",
        "kisan2['pub_rec'].value_counts()"
      ],
      "metadata": {
        "colab": {
          "base_uri": "https://localhost:8080/"
        },
        "id": "0uboR3zNIxep",
        "outputId": "1a07b551-433a-40cb-e1bb-b3a6618baa72"
      },
      "execution_count": 26,
      "outputs": [
        {
          "output_type": "execute_result",
          "data": {
            "text/plain": [
              "0    74769\n",
              "1    13972\n",
              "Name: pub_rec, dtype: int64"
            ]
          },
          "metadata": {},
          "execution_count": 26
        }
      ]
    },
    {
      "cell_type": "code",
      "source": [
        "kisan2['pub_rec']=list(map(lambda x:int(x),kisan2['pub_rec']))\n",
        "kisan2['pub_rec'].value_counts()"
      ],
      "metadata": {
        "colab": {
          "base_uri": "https://localhost:8080/"
        },
        "id": "tvewf1LNI3oH",
        "outputId": "b9f4449c-949b-420e-8cb4-e60cc2ae138a"
      },
      "execution_count": 27,
      "outputs": [
        {
          "output_type": "execute_result",
          "data": {
            "text/plain": [
              "0    74769\n",
              "1    13972\n",
              "Name: pub_rec, dtype: int64"
            ]
          },
          "metadata": {},
          "execution_count": 27
        }
      ]
    },
    {
      "cell_type": "code",
      "source": [
        "kisan2.info()"
      ],
      "metadata": {
        "colab": {
          "base_uri": "https://localhost:8080/"
        },
        "id": "WTOjVhS5I6oa",
        "outputId": "4a0e8b88-3d14-4d7d-a0bb-314769a43def"
      },
      "execution_count": 28,
      "outputs": [
        {
          "output_type": "stream",
          "name": "stdout",
          "text": [
            "<class 'pandas.core.frame.DataFrame'>\n",
            "Int64Index: 88741 entries, 0 to 200488\n",
            "Data columns (total 27 columns):\n",
            " #   Column                Non-Null Count  Dtype  \n",
            "---  ------                --------------  -----  \n",
            " 0   loan_amnt             88741 non-null  float64\n",
            " 1   term                  88741 non-null  object \n",
            " 2   int_rate              88741 non-null  float64\n",
            " 3   installment           88741 non-null  float64\n",
            " 4   grade                 88741 non-null  object \n",
            " 5   sub_grade             88741 non-null  object \n",
            " 6   emp_title             83607 non-null  object \n",
            " 7   emp_length            84403 non-null  object \n",
            " 8   home_ownership        88741 non-null  object \n",
            " 9   annual_inc            88741 non-null  float64\n",
            " 10  verification_status   88741 non-null  object \n",
            " 11  issue_d               88741 non-null  object \n",
            " 12  loan_status           88741 non-null  object \n",
            " 13  purpose               88741 non-null  object \n",
            " 14  title                 88302 non-null  object \n",
            " 15  dti                   88741 non-null  float64\n",
            " 16  earliest_cr_line      88741 non-null  object \n",
            " 17  open_acc              88741 non-null  object \n",
            " 18  pub_rec               88741 non-null  int64  \n",
            " 19  revol_bal             88741 non-null  float64\n",
            " 20  revol_util            88684 non-null  float64\n",
            " 21  total_acc             88741 non-null  float64\n",
            " 22  initial_list_status   88741 non-null  object \n",
            " 23  application_type      88741 non-null  object \n",
            " 24  mort_acc              88741 non-null  object \n",
            " 25  pub_rec_bankruptcies  88741 non-null  object \n",
            " 26  address               88741 non-null  object \n",
            "dtypes: float64(8), int64(1), object(18)\n",
            "memory usage: 19.0+ MB\n"
          ]
        }
      ]
    },
    {
      "cell_type": "code",
      "source": [
        "kisan2['term'].value_counts()"
      ],
      "metadata": {
        "colab": {
          "base_uri": "https://localhost:8080/"
        },
        "id": "aDERqQWJI_Qh",
        "outputId": "666ecb42-8cd4-4c5b-afeb-0f35c148ed3c"
      },
      "execution_count": 29,
      "outputs": [
        {
          "output_type": "execute_result",
          "data": {
            "text/plain": [
              " 36 months    67798\n",
              " 60 months    20943\n",
              "Name: term, dtype: int64"
            ]
          },
          "metadata": {},
          "execution_count": 29
        }
      ]
    },
    {
      "cell_type": "code",
      "source": [
        "kisan2['is_36mnths']=list(map(lambda x:1 if x==' 36 months'else 0,kisan2['term']))\n",
        "kisan2['is_36mnths'].value_counts()"
      ],
      "metadata": {
        "colab": {
          "base_uri": "https://localhost:8080/"
        },
        "id": "1ivH3AoeJEQY",
        "outputId": "6b7eb518-a68f-4c71-a407-6ab300ff404f"
      },
      "execution_count": 30,
      "outputs": [
        {
          "output_type": "execute_result",
          "data": {
            "text/plain": [
              "1    67798\n",
              "0    20943\n",
              "Name: is_36mnths, dtype: int64"
            ]
          },
          "metadata": {},
          "execution_count": 30
        }
      ]
    },
    {
      "cell_type": "code",
      "source": [
        "kisan2['is_verified']=list(map(lambda x:1 if x=='Verified'else 0,kisan2['verification_status']))\n",
        "kisan2['is_verified'].value_counts()"
      ],
      "metadata": {
        "colab": {
          "base_uri": "https://localhost:8080/"
        },
        "id": "6vAIg8P0JG_o",
        "outputId": "6ab8d36a-d955-4a76-c4d9-118038238fac"
      },
      "execution_count": 31,
      "outputs": [
        {
          "output_type": "execute_result",
          "data": {
            "text/plain": [
              "1    61409\n",
              "0    27332\n",
              "Name: is_verified, dtype: int64"
            ]
          },
          "metadata": {},
          "execution_count": 31
        }
      ]
    },
    {
      "cell_type": "code",
      "source": [
        "df=((kisan2.groupby(['grade','loan_status']).size()*100)/kisan2.groupby('grade').size()).reset_index(name='percent')\n",
        "df.pivot(index='grade',columns='loan_status',values='percent').plot.bar()\n",
        "plt.ylabel('Percent')\n",
        "plt.title('Grades vs Loan_Status')\n",
        "plt.show()"
      ],
      "metadata": {
        "colab": {
          "base_uri": "https://localhost:8080/",
          "height": 293
        },
        "id": "3GKJyZMtJMci",
        "outputId": "5292a234-80fd-4ff5-a4d5-4decaa31b4c8"
      },
      "execution_count": 32,
      "outputs": [
        {
          "output_type": "display_data",
          "data": {
            "text/plain": [
              "<Figure size 432x288 with 1 Axes>"
            ],
            "image/png": "[encoded data removed]"
          },
          "metadata": {
            "needs_background": "light"
          }
        }
      ]
    },
    {
      "cell_type": "code",
      "source": [
        "kisan2=pd.get_dummies(kisan2,columns=['home_ownership','purpose'],drop_first=True)\n",
        "kisan2"
      ],
      "metadata": {
        "colab": {
          "base_uri": "https://localhost:8080/",
          "height": 904
        },
        "id": "ZCp3Cor_JQ7u",
        "outputId": "ae59e5ee-d301-4b1d-c7ba-d5d6b13654d2"
      },
      "execution_count": 33,
      "outputs": [
        {
          "output_type": "execute_result",
          "data": {
            "text/plain": [
              "        loan_amnt        term  int_rate  installment grade sub_grade  \\\n",
              "0         10000.0   36 months     11.44       329.48     B        B4   \n",
              "2          8000.0   36 months     11.99       265.68     B        B5   \n",
              "4         15600.0   36 months     10.49       506.97     B        B3   \n",
              "6          7200.0   36 months      6.49       220.65     A        A2   \n",
              "8         24375.0   60 months     17.27       609.33     C        C5   \n",
              "...           ...         ...       ...          ...   ...       ...   \n",
              "200480    15450.0   36 months      7.90       483.44     A        A4   \n",
              "200482    15000.0   36 months     12.29       500.30     C        C1   \n",
              "200484     6000.0   36 months      9.99       193.58     B        B3   \n",
              "200486     5000.0   36 months     13.53       169.75     B        B5   \n",
              "200488    15000.0   36 months     14.30       514.86     C        C1   \n",
              "\n",
              "                      emp_title emp_length  annual_inc verification_status  \\\n",
              "0                     Marketing  10+ years    117000.0        Not Verified   \n",
              "2               Credit analyst     4 years     65000.0        Not Verified   \n",
              "4                  Statistician   < 1 year     43057.0            Verified   \n",
              "6               Client Advocate    6 years     54000.0        Not Verified   \n",
              "8       Destiny Management Inc.    9 years     55000.0            Verified   \n",
              "...                         ...        ...         ...                 ...   \n",
              "200480          Law enforcement    2 years     42000.0        Not Verified   \n",
              "200482                      NaN        NaN     60000.0            Verified   \n",
              "200484                      NaN        NaN     16980.0            Verified   \n",
              "200486           Deputy sheriff  10+ years     43000.0            Verified   \n",
              "200488                      Fad    5 years     44000.0            Verified   \n",
              "\n",
              "        ... application_type mort_acc pub_rec_bankruptcies  \\\n",
              "0       ...       INDIVIDUAL        0                    0   \n",
              "2       ...       INDIVIDUAL        3                    0   \n",
              "4       ...       INDIVIDUAL        0                    0   \n",
              "6       ...       INDIVIDUAL        0                    0   \n",
              "8       ...       INDIVIDUAL        1                    0   \n",
              "...     ...              ...      ...                  ...   \n",
              "200480  ...       INDIVIDUAL        0                    0   \n",
              "200482  ...       INDIVIDUAL        0                    0   \n",
              "200484  ...       INDIVIDUAL        0                    1   \n",
              "200486  ...       INDIVIDUAL        4                    0   \n",
              "200488  ...       INDIVIDUAL        0                    1   \n",
              "\n",
              "                               address is_36mnths is_verified  \\\n",
              "0               \"0174 Michelle Gateway          1           0   \n",
              "2           \"1076 Carney Fort Apt. 347          1           0   \n",
              "4            \"87025 Mark Dale Apt. 269          1           1   \n",
              "6                       \"823 Reid Ford          1           0   \n",
              "8                      \"679 Luna Roads          0           1   \n",
              "...                                ...        ...         ...   \n",
              "200480                 \"927 Brady Rest          1           0   \n",
              "200482            \"10095 Moore Parkway          1           1   \n",
              "200484      \"476 Rivera Fall Suite 495          1           1   \n",
              "200486                 \"USCGC Martinez          1           1   \n",
              "200488  \"92221 Miller Estates Apt. 068          1           1   \n",
              "\n",
              "        home_ownership_OTHERS  home_ownership_RENT  \\\n",
              "0                           0                    1   \n",
              "2                           0                    0   \n",
              "4                           0                    1   \n",
              "6                           0                    1   \n",
              "8                           0                    0   \n",
              "...                       ...                  ...   \n",
              "200480                      1                    0   \n",
              "200482                      1                    0   \n",
              "200484                      1                    0   \n",
              "200486                      0                    0   \n",
              "200488                      0                    1   \n",
              "\n",
              "        purpose_debt_consolidation  purpose_others  \n",
              "0                                0               1  \n",
              "2                                1               0  \n",
              "4                                0               0  \n",
              "6                                0               0  \n",
              "8                                0               0  \n",
              "...                            ...             ...  \n",
              "200480                           1               0  \n",
              "200482                           1               0  \n",
              "200484                           1               0  \n",
              "200486                           0               1  \n",
              "200488                           0               0  \n",
              "\n",
              "[88741 rows x 31 columns]"
            ],
            "text/html": [
              "\n",
              "  <div id=\"df-a0e78a7a-a3f2-4596-9e61-56c0584b59b4\">\n",
              "    <div class=\"colab-df-container\">\n",
              "      <div>\n",
              "<style scoped>\n",
              "    .dataframe tbody tr th:only-of-type {\n",
              "        vertical-align: middle;\n",
              "    }\n",
              "\n",
              "    .dataframe tbody tr th {\n",
              "        vertical-align: top;\n",
              "    }\n",
              "\n",
              "    .dataframe thead th {\n",
              "        text-align: right;\n",
              "    }\n",
              "</style>\n",
              "<table border=\"1\" class=\"dataframe\">\n",
              "  <thead>\n",
              "    <tr style=\"text-align: right;\">\n",
              "      <th></th>\n",
              "      <th>loan_amnt</th>\n",
              "      <th>term</th>\n",
              "      <th>int_rate</th>\n",
              "      <th>installment</th>\n",
              "      <th>grade</th>\n",
              "      <th>sub_grade</th>\n",
              "      <th>emp_title</th>\n",
              "      <th>emp_length</th>\n",
              "      <th>annual_inc</th>\n",
              "      <th>verification_status</th>\n",
              "      <th>...</th>\n",
              "      <th>application_type</th>\n",
              "      <th>mort_acc</th>\n",
              "      <th>pub_rec_bankruptcies</th>\n",
              "      <th>address</th>\n",
              "      <th>is_36mnths</th>\n",
              "      <th>is_verified</th>\n",
              "      <th>home_ownership_OTHERS</th>\n",
              "      <th>home_ownership_RENT</th>\n",
              "      <th>purpose_debt_consolidation</th>\n",
              "      <th>purpose_others</th>\n",
              "    </tr>\n",
              "  </thead>\n",
              "  <tbody>\n",
              "    <tr>\n",
              "      <th>0</th>\n",
              "      <td>10000.0</td>\n",
              "      <td>36 months</td>\n",
              "      <td>11.44</td>\n",
              "      <td>329.48</td>\n",
              "      <td>B</td>\n",
              "      <td>B4</td>\n",
              "      <td>Marketing</td>\n",
              "      <td>10+ years</td>\n",
              "      <td>117000.0</td>\n",
              "      <td>Not Verified</td>\n",
              "      <td>...</td>\n",
              "      <td>INDIVIDUAL</td>\n",
              "      <td>0</td>\n",
              "      <td>0</td>\n",
              "      <td>\"0174 Michelle Gateway</td>\n",
              "      <td>1</td>\n",
              "      <td>0</td>\n",
              "      <td>0</td>\n",
              "      <td>1</td>\n",
              "      <td>0</td>\n",
              "      <td>1</td>\n",
              "    </tr>\n",
              "    <tr>\n",
              "      <th>2</th>\n",
              "      <td>8000.0</td>\n",
              "      <td>36 months</td>\n",
              "      <td>11.99</td>\n",
              "      <td>265.68</td>\n",
              "      <td>B</td>\n",
              "      <td>B5</td>\n",
              "      <td>Credit analyst</td>\n",
              "      <td>4 years</td>\n",
              "      <td>65000.0</td>\n",
              "      <td>Not Verified</td>\n",
              "      <td>...</td>\n",
              "      <td>INDIVIDUAL</td>\n",
              "      <td>3</td>\n",
              "      <td>0</td>\n",
              "      <td>\"1076 Carney Fort Apt. 347</td>\n",
              "      <td>1</td>\n",
              "      <td>0</td>\n",
              "      <td>0</td>\n",
              "      <td>0</td>\n",
              "      <td>1</td>\n",
              "      <td>0</td>\n",
              "    </tr>\n",
              "    <tr>\n",
              "      <th>4</th>\n",
              "      <td>15600.0</td>\n",
              "      <td>36 months</td>\n",
              "      <td>10.49</td>\n",
              "      <td>506.97</td>\n",
              "      <td>B</td>\n",
              "      <td>B3</td>\n",
              "      <td>Statistician</td>\n",
              "      <td>&lt; 1 year</td>\n",
              "      <td>43057.0</td>\n",
              "      <td>Verified</td>\n",
              "      <td>...</td>\n",
              "      <td>INDIVIDUAL</td>\n",
              "      <td>0</td>\n",
              "      <td>0</td>\n",
              "      <td>\"87025 Mark Dale Apt. 269</td>\n",
              "      <td>1</td>\n",
              "      <td>1</td>\n",
              "      <td>0</td>\n",
              "      <td>1</td>\n",
              "      <td>0</td>\n",
              "      <td>0</td>\n",
              "    </tr>\n",
              "    <tr>\n",
              "      <th>6</th>\n",
              "      <td>7200.0</td>\n",
              "      <td>36 months</td>\n",
              "      <td>6.49</td>\n",
              "      <td>220.65</td>\n",
              "      <td>A</td>\n",
              "      <td>A2</td>\n",
              "      <td>Client Advocate</td>\n",
              "      <td>6 years</td>\n",
              "      <td>54000.0</td>\n",
              "      <td>Not Verified</td>\n",
              "      <td>...</td>\n",
              "      <td>INDIVIDUAL</td>\n",
              "      <td>0</td>\n",
              "      <td>0</td>\n",
              "      <td>\"823 Reid Ford</td>\n",
              "      <td>1</td>\n",
              "      <td>0</td>\n",
              "      <td>0</td>\n",
              "      <td>1</td>\n",
              "      <td>0</td>\n",
              "      <td>0</td>\n",
              "    </tr>\n",
              "    <tr>\n",
              "      <th>8</th>\n",
              "      <td>24375.0</td>\n",
              "      <td>60 months</td>\n",
              "      <td>17.27</td>\n",
              "      <td>609.33</td>\n",
              "      <td>C</td>\n",
              "      <td>C5</td>\n",
              "      <td>Destiny Management Inc.</td>\n",
              "      <td>9 years</td>\n",
              "      <td>55000.0</td>\n",
              "      <td>Verified</td>\n",
              "      <td>...</td>\n",
              "      <td>INDIVIDUAL</td>\n",
              "      <td>1</td>\n",
              "      <td>0</td>\n",
              "      <td>\"679 Luna Roads</td>\n",
              "      <td>0</td>\n",
              "      <td>1</td>\n",
              "      <td>0</td>\n",
              "      <td>0</td>\n",
              "      <td>0</td>\n",
              "      <td>0</td>\n",
              "    </tr>\n",
              "    <tr>\n",
              "      <th>...</th>\n",
              "      <td>...</td>\n",
              "      <td>...</td>\n",
              "      <td>...</td>\n",
              "      <td>...</td>\n",
              "      <td>...</td>\n",
              "      <td>...</td>\n",
              "      <td>...</td>\n",
              "      <td>...</td>\n",
              "      <td>...</td>\n",
              "      <td>...</td>\n",
              "      <td>...</td>\n",
              "      <td>...</td>\n",
              "      <td>...</td>\n",
              "      <td>...</td>\n",
              "      <td>...</td>\n",
              "      <td>...</td>\n",
              "      <td>...</td>\n",
              "      <td>...</td>\n",
              "      <td>...</td>\n",
              "      <td>...</td>\n",
              "      <td>...</td>\n",
              "    </tr>\n",
              "    <tr>\n",
              "      <th>200480</th>\n",
              "      <td>15450.0</td>\n",
              "      <td>36 months</td>\n",
              "      <td>7.90</td>\n",
              "      <td>483.44</td>\n",
              "      <td>A</td>\n",
              "      <td>A4</td>\n",
              "      <td>Law enforcement</td>\n",
              "      <td>2 years</td>\n",
              "      <td>42000.0</td>\n",
              "      <td>Not Verified</td>\n",
              "      <td>...</td>\n",
              "      <td>INDIVIDUAL</td>\n",
              "      <td>0</td>\n",
              "      <td>0</td>\n",
              "      <td>\"927 Brady Rest</td>\n",
              "      <td>1</td>\n",
              "      <td>0</td>\n",
              "      <td>1</td>\n",
              "      <td>0</td>\n",
              "      <td>1</td>\n",
              "      <td>0</td>\n",
              "    </tr>\n",
              "    <tr>\n",
              "      <th>200482</th>\n",
              "      <td>15000.0</td>\n",
              "      <td>36 months</td>\n",
              "      <td>12.29</td>\n",
              "      <td>500.30</td>\n",
              "      <td>C</td>\n",
              "      <td>C1</td>\n",
              "      <td>NaN</td>\n",
              "      <td>NaN</td>\n",
              "      <td>60000.0</td>\n",
              "      <td>Verified</td>\n",
              "      <td>...</td>\n",
              "      <td>INDIVIDUAL</td>\n",
              "      <td>0</td>\n",
              "      <td>0</td>\n",
              "      <td>\"10095 Moore Parkway</td>\n",
              "      <td>1</td>\n",
              "      <td>1</td>\n",
              "      <td>1</td>\n",
              "      <td>0</td>\n",
              "      <td>1</td>\n",
              "      <td>0</td>\n",
              "    </tr>\n",
              "    <tr>\n",
              "      <th>200484</th>\n",
              "      <td>6000.0</td>\n",
              "      <td>36 months</td>\n",
              "      <td>9.99</td>\n",
              "      <td>193.58</td>\n",
              "      <td>B</td>\n",
              "      <td>B3</td>\n",
              "      <td>NaN</td>\n",
              "      <td>NaN</td>\n",
              "      <td>16980.0</td>\n",
              "      <td>Verified</td>\n",
              "      <td>...</td>\n",
              "      <td>INDIVIDUAL</td>\n",
              "      <td>0</td>\n",
              "      <td>1</td>\n",
              "      <td>\"476 Rivera Fall Suite 495</td>\n",
              "      <td>1</td>\n",
              "      <td>1</td>\n",
              "      <td>1</td>\n",
              "      <td>0</td>\n",
              "      <td>1</td>\n",
              "      <td>0</td>\n",
              "    </tr>\n",
              "    <tr>\n",
              "      <th>200486</th>\n",
              "      <td>5000.0</td>\n",
              "      <td>36 months</td>\n",
              "      <td>13.53</td>\n",
              "      <td>169.75</td>\n",
              "      <td>B</td>\n",
              "      <td>B5</td>\n",
              "      <td>Deputy sheriff</td>\n",
              "      <td>10+ years</td>\n",
              "      <td>43000.0</td>\n",
              "      <td>Verified</td>\n",
              "      <td>...</td>\n",
              "      <td>INDIVIDUAL</td>\n",
              "      <td>4</td>\n",
              "      <td>0</td>\n",
              "      <td>\"USCGC Martinez</td>\n",
              "      <td>1</td>\n",
              "      <td>1</td>\n",
              "      <td>0</td>\n",
              "      <td>0</td>\n",
              "      <td>0</td>\n",
              "      <td>1</td>\n",
              "    </tr>\n",
              "    <tr>\n",
              "      <th>200488</th>\n",
              "      <td>15000.0</td>\n",
              "      <td>36 months</td>\n",
              "      <td>14.30</td>\n",
              "      <td>514.86</td>\n",
              "      <td>C</td>\n",
              "      <td>C1</td>\n",
              "      <td>Fad</td>\n",
              "      <td>5 years</td>\n",
              "      <td>44000.0</td>\n",
              "      <td>Verified</td>\n",
              "      <td>...</td>\n",
              "      <td>INDIVIDUAL</td>\n",
              "      <td>0</td>\n",
              "      <td>1</td>\n",
              "      <td>\"92221 Miller Estates Apt. 068</td>\n",
              "      <td>1</td>\n",
              "      <td>1</td>\n",
              "      <td>0</td>\n",
              "      <td>1</td>\n",
              "      <td>0</td>\n",
              "      <td>0</td>\n",
              "    </tr>\n",
              "  </tbody>\n",
              "</table>\n",
              "<p>88741 rows × 31 columns</p>\n",
              "</div>\n",
              "      <button class=\"colab-df-convert\" onclick=\"convertToInteractive('df-a0e78a7a-a3f2-4596-9e61-56c0584b59b4')\"\n",
              "              title=\"Convert this dataframe to an interactive table.\"\n",
              "              style=\"display:none;\">\n",
              "        \n",
              "  <svg xmlns=\"http://www.w3.org/2000/svg\" height=\"24px\"viewBox=\"0 0 24 24\"\n",
              "       width=\"24px\">\n",
              "    <path d=\"M0 0h24v24H0V0z\" fill=\"none\"/>\n",
              "    <path d=\"M18.56 5.44l.94 2.06.94-2.06 2.06-.94-2.06-.94-.94-2.06-.94 2.06-2.06.94zm-11 1L8.5 8.5l.94-2.06 2.06-.94-2.06-.94L8.5 2.5l-.94 2.06-2.06.94zm10 10l.94 2.06.94-2.06 2.06-.94-2.06-.94-.94-2.06-.94 2.06-2.06.94z\"/><path d=\"M17.41 7.96l-1.37-1.37c-.4-.4-.92-.59-1.43-.59-.52 0-1.04.2-1.43.59L10.3 9.45l-7.72 7.72c-.78.78-.78 2.05 0 2.83L4 21.41c.39.39.9.59 1.41.59.51 0 1.02-.2 1.41-.59l7.78-7.78 2.81-2.81c.8-.78.8-2.07 0-2.86zM5.41 20L4 18.59l7.72-7.72 1.47 1.35L5.41 20z\"/>\n",
              "  </svg>\n",
              "      </button>\n",
              "      \n",
              "  <style>\n",
              "    .colab-df-container {\n",
              "      display:flex;\n",
              "      flex-wrap:wrap;\n",
              "      gap: 12px;\n",
              "    }\n",
              "\n",
              "    .colab-df-convert {\n",
              "      background-color: #E8F0FE;\n",
              "      border: none;\n",
              "      border-radius: 50%;\n",
              "      cursor: pointer;\n",
              "      display: none;\n",
              "      fill: #1967D2;\n",
              "      height: 32px;\n",
              "      padding: 0 0 0 0;\n",
              "      width: 32px;\n",
              "    }\n",
              "\n",
              "    .colab-df-convert:hover {\n",
              "      background-color: #E2EBFA;\n",
              "      box-shadow: 0px 1px 2px rgba(60, 64, 67, 0.3), 0px 1px 3px 1px rgba(60, 64, 67, 0.15);\n",
              "      fill: #174EA6;\n",
              "    }\n",
              "\n",
              "    [theme=dark] .colab-df-convert {\n",
              "      background-color: #3B4455;\n",
              "      fill: #D2E3FC;\n",
              "    }\n",
              "\n",
              "    [theme=dark] .colab-df-convert:hover {\n",
              "      background-color: #434B5C;\n",
              "      box-shadow: 0px 1px 3px 1px rgba(0, 0, 0, 0.15);\n",
              "      filter: drop-shadow(0px 1px 2px rgba(0, 0, 0, 0.3));\n",
              "      fill: #FFFFFF;\n",
              "    }\n",
              "  </style>\n",
              "\n",
              "      <script>\n",
              "        const buttonEl =\n",
              "          document.querySelector('#df-a0e78a7a-a3f2-4596-9e61-56c0584b59b4 button.colab-df-convert');\n",
              "        buttonEl.style.display =\n",
              "          google.colab.kernel.accessAllowed ? 'block' : 'none';\n",
              "\n",
              "        async function convertToInteractive(key) {\n",
              "          const element = document.querySelector('#df-a0e78a7a-a3f2-4596-9e61-56c0584b59b4');\n",
              "          const dataTable =\n",
              "            await google.colab.kernel.invokeFunction('convertToInteractive',\n",
              "                                                     [key], {});\n",
              "          if (!dataTable) return;\n",
              "\n",
              "          const docLinkHtml = 'Like what you see? Visit the ' +\n",
              "            '<a target=\"_blank\" href=https://colab.research.google.com/notebooks/data_table.ipynb>data table notebook</a>'\n",
              "            + ' to learn more about interactive tables.';\n",
              "          element.innerHTML = '';\n",
              "          dataTable['output_type'] = 'display_data';\n",
              "          await google.colab.output.renderOutput(dataTable, element);\n",
              "          const docLink = document.createElement('div');\n",
              "          docLink.innerHTML = docLinkHtml;\n",
              "          element.appendChild(docLink);\n",
              "        }\n",
              "      </script>\n",
              "    </div>\n",
              "  </div>\n",
              "  "
            ]
          },
          "metadata": {},
          "execution_count": 33
        }
      ]
    },
    {
      "cell_type": "code",
      "source": [
        "kisan2.columns"
      ],
      "metadata": {
        "colab": {
          "base_uri": "https://localhost:8080/"
        },
        "id": "T0MorPT3JUnV",
        "outputId": "d708fe09-9b43-4efe-b13b-9d19c9dea026"
      },
      "execution_count": 34,
      "outputs": [
        {
          "output_type": "execute_result",
          "data": {
            "text/plain": [
              "Index(['loan_amnt', 'term', 'int_rate', 'installment', 'grade', 'sub_grade',\n",
              "       'emp_title', 'emp_length', 'annual_inc', 'verification_status',\n",
              "       'issue_d', 'loan_status', 'title', 'dti', 'earliest_cr_line',\n",
              "       'open_acc', 'pub_rec', 'revol_bal', 'revol_util', 'total_acc',\n",
              "       'initial_list_status', 'application_type', 'mort_acc',\n",
              "       'pub_rec_bankruptcies', 'address', 'is_36mnths', 'is_verified',\n",
              "       'home_ownership_OTHERS', 'home_ownership_RENT',\n",
              "       'purpose_debt_consolidation', 'purpose_others'],\n",
              "      dtype='object')"
            ]
          },
          "metadata": {},
          "execution_count": 34
        }
      ]
    },
    {
      "cell_type": "code",
      "source": [
        "cols=['home_ownership_OTHERS','home_ownership_RENT','purpose_debt_consolidation',\n",
        " 'purpose_others']\n",
        "for i in cols:\n",
        " kisan2[i]=list(map(lambda x:int(x),kisan2[i]))\n",
        "kisan2.info()"
      ],
      "metadata": {
        "colab": {
          "base_uri": "https://localhost:8080/"
        },
        "id": "ALu0orFsJaq2",
        "outputId": "5d23d57b-dcd7-4f89-cba6-d72130d14125"
      },
      "execution_count": 35,
      "outputs": [
        {
          "output_type": "stream",
          "name": "stdout",
          "text": [
            "<class 'pandas.core.frame.DataFrame'>\n",
            "Int64Index: 88741 entries, 0 to 200488\n",
            "Data columns (total 31 columns):\n",
            " #   Column                      Non-Null Count  Dtype  \n",
            "---  ------                      --------------  -----  \n",
            " 0   loan_amnt                   88741 non-null  float64\n",
            " 1   term                        88741 non-null  object \n",
            " 2   int_rate                    88741 non-null  float64\n",
            " 3   installment                 88741 non-null  float64\n",
            " 4   grade                       88741 non-null  object \n",
            " 5   sub_grade                   88741 non-null  object \n",
            " 6   emp_title                   83607 non-null  object \n",
            " 7   emp_length                  84403 non-null  object \n",
            " 8   annual_inc                  88741 non-null  float64\n",
            " 9   verification_status         88741 non-null  object \n",
            " 10  issue_d                     88741 non-null  object \n",
            " 11  loan_status                 88741 non-null  object \n",
            " 12  title                       88302 non-null  object \n",
            " 13  dti                         88741 non-null  float64\n",
            " 14  earliest_cr_line            88741 non-null  object \n",
            " 15  open_acc                    88741 non-null  object \n",
            " 16  pub_rec                     88741 non-null  int64  \n",
            " 17  revol_bal                   88741 non-null  float64\n",
            " 18  revol_util                  88684 non-null  float64\n",
            " 19  total_acc                   88741 non-null  float64\n",
            " 20  initial_list_status         88741 non-null  object \n",
            " 21  application_type            88741 non-null  object \n",
            " 22  mort_acc                    88741 non-null  object \n",
            " 23  pub_rec_bankruptcies        88741 non-null  object \n",
            " 24  address                     88741 non-null  object \n",
            " 25  is_36mnths                  88741 non-null  int64  \n",
            " 26  is_verified                 88741 non-null  int64  \n",
            " 27  home_ownership_OTHERS       88741 non-null  int64  \n",
            " 28  home_ownership_RENT         88741 non-null  int64  \n",
            " 29  purpose_debt_consolidation  88741 non-null  int64  \n",
            " 30  purpose_others              88741 non-null  int64  \n",
            "dtypes: float64(8), int64(7), object(16)\n",
            "memory usage: 21.7+ MB\n"
          ]
        }
      ]
    },
    {
      "cell_type": "code",
      "source": [
        "kisan2['application_type'].value_counts(normalize=True)"
      ],
      "metadata": {
        "colab": {
          "base_uri": "https://localhost:8080/"
        },
        "id": "5sL3v9XXJf0d",
        "outputId": "9487e0ec-c292-47c2-df9d-ec27c50de073"
      },
      "execution_count": 36,
      "outputs": [
        {
          "output_type": "execute_result",
          "data": {
            "text/plain": [
              "INDIVIDUAL    0.998073\n",
              "JOINT         0.001127\n",
              "DIRECT_PAY    0.000800\n",
              "Name: application_type, dtype: float64"
            ]
          },
          "metadata": {},
          "execution_count": 36
        }
      ]
    },
    {
      "cell_type": "code",
      "source": [
        "kisan2['initial_list_status'].value_counts(normalize=True)"
      ],
      "metadata": {
        "colab": {
          "base_uri": "https://localhost:8080/"
        },
        "id": "Tp4JPX-uJmhR",
        "outputId": "314d7ea8-7b87-49ee-dfe2-9a050f4c4afa"
      },
      "execution_count": 37,
      "outputs": [
        {
          "output_type": "execute_result",
          "data": {
            "text/plain": [
              "f    0.555775\n",
              "w    0.444225\n",
              "Name: initial_list_status, dtype: float64"
            ]
          },
          "metadata": {},
          "execution_count": 37
        }
      ]
    },
    {
      "cell_type": "code",
      "source": [
        "d={'f':0,'w':1}\n",
        "kisan2['initial_list_status']=list(map(lambda x:d[x] ,kisan2['initial_list_status']))\n",
        "kisan2['initial_list_status'].value_counts()"
      ],
      "metadata": {
        "colab": {
          "base_uri": "https://localhost:8080/"
        },
        "id": "HhLRTX-PJpf7",
        "outputId": "074ea14e-485e-44c5-b15f-0e39052542f4"
      },
      "execution_count": 38,
      "outputs": [
        {
          "output_type": "execute_result",
          "data": {
            "text/plain": [
              "0    49320\n",
              "1    39421\n",
              "Name: initial_list_status, dtype: int64"
            ]
          },
          "metadata": {},
          "execution_count": 38
        }
      ]
    },
    {
      "cell_type": "code",
      "source": [
        "kisan2['pub_rec_bankruptcies'].value_counts()"
      ],
      "metadata": {
        "colab": {
          "base_uri": "https://localhost:8080/"
        },
        "id": "whcJNiVVJtNf",
        "outputId": "e6b76fbe-0451-45d8-fe76-1d2b6effc842"
      },
      "execution_count": 39,
      "outputs": [
        {
          "output_type": "execute_result",
          "data": {
            "text/plain": [
              "0    77846\n",
              "1    10303\n",
              "2      475\n",
              "3       79\n",
              "4       25\n",
              "5        8\n",
              "6        4\n",
              "7        1\n",
              "Name: pub_rec_bankruptcies, dtype: int64"
            ]
          },
          "metadata": {},
          "execution_count": 39
        }
      ]
    },
    {
      "cell_type": "code",
      "source": [
        "kisan2['pub_rec_bankruptcies']=list(map(lambda x:str(x),kisan2['pub_rec_bankruptcies']))\n",
        "kisan2['pub_rec_bankruptcies'].value_counts()"
      ],
      "metadata": {
        "colab": {
          "base_uri": "https://localhost:8080/"
        },
        "id": "4LUQ7h-DJyDO",
        "outputId": "c4ca4759-0360-4dd2-eaf9-5c15c6994260"
      },
      "execution_count": 40,
      "outputs": [
        {
          "output_type": "execute_result",
          "data": {
            "text/plain": [
              "0    77846\n",
              "1    10303\n",
              "2      475\n",
              "3       79\n",
              "4       25\n",
              "5        8\n",
              "6        4\n",
              "7        1\n",
              "Name: pub_rec_bankruptcies, dtype: int64"
            ]
          },
          "metadata": {},
          "execution_count": 40
        }
      ]
    },
    {
      "cell_type": "code",
      "source": [
        "kisan2['pub_rec_bankruptcies']=list(map(lambda x:x if x=='0'  else '1',kisan2['pub_rec_bankruptcies']))\n",
        "kisan2['pub_rec_bankruptcies'].value_counts()"
      ],
      "metadata": {
        "colab": {
          "base_uri": "https://localhost:8080/"
        },
        "id": "zB0TQLQlJ2WS",
        "outputId": "f3b20a00-07d1-4adc-f68f-0245fb6629bd"
      },
      "execution_count": 41,
      "outputs": [
        {
          "output_type": "execute_result",
          "data": {
            "text/plain": [
              "0    77846\n",
              "1    10895\n",
              "Name: pub_rec_bankruptcies, dtype: int64"
            ]
          },
          "metadata": {},
          "execution_count": 41
        }
      ]
    },
    {
      "cell_type": "code",
      "source": [
        "kisan2['pub_rec_bankruptcies']=list(map(lambda x:int(x),kisan2['pub_rec_bankruptcies']))\n",
        "kisan2['pub_rec_bankruptcies'].value_counts()"
      ],
      "metadata": {
        "colab": {
          "base_uri": "https://localhost:8080/"
        },
        "id": "nLxvz8y8J7Kx",
        "outputId": "f1b0781e-d8fa-4dea-a0b1-37bd146bb7b8"
      },
      "execution_count": 42,
      "outputs": [
        {
          "output_type": "execute_result",
          "data": {
            "text/plain": [
              "0    77846\n",
              "1    10895\n",
              "Name: pub_rec_bankruptcies, dtype: int64"
            ]
          },
          "metadata": {},
          "execution_count": 42
        }
      ]
    },
    {
      "cell_type": "code",
      "source": [
        "kisan2.info()"
      ],
      "metadata": {
        "colab": {
          "base_uri": "https://localhost:8080/"
        },
        "id": "C1QzQJuSKASB",
        "outputId": "06cc134b-f81d-41e6-d8cb-dd2ee6c2cc86"
      },
      "execution_count": 43,
      "outputs": [
        {
          "output_type": "stream",
          "name": "stdout",
          "text": [
            "<class 'pandas.core.frame.DataFrame'>\n",
            "Int64Index: 88741 entries, 0 to 200488\n",
            "Data columns (total 31 columns):\n",
            " #   Column                      Non-Null Count  Dtype  \n",
            "---  ------                      --------------  -----  \n",
            " 0   loan_amnt                   88741 non-null  float64\n",
            " 1   term                        88741 non-null  object \n",
            " 2   int_rate                    88741 non-null  float64\n",
            " 3   installment                 88741 non-null  float64\n",
            " 4   grade                       88741 non-null  object \n",
            " 5   sub_grade                   88741 non-null  object \n",
            " 6   emp_title                   83607 non-null  object \n",
            " 7   emp_length                  84403 non-null  object \n",
            " 8   annual_inc                  88741 non-null  float64\n",
            " 9   verification_status         88741 non-null  object \n",
            " 10  issue_d                     88741 non-null  object \n",
            " 11  loan_status                 88741 non-null  object \n",
            " 12  title                       88302 non-null  object \n",
            " 13  dti                         88741 non-null  float64\n",
            " 14  earliest_cr_line            88741 non-null  object \n",
            " 15  open_acc                    88741 non-null  object \n",
            " 16  pub_rec                     88741 non-null  int64  \n",
            " 17  revol_bal                   88741 non-null  float64\n",
            " 18  revol_util                  88684 non-null  float64\n",
            " 19  total_acc                   88741 non-null  float64\n",
            " 20  initial_list_status         88741 non-null  int64  \n",
            " 21  application_type            88741 non-null  object \n",
            " 22  mort_acc                    88741 non-null  object \n",
            " 23  pub_rec_bankruptcies        88741 non-null  int64  \n",
            " 24  address                     88741 non-null  object \n",
            " 25  is_36mnths                  88741 non-null  int64  \n",
            " 26  is_verified                 88741 non-null  int64  \n",
            " 27  home_ownership_OTHERS       88741 non-null  int64  \n",
            " 28  home_ownership_RENT         88741 non-null  int64  \n",
            " 29  purpose_debt_consolidation  88741 non-null  int64  \n",
            " 30  purpose_others              88741 non-null  int64  \n",
            "dtypes: float64(8), int64(9), object(14)\n",
            "memory usage: 21.7+ MB\n"
          ]
        }
      ]
    },
    {
      "cell_type": "code",
      "source": [
        "kisan3=kisan2.dropna()\n",
        "kisan3.shape"
      ],
      "metadata": {
        "colab": {
          "base_uri": "https://localhost:8080/"
        },
        "id": "FgNSCn10KFXG",
        "outputId": "b8926b19-183f-4ab4-fd2a-94e328afad98"
      },
      "execution_count": 44,
      "outputs": [
        {
          "output_type": "execute_result",
          "data": {
            "text/plain": [
              "(83135, 31)"
            ]
          },
          "metadata": {},
          "execution_count": 44
        }
      ]
    },
    {
      "cell_type": "code",
      "source": [
        "kisan3.shape"
      ],
      "metadata": {
        "colab": {
          "base_uri": "https://localhost:8080/"
        },
        "id": "knGQ5ImnKLgE",
        "outputId": "f3f52fe6-4d2e-40c9-9c15-1850c031967c"
      },
      "execution_count": 45,
      "outputs": [
        {
          "output_type": "execute_result",
          "data": {
            "text/plain": [
              "(83135, 31)"
            ]
          },
          "metadata": {},
          "execution_count": 45
        }
      ]
    },
    {
      "cell_type": "code",
      "source": [
        "XS=kisan3[['loan_amnt','int_rate', 'installment','sub_grade','grade',\n",
        " 'annual_inc','is_verified','dti','open_acc', 'pub_rec',\n",
        " 'revol_bal', 'revol_util', 'total_acc','initial_list_status',\n",
        " 'mort_acc','pub_rec_bankruptcies','is_36mnths',\n",
        " 'home_ownership_OTHERS', 'home_ownership_RENT',\n",
        " 'purpose_debt_consolidation', 'purpose_others']]"
      ],
      "metadata": {
        "id": "9jQBKscAKPY5"
      },
      "execution_count": 46,
      "outputs": []
    },
    {
      "cell_type": "code",
      "source": [
        "XS.info()"
      ],
      "metadata": {
        "colab": {
          "base_uri": "https://localhost:8080/"
        },
        "id": "tlGTD3KJKUZA",
        "outputId": "32834328-beb5-464b-d162-d8ce444b9f9d"
      },
      "execution_count": 47,
      "outputs": [
        {
          "output_type": "stream",
          "name": "stdout",
          "text": [
            "<class 'pandas.core.frame.DataFrame'>\n",
            "Int64Index: 83135 entries, 0 to 200488\n",
            "Data columns (total 21 columns):\n",
            " #   Column                      Non-Null Count  Dtype  \n",
            "---  ------                      --------------  -----  \n",
            " 0   loan_amnt                   83135 non-null  float64\n",
            " 1   int_rate                    83135 non-null  float64\n",
            " 2   installment                 83135 non-null  float64\n",
            " 3   sub_grade                   83135 non-null  object \n",
            " 4   grade                       83135 non-null  object \n",
            " 5   annual_inc                  83135 non-null  float64\n",
            " 6   is_verified                 83135 non-null  int64  \n",
            " 7   dti                         83135 non-null  float64\n",
            " 8   open_acc                    83135 non-null  object \n",
            " 9   pub_rec                     83135 non-null  int64  \n",
            " 10  revol_bal                   83135 non-null  float64\n",
            " 11  revol_util                  83135 non-null  float64\n",
            " 12  total_acc                   83135 non-null  float64\n",
            " 13  initial_list_status         83135 non-null  int64  \n",
            " 14  mort_acc                    83135 non-null  object \n",
            " 15  pub_rec_bankruptcies        83135 non-null  int64  \n",
            " 16  is_36mnths                  83135 non-null  int64  \n",
            " 17  home_ownership_OTHERS       83135 non-null  int64  \n",
            " 18  home_ownership_RENT         83135 non-null  int64  \n",
            " 19  purpose_debt_consolidation  83135 non-null  int64  \n",
            " 20  purpose_others              83135 non-null  int64  \n",
            "dtypes: float64(8), int64(9), object(4)\n",
            "memory usage: 14.0+ MB\n"
          ]
        }
      ]
    },
    {
      "cell_type": "code",
      "source": [
        "cols=['open_acc','mort_acc']\n",
        "for i in cols:\n",
        "  XS[i]=list(map(lambda x:int(x),XS[i]))\n",
        "XS.info()"
      ],
      "metadata": {
        "colab": {
          "base_uri": "https://localhost:8080/"
        },
        "id": "DuB8QJ6BKYbI",
        "outputId": "32b43001-bd21-49db-f465-a9922cb67817"
      },
      "execution_count": 48,
      "outputs": [
        {
          "output_type": "stream",
          "name": "stdout",
          "text": [
            "<class 'pandas.core.frame.DataFrame'>\n",
            "Int64Index: 83135 entries, 0 to 200488\n",
            "Data columns (total 21 columns):\n",
            " #   Column                      Non-Null Count  Dtype  \n",
            "---  ------                      --------------  -----  \n",
            " 0   loan_amnt                   83135 non-null  float64\n",
            " 1   int_rate                    83135 non-null  float64\n",
            " 2   installment                 83135 non-null  float64\n",
            " 3   sub_grade                   83135 non-null  object \n",
            " 4   grade                       83135 non-null  object \n",
            " 5   annual_inc                  83135 non-null  float64\n",
            " 6   is_verified                 83135 non-null  int64  \n",
            " 7   dti                         83135 non-null  float64\n",
            " 8   open_acc                    83135 non-null  int64  \n",
            " 9   pub_rec                     83135 non-null  int64  \n",
            " 10  revol_bal                   83135 non-null  float64\n",
            " 11  revol_util                  83135 non-null  float64\n",
            " 12  total_acc                   83135 non-null  float64\n",
            " 13  initial_list_status         83135 non-null  int64  \n",
            " 14  mort_acc                    83135 non-null  int64  \n",
            " 15  pub_rec_bankruptcies        83135 non-null  int64  \n",
            " 16  is_36mnths                  83135 non-null  int64  \n",
            " 17  home_ownership_OTHERS       83135 non-null  int64  \n",
            " 18  home_ownership_RENT         83135 non-null  int64  \n",
            " 19  purpose_debt_consolidation  83135 non-null  int64  \n",
            " 20  purpose_others              83135 non-null  int64  \n",
            "dtypes: float64(8), int64(11), object(2)\n",
            "memory usage: 14.0+ MB\n"
          ]
        },
        {
          "output_type": "stream",
          "name": "stderr",
          "text": [
            "/usr/local/lib/python3.7/dist-packages/ipykernel_launcher.py:3: SettingWithCopyWarning: \n",
            "A value is trying to be set on a copy of a slice from a DataFrame.\n",
            "Try using .loc[row_indexer,col_indexer] = value instead\n",
            "\n",
            "See the caveats in the documentation: https://pandas.pydata.org/pandas-docs/stable/user_guide/indexing.html#returning-a-view-versus-a-copy\n",
            "  This is separate from the ipykernel package so we can avoid doing imports until\n"
          ]
        }
      ]
    },
    {
      "cell_type": "code",
      "source": [
        "y=kisan3['loan_status']\n",
        "y"
      ],
      "metadata": {
        "colab": {
          "base_uri": "https://localhost:8080/"
        },
        "id": "D55gzHRBKfJq",
        "outputId": "67a52871-e6ca-4228-ff63-26790f1afad3"
      },
      "execution_count": 49,
      "outputs": [
        {
          "output_type": "execute_result",
          "data": {
            "text/plain": [
              "0          Fully Paid\n",
              "2          Fully Paid\n",
              "4          Fully Paid\n",
              "6          Fully Paid\n",
              "8         Charged Off\n",
              "             ...     \n",
              "200476     Fully Paid\n",
              "200478     Fully Paid\n",
              "200480     Fully Paid\n",
              "200486     Fully Paid\n",
              "200488     Fully Paid\n",
              "Name: loan_status, Length: 83135, dtype: object"
            ]
          },
          "metadata": {},
          "execution_count": 49
        }
      ]
    },
    {
      "cell_type": "code",
      "source": [
        "kisan3['y_obs']=list(map(lambda x:0 if x=='Fully Paid' else 1,kisan3['loan_status']))\n",
        "kisan3[['loan_status','y_obs']].head(14)"
      ],
      "metadata": {
        "colab": {
          "base_uri": "https://localhost:8080/",
          "height": 593
        },
        "id": "FGPXiTRFKkeR",
        "outputId": "5e7bf31c-94ab-4ba6-afef-4cf872bdf14a"
      },
      "execution_count": 50,
      "outputs": [
        {
          "output_type": "stream",
          "name": "stderr",
          "text": [
            "/usr/local/lib/python3.7/dist-packages/ipykernel_launcher.py:1: SettingWithCopyWarning: \n",
            "A value is trying to be set on a copy of a slice from a DataFrame.\n",
            "Try using .loc[row_indexer,col_indexer] = value instead\n",
            "\n",
            "See the caveats in the documentation: https://pandas.pydata.org/pandas-docs/stable/user_guide/indexing.html#returning-a-view-versus-a-copy\n",
            "  \"\"\"Entry point for launching an IPython kernel.\n"
          ]
        },
        {
          "output_type": "execute_result",
          "data": {
            "text/plain": [
              "    loan_status  y_obs\n",
              "0    Fully Paid      0\n",
              "2    Fully Paid      0\n",
              "4    Fully Paid      0\n",
              "6    Fully Paid      0\n",
              "8   Charged Off      1\n",
              "10   Fully Paid      0\n",
              "12   Fully Paid      0\n",
              "14   Fully Paid      0\n",
              "16   Fully Paid      0\n",
              "18   Fully Paid      0\n",
              "20   Fully Paid      0\n",
              "22   Fully Paid      0\n",
              "24   Fully Paid      0\n",
              "26   Fully Paid      0"
            ],
            "text/html": [
              "\n",
              "  <div id=\"df-c0d52fa8-0ae5-451a-bfe0-4d9eefec5d1a\">\n",
              "    <div class=\"colab-df-container\">\n",
              "      <div>\n",
              "<style scoped>\n",
              "    .dataframe tbody tr th:only-of-type {\n",
              "        vertical-align: middle;\n",
              "    }\n",
              "\n",
              "    .dataframe tbody tr th {\n",
              "        vertical-align: top;\n",
              "    }\n",
              "\n",
              "    .dataframe thead th {\n",
              "        text-align: right;\n",
              "    }\n",
              "</style>\n",
              "<table border=\"1\" class=\"dataframe\">\n",
              "  <thead>\n",
              "    <tr style=\"text-align: right;\">\n",
              "      <th></th>\n",
              "      <th>loan_status</th>\n",
              "      <th>y_obs</th>\n",
              "    </tr>\n",
              "  </thead>\n",
              "  <tbody>\n",
              "    <tr>\n",
              "      <th>0</th>\n",
              "      <td>Fully Paid</td>\n",
              "      <td>0</td>\n",
              "    </tr>\n",
              "    <tr>\n",
              "      <th>2</th>\n",
              "      <td>Fully Paid</td>\n",
              "      <td>0</td>\n",
              "    </tr>\n",
              "    <tr>\n",
              "      <th>4</th>\n",
              "      <td>Fully Paid</td>\n",
              "      <td>0</td>\n",
              "    </tr>\n",
              "    <tr>\n",
              "      <th>6</th>\n",
              "      <td>Fully Paid</td>\n",
              "      <td>0</td>\n",
              "    </tr>\n",
              "    <tr>\n",
              "      <th>8</th>\n",
              "      <td>Charged Off</td>\n",
              "      <td>1</td>\n",
              "    </tr>\n",
              "    <tr>\n",
              "      <th>10</th>\n",
              "      <td>Fully Paid</td>\n",
              "      <td>0</td>\n",
              "    </tr>\n",
              "    <tr>\n",
              "      <th>12</th>\n",
              "      <td>Fully Paid</td>\n",
              "      <td>0</td>\n",
              "    </tr>\n",
              "    <tr>\n",
              "      <th>14</th>\n",
              "      <td>Fully Paid</td>\n",
              "      <td>0</td>\n",
              "    </tr>\n",
              "    <tr>\n",
              "      <th>16</th>\n",
              "      <td>Fully Paid</td>\n",
              "      <td>0</td>\n",
              "    </tr>\n",
              "    <tr>\n",
              "      <th>18</th>\n",
              "      <td>Fully Paid</td>\n",
              "      <td>0</td>\n",
              "    </tr>\n",
              "    <tr>\n",
              "      <th>20</th>\n",
              "      <td>Fully Paid</td>\n",
              "      <td>0</td>\n",
              "    </tr>\n",
              "    <tr>\n",
              "      <th>22</th>\n",
              "      <td>Fully Paid</td>\n",
              "      <td>0</td>\n",
              "    </tr>\n",
              "    <tr>\n",
              "      <th>24</th>\n",
              "      <td>Fully Paid</td>\n",
              "      <td>0</td>\n",
              "    </tr>\n",
              "    <tr>\n",
              "      <th>26</th>\n",
              "      <td>Fully Paid</td>\n",
              "      <td>0</td>\n",
              "    </tr>\n",
              "  </tbody>\n",
              "</table>\n",
              "</div>\n",
              "      <button class=\"colab-df-convert\" onclick=\"convertToInteractive('df-c0d52fa8-0ae5-451a-bfe0-4d9eefec5d1a')\"\n",
              "              title=\"Convert this dataframe to an interactive table.\"\n",
              "              style=\"display:none;\">\n",
              "        \n",
              "  <svg xmlns=\"http://www.w3.org/2000/svg\" height=\"24px\"viewBox=\"0 0 24 24\"\n",
              "       width=\"24px\">\n",
              "    <path d=\"M0 0h24v24H0V0z\" fill=\"none\"/>\n",
              "    <path d=\"M18.56 5.44l.94 2.06.94-2.06 2.06-.94-2.06-.94-.94-2.06-.94 2.06-2.06.94zm-11 1L8.5 8.5l.94-2.06 2.06-.94-2.06-.94L8.5 2.5l-.94 2.06-2.06.94zm10 10l.94 2.06.94-2.06 2.06-.94-2.06-.94-.94-2.06-.94 2.06-2.06.94z\"/><path d=\"M17.41 7.96l-1.37-1.37c-.4-.4-.92-.59-1.43-.59-.52 0-1.04.2-1.43.59L10.3 9.45l-7.72 7.72c-.78.78-.78 2.05 0 2.83L4 21.41c.39.39.9.59 1.41.59.51 0 1.02-.2 1.41-.59l7.78-7.78 2.81-2.81c.8-.78.8-2.07 0-2.86zM5.41 20L4 18.59l7.72-7.72 1.47 1.35L5.41 20z\"/>\n",
              "  </svg>\n",
              "      </button>\n",
              "      \n",
              "  <style>\n",
              "    .colab-df-container {\n",
              "      display:flex;\n",
              "      flex-wrap:wrap;\n",
              "      gap: 12px;\n",
              "    }\n",
              "\n",
              "    .colab-df-convert {\n",
              "      background-color: #E8F0FE;\n",
              "      border: none;\n",
              "      border-radius: 50%;\n",
              "      cursor: pointer;\n",
              "      display: none;\n",
              "      fill: #1967D2;\n",
              "      height: 32px;\n",
              "      padding: 0 0 0 0;\n",
              "      width: 32px;\n",
              "    }\n",
              "\n",
              "    .colab-df-convert:hover {\n",
              "      background-color: #E2EBFA;\n",
              "      box-shadow: 0px 1px 2px rgba(60, 64, 67, 0.3), 0px 1px 3px 1px rgba(60, 64, 67, 0.15);\n",
              "      fill: #174EA6;\n",
              "    }\n",
              "\n",
              "    [theme=dark] .colab-df-convert {\n",
              "      background-color: #3B4455;\n",
              "      fill: #D2E3FC;\n",
              "    }\n",
              "\n",
              "    [theme=dark] .colab-df-convert:hover {\n",
              "      background-color: #434B5C;\n",
              "      box-shadow: 0px 1px 3px 1px rgba(0, 0, 0, 0.15);\n",
              "      filter: drop-shadow(0px 1px 2px rgba(0, 0, 0, 0.3));\n",
              "      fill: #FFFFFF;\n",
              "    }\n",
              "  </style>\n",
              "\n",
              "      <script>\n",
              "        const buttonEl =\n",
              "          document.querySelector('#df-c0d52fa8-0ae5-451a-bfe0-4d9eefec5d1a button.colab-df-convert');\n",
              "        buttonEl.style.display =\n",
              "          google.colab.kernel.accessAllowed ? 'block' : 'none';\n",
              "\n",
              "        async function convertToInteractive(key) {\n",
              "          const element = document.querySelector('#df-c0d52fa8-0ae5-451a-bfe0-4d9eefec5d1a');\n",
              "          const dataTable =\n",
              "            await google.colab.kernel.invokeFunction('convertToInteractive',\n",
              "                                                     [key], {});\n",
              "          if (!dataTable) return;\n",
              "\n",
              "          const docLinkHtml = 'Like what you see? Visit the ' +\n",
              "            '<a target=\"_blank\" href=https://colab.research.google.com/notebooks/data_table.ipynb>data table notebook</a>'\n",
              "            + ' to learn more about interactive tables.';\n",
              "          element.innerHTML = '';\n",
              "          dataTable['output_type'] = 'display_data';\n",
              "          await google.colab.output.renderOutput(dataTable, element);\n",
              "          const docLink = document.createElement('div');\n",
              "          docLink.innerHTML = docLinkHtml;\n",
              "          element.appendChild(docLink);\n",
              "        }\n",
              "      </script>\n",
              "    </div>\n",
              "  </div>\n",
              "  "
            ]
          },
          "metadata": {},
          "execution_count": 50
        }
      ]
    },
    {
      "cell_type": "code",
      "source": [
        "y=kisan3['y_obs']"
      ],
      "metadata": {
        "id": "_aN61hrNKoOS"
      },
      "execution_count": 51,
      "outputs": []
    },
    {
      "cell_type": "code",
      "source": [
        "from sklearn.model_selection import train_test_split"
      ],
      "metadata": {
        "id": "OfqJqv1VKsva"
      },
      "execution_count": 52,
      "outputs": []
    },
    {
      "cell_type": "code",
      "source": [
        "x_trainn,x_test,y_trainn,y_test=train_test_split(XS,y,test_size=0.15,random_state=42)\n",
        "x_train,x_val,y_train,y_val=train_test_split(x_trainn,y_trainn,test_size=0.15,random_state=42)"
      ],
      "metadata": {
        "id": "2UoFn29KKv6G"
      },
      "execution_count": 53,
      "outputs": []
    },
    {
      "cell_type": "code",
      "source": [
        "print(x_train.shape,x_val.shape,x_test.shape,y_train.shape,\n",
        "     y_val.shape,y_test.shape)"
      ],
      "metadata": {
        "colab": {
          "base_uri": "https://localhost:8080/"
        },
        "id": "iKjpR59uK0iK",
        "outputId": "05b08a01-9c31-4530-bbfe-202db1cfa658"
      },
      "execution_count": 54,
      "outputs": [
        {
          "output_type": "stream",
          "name": "stdout",
          "text": [
            "(60064, 21) (10600, 21) (12471, 21) (60064,) (10600,) (12471,)\n"
          ]
        }
      ]
    },
    {
      "cell_type": "code",
      "source": [
        "pip install --upgrade category_encoders"
      ],
      "metadata": {
        "colab": {
          "base_uri": "https://localhost:8080/"
        },
        "id": "DoPQV03lK4ci",
        "outputId": "a90fdd0c-ffaa-46bc-f746-78509da8982a"
      },
      "execution_count": 55,
      "outputs": [
        {
          "output_type": "stream",
          "name": "stdout",
          "text": [
            "Looking in indexes: https://pypi.org/simple, https://us-python.pkg.dev/colab-wheels/public/simple/\n",
            "Collecting category_encoders\n",
            "  Downloading category_encoders-2.5.0-py2.py3-none-any.whl (69 kB)\n",
            "\u001b[K     |████████████████████████████████| 69 kB 3.0 MB/s \n",
            "\u001b[?25hRequirement already satisfied: patsy>=0.5.1 in /usr/local/lib/python3.7/dist-packages (from category_encoders) (0.5.2)\n",
            "Requirement already satisfied: pandas>=1.0.5 in /usr/local/lib/python3.7/dist-packages (from category_encoders) (1.3.5)\n",
            "Requirement already satisfied: numpy>=1.14.0 in /usr/local/lib/python3.7/dist-packages (from category_encoders) (1.21.6)\n",
            "Requirement already satisfied: scikit-learn>=0.20.0 in /usr/local/lib/python3.7/dist-packages (from category_encoders) (1.0.2)\n",
            "Requirement already satisfied: statsmodels>=0.9.0 in /usr/local/lib/python3.7/dist-packages (from category_encoders) (0.10.2)\n",
            "Requirement already satisfied: scipy>=1.0.0 in /usr/local/lib/python3.7/dist-packages (from category_encoders) (1.4.1)\n",
            "Requirement already satisfied: python-dateutil>=2.7.3 in /usr/local/lib/python3.7/dist-packages (from pandas>=1.0.5->category_encoders) (2.8.2)\n",
            "Requirement already satisfied: pytz>=2017.3 in /usr/local/lib/python3.7/dist-packages (from pandas>=1.0.5->category_encoders) (2022.1)\n",
            "Requirement already satisfied: six in /usr/local/lib/python3.7/dist-packages (from patsy>=0.5.1->category_encoders) (1.15.0)\n",
            "Requirement already satisfied: threadpoolctl>=2.0.0 in /usr/local/lib/python3.7/dist-packages (from scikit-learn>=0.20.0->category_encoders) (3.1.0)\n",
            "Requirement already satisfied: joblib>=0.11 in /usr/local/lib/python3.7/dist-packages (from scikit-learn>=0.20.0->category_encoders) (1.1.0)\n",
            "Installing collected packages: category-encoders\n",
            "Successfully installed category-encoders-2.5.0\n"
          ]
        }
      ]
    },
    {
      "cell_type": "code",
      "source": [
        "import category_encoders as ce"
      ],
      "metadata": {
        "colab": {
          "base_uri": "https://localhost:8080/"
        },
        "id": "xB_E29mgK9U5",
        "outputId": "7e7ae97e-b669-426c-df34-16607c206ab9"
      },
      "execution_count": 56,
      "outputs": [
        {
          "output_type": "stream",
          "name": "stderr",
          "text": [
            "/usr/local/lib/python3.7/dist-packages/statsmodels/tools/_testing.py:19: FutureWarning: pandas.util.testing is deprecated. Use the functions in the public API at pandas.testing instead.\n",
            "  import pandas.util.testing as tm\n"
          ]
        }
      ]
    },
    {
      "cell_type": "code",
      "source": [
        "XS.columns"
      ],
      "metadata": {
        "colab": {
          "base_uri": "https://localhost:8080/"
        },
        "id": "oxwh_Z0hLCXV",
        "outputId": "8171957e-d26f-4a58-fce7-fa950d0daf5a"
      },
      "execution_count": 57,
      "outputs": [
        {
          "output_type": "execute_result",
          "data": {
            "text/plain": [
              "Index(['loan_amnt', 'int_rate', 'installment', 'sub_grade', 'grade',\n",
              "       'annual_inc', 'is_verified', 'dti', 'open_acc', 'pub_rec', 'revol_bal',\n",
              "       'revol_util', 'total_acc', 'initial_list_status', 'mort_acc',\n",
              "       'pub_rec_bankruptcies', 'is_36mnths', 'home_ownership_OTHERS',\n",
              "       'home_ownership_RENT', 'purpose_debt_consolidation', 'purpose_others'],\n",
              "      dtype='object')"
            ]
          },
          "metadata": {},
          "execution_count": 57
        }
      ]
    },
    {
      "cell_type": "markdown",
      "source": [
        "Performing Target Encoding on Grade and Sub-Grade"
      ],
      "metadata": {
        "id": "7nv8ZcHZLMlD"
      }
    },
    {
      "cell_type": "code",
      "source": [
        "ce_target=ce.TargetEncoder(cols=['grade','sub_grade'])\n",
        "x_train=ce_target.fit_transform(x_train,y_train)\n",
        "x_val=ce_target.transform(x_val)\n",
        "x_test=ce_target.transform(x_test)"
      ],
      "metadata": {
        "colab": {
          "base_uri": "https://localhost:8080/"
        },
        "id": "IvPPPreOLO4I",
        "outputId": "91ac0327-92eb-40b1-982c-b097079dd8e6"
      },
      "execution_count": 58,
      "outputs": [
        {
          "output_type": "stream",
          "name": "stderr",
          "text": [
            "/usr/local/lib/python3.7/dist-packages/category_encoders/target_encoder.py:94: FutureWarning: Default parameter min_samples_leaf will change in version 2.6.See https://github.com/scikit-learn-contrib/category_encoders/issues/327\n",
            "  category=FutureWarning)\n",
            "/usr/local/lib/python3.7/dist-packages/category_encoders/target_encoder.py:99: FutureWarning: Default parameter smoothing will change in version 2.6.See https://github.com/scikit-learn-contrib/category_encoders/issues/327\n",
            "  category=FutureWarning)\n"
          ]
        }
      ]
    },
    {
      "cell_type": "code",
      "source": [
        "x_train"
      ],
      "metadata": {
        "colab": {
          "base_uri": "https://localhost:8080/",
          "height": 488
        },
        "id": "e8dxg08wLFjd",
        "outputId": "cb5f00b4-3e96-454f-b9af-c045a92a2c33"
      },
      "execution_count": 59,
      "outputs": [
        {
          "output_type": "execute_result",
          "data": {
            "text/plain": [
              "        loan_amnt  int_rate  installment  sub_grade     grade  annual_inc  \\\n",
              "41364     18075.0     14.33       620.67   0.170407  0.212574    61000.00   \n",
              "77418     35000.0     17.14       872.48   0.320043  0.294368   269156.00   \n",
              "81476      3000.0     15.61       104.90   0.256257  0.294368    36000.00   \n",
              "27492      5000.0     10.99       163.67   0.109393  0.122275    45000.00   \n",
              "87626      8000.0      7.89       250.29   0.082898  0.061363    95000.00   \n",
              "...           ...       ...          ...        ...       ...         ...   \n",
              "134090     4000.0     18.25       145.12   0.306399  0.294368    15000.00   \n",
              "9180      21000.0     13.11       479.00   0.123631  0.122275   120000.00   \n",
              "32844     11500.0     13.67       391.21   0.155393  0.122275    25363.68   \n",
              "74074     10000.0     14.33       343.39   0.170407  0.212574    62000.00   \n",
              "56072     35000.0     24.08      1008.51   0.453488  0.432493   110000.00   \n",
              "\n",
              "        is_verified    dti  open_acc  pub_rec  ...  revol_util  total_acc  \\\n",
              "41364             1  15.84        27        0  ...        65.5       45.0   \n",
              "77418             0   1.69         5        1  ...        33.8       23.0   \n",
              "81476             1  31.00         9        0  ...        51.7       15.0   \n",
              "27492             1  26.70        19        0  ...        52.2       45.0   \n",
              "87626             0   4.33        13        0  ...        22.7       42.0   \n",
              "...             ...    ...       ...      ...  ...         ...        ...   \n",
              "134090            1  30.00         7        0  ...        52.6       15.0   \n",
              "9180              1  14.20        17        0  ...        71.9       41.0   \n",
              "32844             1  11.45         5        0  ...        82.5       10.0   \n",
              "74074             1   5.90        10        1  ...        74.0       33.0   \n",
              "56072             1  31.59        14        0  ...        56.4       41.0   \n",
              "\n",
              "        initial_list_status  mort_acc  pub_rec_bankruptcies  is_36mnths  \\\n",
              "41364                     0         1                     0           1   \n",
              "77418                     1         7                     1           0   \n",
              "81476                     0         0                     0           1   \n",
              "27492                     0         1                     0           1   \n",
              "87626                     1         6                     0           1   \n",
              "...                     ...       ...                   ...         ...   \n",
              "134090                    0         3                     0           1   \n",
              "9180                      0         6                     0           0   \n",
              "32844                     0         0                     0           1   \n",
              "74074                     1         2                     1           1   \n",
              "56072                     1         1                     0           0   \n",
              "\n",
              "        home_ownership_OTHERS  home_ownership_RENT  \\\n",
              "41364                       0                    0   \n",
              "77418                       0                    0   \n",
              "81476                       0                    1   \n",
              "27492                       0                    0   \n",
              "87626                       1                    0   \n",
              "...                       ...                  ...   \n",
              "134090                      0                    0   \n",
              "9180                        0                    0   \n",
              "32844                       0                    1   \n",
              "74074                       0                    1   \n",
              "56072                       0                    1   \n",
              "\n",
              "        purpose_debt_consolidation  purpose_others  \n",
              "41364                            1               0  \n",
              "77418                            0               1  \n",
              "81476                            0               1  \n",
              "27492                            0               0  \n",
              "87626                            1               0  \n",
              "...                            ...             ...  \n",
              "134090                           0               1  \n",
              "9180                             1               0  \n",
              "32844                            1               0  \n",
              "74074                            1               0  \n",
              "56072                            1               0  \n",
              "\n",
              "[60064 rows x 21 columns]"
            ],
            "text/html": [
              "\n",
              "  <div id=\"df-2fa68288-e022-4f90-9c0d-4d187d6125f7\">\n",
              "    <div class=\"colab-df-container\">\n",
              "      <div>\n",
              "<style scoped>\n",
              "    .dataframe tbody tr th:only-of-type {\n",
              "        vertical-align: middle;\n",
              "    }\n",
              "\n",
              "    .dataframe tbody tr th {\n",
              "        vertical-align: top;\n",
              "    }\n",
              "\n",
              "    .dataframe thead th {\n",
              "        text-align: right;\n",
              "    }\n",
              "</style>\n",
              "<table border=\"1\" class=\"dataframe\">\n",
              "  <thead>\n",
              "    <tr style=\"text-align: right;\">\n",
              "      <th></th>\n",
              "      <th>loan_amnt</th>\n",
              "      <th>int_rate</th>\n",
              "      <th>installment</th>\n",
              "      <th>sub_grade</th>\n",
              "      <th>grade</th>\n",
              "      <th>annual_inc</th>\n",
              "      <th>is_verified</th>\n",
              "      <th>dti</th>\n",
              "      <th>open_acc</th>\n",
              "      <th>pub_rec</th>\n",
              "      <th>...</th>\n",
              "      <th>revol_util</th>\n",
              "      <th>total_acc</th>\n",
              "      <th>initial_list_status</th>\n",
              "      <th>mort_acc</th>\n",
              "      <th>pub_rec_bankruptcies</th>\n",
              "      <th>is_36mnths</th>\n",
              "      <th>home_ownership_OTHERS</th>\n",
              "      <th>home_ownership_RENT</th>\n",
              "      <th>purpose_debt_consolidation</th>\n",
              "      <th>purpose_others</th>\n",
              "    </tr>\n",
              "  </thead>\n",
              "  <tbody>\n",
              "    <tr>\n",
              "      <th>41364</th>\n",
              "      <td>18075.0</td>\n",
              "      <td>14.33</td>\n",
              "      <td>620.67</td>\n",
              "      <td>0.170407</td>\n",
              "      <td>0.212574</td>\n",
              "      <td>61000.00</td>\n",
              "      <td>1</td>\n",
              "      <td>15.84</td>\n",
              "      <td>27</td>\n",
              "      <td>0</td>\n",
              "      <td>...</td>\n",
              "      <td>65.5</td>\n",
              "      <td>45.0</td>\n",
              "      <td>0</td>\n",
              "      <td>1</td>\n",
              "      <td>0</td>\n",
              "      <td>1</td>\n",
              "      <td>0</td>\n",
              "      <td>0</td>\n",
              "      <td>1</td>\n",
              "      <td>0</td>\n",
              "    </tr>\n",
              "    <tr>\n",
              "      <th>77418</th>\n",
              "      <td>35000.0</td>\n",
              "      <td>17.14</td>\n",
              "      <td>872.48</td>\n",
              "      <td>0.320043</td>\n",
              "      <td>0.294368</td>\n",
              "      <td>269156.00</td>\n",
              "      <td>0</td>\n",
              "      <td>1.69</td>\n",
              "      <td>5</td>\n",
              "      <td>1</td>\n",
              "      <td>...</td>\n",
              "      <td>33.8</td>\n",
              "      <td>23.0</td>\n",
              "      <td>1</td>\n",
              "      <td>7</td>\n",
              "      <td>1</td>\n",
              "      <td>0</td>\n",
              "      <td>0</td>\n",
              "      <td>0</td>\n",
              "      <td>0</td>\n",
              "      <td>1</td>\n",
              "    </tr>\n",
              "    <tr>\n",
              "      <th>81476</th>\n",
              "      <td>3000.0</td>\n",
              "      <td>15.61</td>\n",
              "      <td>104.90</td>\n",
              "      <td>0.256257</td>\n",
              "      <td>0.294368</td>\n",
              "      <td>36000.00</td>\n",
              "      <td>1</td>\n",
              "      <td>31.00</td>\n",
              "      <td>9</td>\n",
              "      <td>0</td>\n",
              "      <td>...</td>\n",
              "      <td>51.7</td>\n",
              "      <td>15.0</td>\n",
              "      <td>0</td>\n",
              "      <td>0</td>\n",
              "      <td>0</td>\n",
              "      <td>1</td>\n",
              "      <td>0</td>\n",
              "      <td>1</td>\n",
              "      <td>0</td>\n",
              "      <td>1</td>\n",
              "    </tr>\n",
              "    <tr>\n",
              "      <th>27492</th>\n",
              "      <td>5000.0</td>\n",
              "      <td>10.99</td>\n",
              "      <td>163.67</td>\n",
              "      <td>0.109393</td>\n",
              "      <td>0.122275</td>\n",
              "      <td>45000.00</td>\n",
              "      <td>1</td>\n",
              "      <td>26.70</td>\n",
              "      <td>19</td>\n",
              "      <td>0</td>\n",
              "      <td>...</td>\n",
              "      <td>52.2</td>\n",
              "      <td>45.0</td>\n",
              "      <td>0</td>\n",
              "      <td>1</td>\n",
              "      <td>0</td>\n",
              "      <td>1</td>\n",
              "      <td>0</td>\n",
              "      <td>0</td>\n",
              "      <td>0</td>\n",
              "      <td>0</td>\n",
              "    </tr>\n",
              "    <tr>\n",
              "      <th>87626</th>\n",
              "      <td>8000.0</td>\n",
              "      <td>7.89</td>\n",
              "      <td>250.29</td>\n",
              "      <td>0.082898</td>\n",
              "      <td>0.061363</td>\n",
              "      <td>95000.00</td>\n",
              "      <td>0</td>\n",
              "      <td>4.33</td>\n",
              "      <td>13</td>\n",
              "      <td>0</td>\n",
              "      <td>...</td>\n",
              "      <td>22.7</td>\n",
              "      <td>42.0</td>\n",
              "      <td>1</td>\n",
              "      <td>6</td>\n",
              "      <td>0</td>\n",
              "      <td>1</td>\n",
              "      <td>1</td>\n",
              "      <td>0</td>\n",
              "      <td>1</td>\n",
              "      <td>0</td>\n",
              "    </tr>\n",
              "    <tr>\n",
              "      <th>...</th>\n",
              "      <td>...</td>\n",
              "      <td>...</td>\n",
              "      <td>...</td>\n",
              "      <td>...</td>\n",
              "      <td>...</td>\n",
              "      <td>...</td>\n",
              "      <td>...</td>\n",
              "      <td>...</td>\n",
              "      <td>...</td>\n",
              "      <td>...</td>\n",
              "      <td>...</td>\n",
              "      <td>...</td>\n",
              "      <td>...</td>\n",
              "      <td>...</td>\n",
              "      <td>...</td>\n",
              "      <td>...</td>\n",
              "      <td>...</td>\n",
              "      <td>...</td>\n",
              "      <td>...</td>\n",
              "      <td>...</td>\n",
              "      <td>...</td>\n",
              "    </tr>\n",
              "    <tr>\n",
              "      <th>134090</th>\n",
              "      <td>4000.0</td>\n",
              "      <td>18.25</td>\n",
              "      <td>145.12</td>\n",
              "      <td>0.306399</td>\n",
              "      <td>0.294368</td>\n",
              "      <td>15000.00</td>\n",
              "      <td>1</td>\n",
              "      <td>30.00</td>\n",
              "      <td>7</td>\n",
              "      <td>0</td>\n",
              "      <td>...</td>\n",
              "      <td>52.6</td>\n",
              "      <td>15.0</td>\n",
              "      <td>0</td>\n",
              "      <td>3</td>\n",
              "      <td>0</td>\n",
              "      <td>1</td>\n",
              "      <td>0</td>\n",
              "      <td>0</td>\n",
              "      <td>0</td>\n",
              "      <td>1</td>\n",
              "    </tr>\n",
              "    <tr>\n",
              "      <th>9180</th>\n",
              "      <td>21000.0</td>\n",
              "      <td>13.11</td>\n",
              "      <td>479.00</td>\n",
              "      <td>0.123631</td>\n",
              "      <td>0.122275</td>\n",
              "      <td>120000.00</td>\n",
              "      <td>1</td>\n",
              "      <td>14.20</td>\n",
              "      <td>17</td>\n",
              "      <td>0</td>\n",
              "      <td>...</td>\n",
              "      <td>71.9</td>\n",
              "      <td>41.0</td>\n",
              "      <td>0</td>\n",
              "      <td>6</td>\n",
              "      <td>0</td>\n",
              "      <td>0</td>\n",
              "      <td>0</td>\n",
              "      <td>0</td>\n",
              "      <td>1</td>\n",
              "      <td>0</td>\n",
              "    </tr>\n",
              "    <tr>\n",
              "      <th>32844</th>\n",
              "      <td>11500.0</td>\n",
              "      <td>13.67</td>\n",
              "      <td>391.21</td>\n",
              "      <td>0.155393</td>\n",
              "      <td>0.122275</td>\n",
              "      <td>25363.68</td>\n",
              "      <td>1</td>\n",
              "      <td>11.45</td>\n",
              "      <td>5</td>\n",
              "      <td>0</td>\n",
              "      <td>...</td>\n",
              "      <td>82.5</td>\n",
              "      <td>10.0</td>\n",
              "      <td>0</td>\n",
              "      <td>0</td>\n",
              "      <td>0</td>\n",
              "      <td>1</td>\n",
              "      <td>0</td>\n",
              "      <td>1</td>\n",
              "      <td>1</td>\n",
              "      <td>0</td>\n",
              "    </tr>\n",
              "    <tr>\n",
              "      <th>74074</th>\n",
              "      <td>10000.0</td>\n",
              "      <td>14.33</td>\n",
              "      <td>343.39</td>\n",
              "      <td>0.170407</td>\n",
              "      <td>0.212574</td>\n",
              "      <td>62000.00</td>\n",
              "      <td>1</td>\n",
              "      <td>5.90</td>\n",
              "      <td>10</td>\n",
              "      <td>1</td>\n",
              "      <td>...</td>\n",
              "      <td>74.0</td>\n",
              "      <td>33.0</td>\n",
              "      <td>1</td>\n",
              "      <td>2</td>\n",
              "      <td>1</td>\n",
              "      <td>1</td>\n",
              "      <td>0</td>\n",
              "      <td>1</td>\n",
              "      <td>1</td>\n",
              "      <td>0</td>\n",
              "    </tr>\n",
              "    <tr>\n",
              "      <th>56072</th>\n",
              "      <td>35000.0</td>\n",
              "      <td>24.08</td>\n",
              "      <td>1008.51</td>\n",
              "      <td>0.453488</td>\n",
              "      <td>0.432493</td>\n",
              "      <td>110000.00</td>\n",
              "      <td>1</td>\n",
              "      <td>31.59</td>\n",
              "      <td>14</td>\n",
              "      <td>0</td>\n",
              "      <td>...</td>\n",
              "      <td>56.4</td>\n",
              "      <td>41.0</td>\n",
              "      <td>1</td>\n",
              "      <td>1</td>\n",
              "      <td>0</td>\n",
              "      <td>0</td>\n",
              "      <td>0</td>\n",
              "      <td>1</td>\n",
              "      <td>1</td>\n",
              "      <td>0</td>\n",
              "    </tr>\n",
              "  </tbody>\n",
              "</table>\n",
              "<p>60064 rows × 21 columns</p>\n",
              "</div>\n",
              "      <button class=\"colab-df-convert\" onclick=\"convertToInteractive('df-2fa68288-e022-4f90-9c0d-4d187d6125f7')\"\n",
              "              title=\"Convert this dataframe to an interactive table.\"\n",
              "              style=\"display:none;\">\n",
              "        \n",
              "  <svg xmlns=\"http://www.w3.org/2000/svg\" height=\"24px\"viewBox=\"0 0 24 24\"\n",
              "       width=\"24px\">\n",
              "    <path d=\"M0 0h24v24H0V0z\" fill=\"none\"/>\n",
              "    <path d=\"M18.56 5.44l.94 2.06.94-2.06 2.06-.94-2.06-.94-.94-2.06-.94 2.06-2.06.94zm-11 1L8.5 8.5l.94-2.06 2.06-.94-2.06-.94L8.5 2.5l-.94 2.06-2.06.94zm10 10l.94 2.06.94-2.06 2.06-.94-2.06-.94-.94-2.06-.94 2.06-2.06.94z\"/><path d=\"M17.41 7.96l-1.37-1.37c-.4-.4-.92-.59-1.43-.59-.52 0-1.04.2-1.43.59L10.3 9.45l-7.72 7.72c-.78.78-.78 2.05 0 2.83L4 21.41c.39.39.9.59 1.41.59.51 0 1.02-.2 1.41-.59l7.78-7.78 2.81-2.81c.8-.78.8-2.07 0-2.86zM5.41 20L4 18.59l7.72-7.72 1.47 1.35L5.41 20z\"/>\n",
              "  </svg>\n",
              "      </button>\n",
              "      \n",
              "  <style>\n",
              "    .colab-df-container {\n",
              "      display:flex;\n",
              "      flex-wrap:wrap;\n",
              "      gap: 12px;\n",
              "    }\n",
              "\n",
              "    .colab-df-convert {\n",
              "      background-color: #E8F0FE;\n",
              "      border: none;\n",
              "      border-radius: 50%;\n",
              "      cursor: pointer;\n",
              "      display: none;\n",
              "      fill: #1967D2;\n",
              "      height: 32px;\n",
              "      padding: 0 0 0 0;\n",
              "      width: 32px;\n",
              "    }\n",
              "\n",
              "    .colab-df-convert:hover {\n",
              "      background-color: #E2EBFA;\n",
              "      box-shadow: 0px 1px 2px rgba(60, 64, 67, 0.3), 0px 1px 3px 1px rgba(60, 64, 67, 0.15);\n",
              "      fill: #174EA6;\n",
              "    }\n",
              "\n",
              "    [theme=dark] .colab-df-convert {\n",
              "      background-color: #3B4455;\n",
              "      fill: #D2E3FC;\n",
              "    }\n",
              "\n",
              "    [theme=dark] .colab-df-convert:hover {\n",
              "      background-color: #434B5C;\n",
              "      box-shadow: 0px 1px 3px 1px rgba(0, 0, 0, 0.15);\n",
              "      filter: drop-shadow(0px 1px 2px rgba(0, 0, 0, 0.3));\n",
              "      fill: #FFFFFF;\n",
              "    }\n",
              "  </style>\n",
              "\n",
              "      <script>\n",
              "        const buttonEl =\n",
              "          document.querySelector('#df-2fa68288-e022-4f90-9c0d-4d187d6125f7 button.colab-df-convert');\n",
              "        buttonEl.style.display =\n",
              "          google.colab.kernel.accessAllowed ? 'block' : 'none';\n",
              "\n",
              "        async function convertToInteractive(key) {\n",
              "          const element = document.querySelector('#df-2fa68288-e022-4f90-9c0d-4d187d6125f7');\n",
              "          const dataTable =\n",
              "            await google.colab.kernel.invokeFunction('convertToInteractive',\n",
              "                                                     [key], {});\n",
              "          if (!dataTable) return;\n",
              "\n",
              "          const docLinkHtml = 'Like what you see? Visit the ' +\n",
              "            '<a target=\"_blank\" href=https://colab.research.google.com/notebooks/data_table.ipynb>data table notebook</a>'\n",
              "            + ' to learn more about interactive tables.';\n",
              "          element.innerHTML = '';\n",
              "          dataTable['output_type'] = 'display_data';\n",
              "          await google.colab.output.renderOutput(dataTable, element);\n",
              "          const docLink = document.createElement('div');\n",
              "          docLink.innerHTML = docLinkHtml;\n",
              "          element.appendChild(docLink);\n",
              "        }\n",
              "      </script>\n",
              "    </div>\n",
              "  </div>\n",
              "  "
            ]
          },
          "metadata": {},
          "execution_count": 59
        }
      ]
    },
    {
      "cell_type": "markdown",
      "source": [
        "Standarisation of the Features"
      ],
      "metadata": {
        "id": "lycdcnlaLpFp"
      }
    },
    {
      "cell_type": "code",
      "source": [
        "cols=['loan_amnt','int_rate','installment','annual_inc','dti',\n",
        " 'open_acc','revol_bal','revol_util','total_acc','mort_acc']\n",
        "d={}\n",
        "for i in cols:\n",
        "    mean_i=x_train[i].mean()\n",
        "    std_i=x_train[i].std()\n",
        "    x_train[i]=(x_train[i]-mean_i)/std_i\n",
        "    d[i]=[mean_i,std_i]\n",
        "x_train"
      ],
      "metadata": {
        "colab": {
          "base_uri": "https://localhost:8080/",
          "height": 488
        },
        "id": "_9yuhVweLqHC",
        "outputId": "4c6ae729-15d2-47dc-bc74-7e8b3b47b315"
      },
      "execution_count": 60,
      "outputs": [
        {
          "output_type": "execute_result",
          "data": {
            "text/plain": [
              "        loan_amnt  int_rate  installment  sub_grade     grade  annual_inc  \\\n",
              "41364    0.431600  0.119301     0.707463   0.170407  0.212574   -0.297086   \n",
              "77418    2.452470  0.745380     1.710117   0.320043  0.294368    4.029263   \n",
              "81476   -1.368378  0.404490    -1.346223   0.256257  0.294368   -0.816690   \n",
              "27492   -1.129575 -0.624863    -1.112213   0.109393  0.122275   -0.629632   \n",
              "87626   -0.771370 -1.315554    -0.767311   0.082898  0.061363    0.409576   \n",
              "...           ...       ...          ...        ...       ...         ...   \n",
              "134090  -1.248976  0.992692    -1.186075   0.306399  0.294368   -1.253157   \n",
              "9180     0.780849 -0.152519     0.143364   0.123631  0.122275    0.929180   \n",
              "32844   -0.353465 -0.027749    -0.206197   0.155393  0.122275   -1.037757   \n",
              "74074   -0.532567  0.119301    -0.396606   0.170407  0.212574   -0.276301   \n",
              "56072    2.452470  2.291637     2.251759   0.453488  0.432493    0.721338   \n",
              "\n",
              "        is_verified       dti  open_acc  pub_rec  ...  revol_util  total_acc  \\\n",
              "41364             1 -0.226418  2.970394        0  ...    0.470989   1.608355   \n",
              "77418             0 -1.969776 -1.267746        1  ...   -0.855154  -0.239373   \n",
              "81476             1  1.641377 -0.497175        0  ...   -0.106322  -0.911273   \n",
              "27492             1  1.111594  1.429252        0  ...   -0.085405   1.608355   \n",
              "87626             0 -1.644514  0.273396        0  ...   -1.319514   1.356392   \n",
              "...             ...       ...       ...      ...  ...         ...        ...   \n",
              "134090            1  1.518172 -0.882460        0  ...   -0.068672  -0.911273   \n",
              "9180              1 -0.428475  1.043967        0  ...    0.738728   1.272404   \n",
              "32844             1 -0.767291 -1.267746        0  ...    1.182171  -1.331211   \n",
              "74074             1 -1.451081 -0.304532        1  ...    0.826580   0.600504   \n",
              "56072             1  1.714069  0.466039        0  ...    0.090298   1.272404   \n",
              "\n",
              "        initial_list_status  mort_acc  pub_rec_bankruptcies  is_36mnths  \\\n",
              "41364                     0 -0.374441                     0           1   \n",
              "77418                     1  2.437328                     1           0   \n",
              "81476                     0 -0.843069                     0           1   \n",
              "27492                     0 -0.374441                     0           1   \n",
              "87626                     1  1.968700                     0           1   \n",
              "...                     ...       ...                   ...         ...   \n",
              "134090                    0  0.562816                     0           1   \n",
              "9180                      0  1.968700                     0           0   \n",
              "32844                     0 -0.843069                     0           1   \n",
              "74074                     1  0.094187                     1           1   \n",
              "56072                     1 -0.374441                     0           0   \n",
              "\n",
              "        home_ownership_OTHERS  home_ownership_RENT  \\\n",
              "41364                       0                    0   \n",
              "77418                       0                    0   \n",
              "81476                       0                    1   \n",
              "27492                       0                    0   \n",
              "87626                       1                    0   \n",
              "...                       ...                  ...   \n",
              "134090                      0                    0   \n",
              "9180                        0                    0   \n",
              "32844                       0                    1   \n",
              "74074                       0                    1   \n",
              "56072                       0                    1   \n",
              "\n",
              "        purpose_debt_consolidation  purpose_others  \n",
              "41364                            1               0  \n",
              "77418                            0               1  \n",
              "81476                            0               1  \n",
              "27492                            0               0  \n",
              "87626                            1               0  \n",
              "...                            ...             ...  \n",
              "134090                           0               1  \n",
              "9180                             1               0  \n",
              "32844                            1               0  \n",
              "74074                            1               0  \n",
              "56072                            1               0  \n",
              "\n",
              "[60064 rows x 21 columns]"
            ],
            "text/html": [
              "\n",
              "  <div id=\"df-e269684e-5ebb-43af-bdb8-a82ee3c4753d\">\n",
              "    <div class=\"colab-df-container\">\n",
              "      <div>\n",
              "<style scoped>\n",
              "    .dataframe tbody tr th:only-of-type {\n",
              "        vertical-align: middle;\n",
              "    }\n",
              "\n",
              "    .dataframe tbody tr th {\n",
              "        vertical-align: top;\n",
              "    }\n",
              "\n",
              "    .dataframe thead th {\n",
              "        text-align: right;\n",
              "    }\n",
              "</style>\n",
              "<table border=\"1\" class=\"dataframe\">\n",
              "  <thead>\n",
              "    <tr style=\"text-align: right;\">\n",
              "      <th></th>\n",
              "      <th>loan_amnt</th>\n",
              "      <th>int_rate</th>\n",
              "      <th>installment</th>\n",
              "      <th>sub_grade</th>\n",
              "      <th>grade</th>\n",
              "      <th>annual_inc</th>\n",
              "      <th>is_verified</th>\n",
              "      <th>dti</th>\n",
              "      <th>open_acc</th>\n",
              "      <th>pub_rec</th>\n",
              "      <th>...</th>\n",
              "      <th>revol_util</th>\n",
              "      <th>total_acc</th>\n",
              "      <th>initial_list_status</th>\n",
              "      <th>mort_acc</th>\n",
              "      <th>pub_rec_bankruptcies</th>\n",
              "      <th>is_36mnths</th>\n",
              "      <th>home_ownership_OTHERS</th>\n",
              "      <th>home_ownership_RENT</th>\n",
              "      <th>purpose_debt_consolidation</th>\n",
              "      <th>purpose_others</th>\n",
              "    </tr>\n",
              "  </thead>\n",
              "  <tbody>\n",
              "    <tr>\n",
              "      <th>41364</th>\n",
              "      <td>0.431600</td>\n",
              "      <td>0.119301</td>\n",
              "      <td>0.707463</td>\n",
              "      <td>0.170407</td>\n",
              "      <td>0.212574</td>\n",
              "      <td>-0.297086</td>\n",
              "      <td>1</td>\n",
              "      <td>-0.226418</td>\n",
              "      <td>2.970394</td>\n",
              "      <td>0</td>\n",
              "      <td>...</td>\n",
              "      <td>0.470989</td>\n",
              "      <td>1.608355</td>\n",
              "      <td>0</td>\n",
              "      <td>-0.374441</td>\n",
              "      <td>0</td>\n",
              "      <td>1</td>\n",
              "      <td>0</td>\n",
              "      <td>0</td>\n",
              "      <td>1</td>\n",
              "      <td>0</td>\n",
              "    </tr>\n",
              "    <tr>\n",
              "      <th>77418</th>\n",
              "      <td>2.452470</td>\n",
              "      <td>0.745380</td>\n",
              "      <td>1.710117</td>\n",
              "      <td>0.320043</td>\n",
              "      <td>0.294368</td>\n",
              "      <td>4.029263</td>\n",
              "      <td>0</td>\n",
              "      <td>-1.969776</td>\n",
              "      <td>-1.267746</td>\n",
              "      <td>1</td>\n",
              "      <td>...</td>\n",
              "      <td>-0.855154</td>\n",
              "      <td>-0.239373</td>\n",
              "      <td>1</td>\n",
              "      <td>2.437328</td>\n",
              "      <td>1</td>\n",
              "      <td>0</td>\n",
              "      <td>0</td>\n",
              "      <td>0</td>\n",
              "      <td>0</td>\n",
              "      <td>1</td>\n",
              "    </tr>\n",
              "    <tr>\n",
              "      <th>81476</th>\n",
              "      <td>-1.368378</td>\n",
              "      <td>0.404490</td>\n",
              "      <td>-1.346223</td>\n",
              "      <td>0.256257</td>\n",
              "      <td>0.294368</td>\n",
              "      <td>-0.816690</td>\n",
              "      <td>1</td>\n",
              "      <td>1.641377</td>\n",
              "      <td>-0.497175</td>\n",
              "      <td>0</td>\n",
              "      <td>...</td>\n",
              "      <td>-0.106322</td>\n",
              "      <td>-0.911273</td>\n",
              "      <td>0</td>\n",
              "      <td>-0.843069</td>\n",
              "      <td>0</td>\n",
              "      <td>1</td>\n",
              "      <td>0</td>\n",
              "      <td>1</td>\n",
              "      <td>0</td>\n",
              "      <td>1</td>\n",
              "    </tr>\n",
              "    <tr>\n",
              "      <th>27492</th>\n",
              "      <td>-1.129575</td>\n",
              "      <td>-0.624863</td>\n",
              "      <td>-1.112213</td>\n",
              "      <td>0.109393</td>\n",
              "      <td>0.122275</td>\n",
              "      <td>-0.629632</td>\n",
              "      <td>1</td>\n",
              "      <td>1.111594</td>\n",
              "      <td>1.429252</td>\n",
              "      <td>0</td>\n",
              "      <td>...</td>\n",
              "      <td>-0.085405</td>\n",
              "      <td>1.608355</td>\n",
              "      <td>0</td>\n",
              "      <td>-0.374441</td>\n",
              "      <td>0</td>\n",
              "      <td>1</td>\n",
              "      <td>0</td>\n",
              "      <td>0</td>\n",
              "      <td>0</td>\n",
              "      <td>0</td>\n",
              "    </tr>\n",
              "    <tr>\n",
              "      <th>87626</th>\n",
              "      <td>-0.771370</td>\n",
              "      <td>-1.315554</td>\n",
              "      <td>-0.767311</td>\n",
              "      <td>0.082898</td>\n",
              "      <td>0.061363</td>\n",
              "      <td>0.409576</td>\n",
              "      <td>0</td>\n",
              "      <td>-1.644514</td>\n",
              "      <td>0.273396</td>\n",
              "      <td>0</td>\n",
              "      <td>...</td>\n",
              "      <td>-1.319514</td>\n",
              "      <td>1.356392</td>\n",
              "      <td>1</td>\n",
              "      <td>1.968700</td>\n",
              "      <td>0</td>\n",
              "      <td>1</td>\n",
              "      <td>1</td>\n",
              "      <td>0</td>\n",
              "      <td>1</td>\n",
              "      <td>0</td>\n",
              "    </tr>\n",
              "    <tr>\n",
              "      <th>...</th>\n",
              "      <td>...</td>\n",
              "      <td>...</td>\n",
              "      <td>...</td>\n",
              "      <td>...</td>\n",
              "      <td>...</td>\n",
              "      <td>...</td>\n",
              "      <td>...</td>\n",
              "      <td>...</td>\n",
              "      <td>...</td>\n",
              "      <td>...</td>\n",
              "      <td>...</td>\n",
              "      <td>...</td>\n",
              "      <td>...</td>\n",
              "      <td>...</td>\n",
              "      <td>...</td>\n",
              "      <td>...</td>\n",
              "      <td>...</td>\n",
              "      <td>...</td>\n",
              "      <td>...</td>\n",
              "      <td>...</td>\n",
              "      <td>...</td>\n",
              "    </tr>\n",
              "    <tr>\n",
              "      <th>134090</th>\n",
              "      <td>-1.248976</td>\n",
              "      <td>0.992692</td>\n",
              "      <td>-1.186075</td>\n",
              "      <td>0.306399</td>\n",
              "      <td>0.294368</td>\n",
              "      <td>-1.253157</td>\n",
              "      <td>1</td>\n",
              "      <td>1.518172</td>\n",
              "      <td>-0.882460</td>\n",
              "      <td>0</td>\n",
              "      <td>...</td>\n",
              "      <td>-0.068672</td>\n",
              "      <td>-0.911273</td>\n",
              "      <td>0</td>\n",
              "      <td>0.562816</td>\n",
              "      <td>0</td>\n",
              "      <td>1</td>\n",
              "      <td>0</td>\n",
              "      <td>0</td>\n",
              "      <td>0</td>\n",
              "      <td>1</td>\n",
              "    </tr>\n",
              "    <tr>\n",
              "      <th>9180</th>\n",
              "      <td>0.780849</td>\n",
              "      <td>-0.152519</td>\n",
              "      <td>0.143364</td>\n",
              "      <td>0.123631</td>\n",
              "      <td>0.122275</td>\n",
              "      <td>0.929180</td>\n",
              "      <td>1</td>\n",
              "      <td>-0.428475</td>\n",
              "      <td>1.043967</td>\n",
              "      <td>0</td>\n",
              "      <td>...</td>\n",
              "      <td>0.738728</td>\n",
              "      <td>1.272404</td>\n",
              "      <td>0</td>\n",
              "      <td>1.968700</td>\n",
              "      <td>0</td>\n",
              "      <td>0</td>\n",
              "      <td>0</td>\n",
              "      <td>0</td>\n",
              "      <td>1</td>\n",
              "      <td>0</td>\n",
              "    </tr>\n",
              "    <tr>\n",
              "      <th>32844</th>\n",
              "      <td>-0.353465</td>\n",
              "      <td>-0.027749</td>\n",
              "      <td>-0.206197</td>\n",
              "      <td>0.155393</td>\n",
              "      <td>0.122275</td>\n",
              "      <td>-1.037757</td>\n",
              "      <td>1</td>\n",
              "      <td>-0.767291</td>\n",
              "      <td>-1.267746</td>\n",
              "      <td>0</td>\n",
              "      <td>...</td>\n",
              "      <td>1.182171</td>\n",
              "      <td>-1.331211</td>\n",
              "      <td>0</td>\n",
              "      <td>-0.843069</td>\n",
              "      <td>0</td>\n",
              "      <td>1</td>\n",
              "      <td>0</td>\n",
              "      <td>1</td>\n",
              "      <td>1</td>\n",
              "      <td>0</td>\n",
              "    </tr>\n",
              "    <tr>\n",
              "      <th>74074</th>\n",
              "      <td>-0.532567</td>\n",
              "      <td>0.119301</td>\n",
              "      <td>-0.396606</td>\n",
              "      <td>0.170407</td>\n",
              "      <td>0.212574</td>\n",
              "      <td>-0.276301</td>\n",
              "      <td>1</td>\n",
              "      <td>-1.451081</td>\n",
              "      <td>-0.304532</td>\n",
              "      <td>1</td>\n",
              "      <td>...</td>\n",
              "      <td>0.826580</td>\n",
              "      <td>0.600504</td>\n",
              "      <td>1</td>\n",
              "      <td>0.094187</td>\n",
              "      <td>1</td>\n",
              "      <td>1</td>\n",
              "      <td>0</td>\n",
              "      <td>1</td>\n",
              "      <td>1</td>\n",
              "      <td>0</td>\n",
              "    </tr>\n",
              "    <tr>\n",
              "      <th>56072</th>\n",
              "      <td>2.452470</td>\n",
              "      <td>2.291637</td>\n",
              "      <td>2.251759</td>\n",
              "      <td>0.453488</td>\n",
              "      <td>0.432493</td>\n",
              "      <td>0.721338</td>\n",
              "      <td>1</td>\n",
              "      <td>1.714069</td>\n",
              "      <td>0.466039</td>\n",
              "      <td>0</td>\n",
              "      <td>...</td>\n",
              "      <td>0.090298</td>\n",
              "      <td>1.272404</td>\n",
              "      <td>1</td>\n",
              "      <td>-0.374441</td>\n",
              "      <td>0</td>\n",
              "      <td>0</td>\n",
              "      <td>0</td>\n",
              "      <td>1</td>\n",
              "      <td>1</td>\n",
              "      <td>0</td>\n",
              "    </tr>\n",
              "  </tbody>\n",
              "</table>\n",
              "<p>60064 rows × 21 columns</p>\n",
              "</div>\n",
              "      <button class=\"colab-df-convert\" onclick=\"convertToInteractive('df-e269684e-5ebb-43af-bdb8-a82ee3c4753d')\"\n",
              "              title=\"Convert this dataframe to an interactive table.\"\n",
              "              style=\"display:none;\">\n",
              "        \n",
              "  <svg xmlns=\"http://www.w3.org/2000/svg\" height=\"24px\"viewBox=\"0 0 24 24\"\n",
              "       width=\"24px\">\n",
              "    <path d=\"M0 0h24v24H0V0z\" fill=\"none\"/>\n",
              "    <path d=\"M18.56 5.44l.94 2.06.94-2.06 2.06-.94-2.06-.94-.94-2.06-.94 2.06-2.06.94zm-11 1L8.5 8.5l.94-2.06 2.06-.94-2.06-.94L8.5 2.5l-.94 2.06-2.06.94zm10 10l.94 2.06.94-2.06 2.06-.94-2.06-.94-.94-2.06-.94 2.06-2.06.94z\"/><path d=\"M17.41 7.96l-1.37-1.37c-.4-.4-.92-.59-1.43-.59-.52 0-1.04.2-1.43.59L10.3 9.45l-7.72 7.72c-.78.78-.78 2.05 0 2.83L4 21.41c.39.39.9.59 1.41.59.51 0 1.02-.2 1.41-.59l7.78-7.78 2.81-2.81c.8-.78.8-2.07 0-2.86zM5.41 20L4 18.59l7.72-7.72 1.47 1.35L5.41 20z\"/>\n",
              "  </svg>\n",
              "      </button>\n",
              "      \n",
              "  <style>\n",
              "    .colab-df-container {\n",
              "      display:flex;\n",
              "      flex-wrap:wrap;\n",
              "      gap: 12px;\n",
              "    }\n",
              "\n",
              "    .colab-df-convert {\n",
              "      background-color: #E8F0FE;\n",
              "      border: none;\n",
              "      border-radius: 50%;\n",
              "      cursor: pointer;\n",
              "      display: none;\n",
              "      fill: #1967D2;\n",
              "      height: 32px;\n",
              "      padding: 0 0 0 0;\n",
              "      width: 32px;\n",
              "    }\n",
              "\n",
              "    .colab-df-convert:hover {\n",
              "      background-color: #E2EBFA;\n",
              "      box-shadow: 0px 1px 2px rgba(60, 64, 67, 0.3), 0px 1px 3px 1px rgba(60, 64, 67, 0.15);\n",
              "      fill: #174EA6;\n",
              "    }\n",
              "\n",
              "    [theme=dark] .colab-df-convert {\n",
              "      background-color: #3B4455;\n",
              "      fill: #D2E3FC;\n",
              "    }\n",
              "\n",
              "    [theme=dark] .colab-df-convert:hover {\n",
              "      background-color: #434B5C;\n",
              "      box-shadow: 0px 1px 3px 1px rgba(0, 0, 0, 0.15);\n",
              "      filter: drop-shadow(0px 1px 2px rgba(0, 0, 0, 0.3));\n",
              "      fill: #FFFFFF;\n",
              "    }\n",
              "  </style>\n",
              "\n",
              "      <script>\n",
              "        const buttonEl =\n",
              "          document.querySelector('#df-e269684e-5ebb-43af-bdb8-a82ee3c4753d button.colab-df-convert');\n",
              "        buttonEl.style.display =\n",
              "          google.colab.kernel.accessAllowed ? 'block' : 'none';\n",
              "\n",
              "        async function convertToInteractive(key) {\n",
              "          const element = document.querySelector('#df-e269684e-5ebb-43af-bdb8-a82ee3c4753d');\n",
              "          const dataTable =\n",
              "            await google.colab.kernel.invokeFunction('convertToInteractive',\n",
              "                                                     [key], {});\n",
              "          if (!dataTable) return;\n",
              "\n",
              "          const docLinkHtml = 'Like what you see? Visit the ' +\n",
              "            '<a target=\"_blank\" href=https://colab.research.google.com/notebooks/data_table.ipynb>data table notebook</a>'\n",
              "            + ' to learn more about interactive tables.';\n",
              "          element.innerHTML = '';\n",
              "          dataTable['output_type'] = 'display_data';\n",
              "          await google.colab.output.renderOutput(dataTable, element);\n",
              "          const docLink = document.createElement('div');\n",
              "          docLink.innerHTML = docLinkHtml;\n",
              "          element.appendChild(docLink);\n",
              "        }\n",
              "      </script>\n",
              "    </div>\n",
              "  </div>\n",
              "  "
            ]
          },
          "metadata": {},
          "execution_count": 60
        }
      ]
    },
    {
      "cell_type": "code",
      "source": [
        "for i in cols:\n",
        "  x_val[i]=(x_val[i]-d[i][0])/d[i][1]\n",
        "  x_test[i]=(x_test[i]-d[i][0])/d[i][1]\n",
        "x_test"
      ],
      "metadata": {
        "colab": {
          "base_uri": "https://localhost:8080/",
          "height": 488
        },
        "id": "BvnOueBgLvg-",
        "outputId": "70eb5b77-a758-47fe-fada-7d5ac412ea86"
      },
      "execution_count": 61,
      "outputs": [
        {
          "output_type": "execute_result",
          "data": {
            "text/plain": [
              "        loan_amnt  int_rate  installment  sub_grade     grade  annual_inc  \\\n",
              "168070  -1.010173  0.883518    -0.903050   0.256257  0.294368   -0.627242   \n",
              "175254   1.616660 -1.627479     1.652660   0.043807  0.061363    1.137022   \n",
              "29248    1.139054 -1.315554     1.225852   0.082898  0.061363    1.137022   \n",
              "175162  -0.272869  0.446823    -0.064326   0.220937  0.212574   -0.837474   \n",
              "48540    1.855463 -0.027749     2.299621   0.220937  0.212574   -0.068460   \n",
              "...           ...       ...          ...        ...       ...         ...   \n",
              "57916   -0.699730 -1.204152    -0.684649   0.082898  0.061363    0.492713   \n",
              "143462  -1.129575 -0.103502    -1.089915   0.220937  0.212574   -0.879042   \n",
              "85076    2.452470  0.041320     2.997827   0.170407  0.212574    0.929180   \n",
              "59534   -0.413166  0.841185    -0.189872   0.320043  0.294368   -0.514945   \n",
              "2288     1.258455  0.555996     1.750054   0.286172  0.294368   -0.359438   \n",
              "\n",
              "        is_verified       dti  open_acc  pub_rec  ...  revol_util  total_acc  \\\n",
              "168070            1 -0.503631 -0.111890        0  ...    0.814030  -0.995261   \n",
              "175254            1  0.924321  1.814537        0  ...    0.709444   1.692342   \n",
              "29248             0  0.002744  0.273396        0  ...    0.052647   0.264553   \n",
              "175162            1  1.974032  0.080753        0  ...    0.245085   0.432528   \n",
              "48540             1 -1.438761  0.080753        0  ...   -0.549765   0.516516   \n",
              "...             ...       ...       ...      ...  ...         ...        ...   \n",
              "57916             0 -1.375926 -0.882460        0  ...   -1.260946  -0.407348   \n",
              "143462            1 -0.385354  3.355679        1  ...    1.696731   1.020442   \n",
              "85076             1  1.864379  0.080753        0  ...    0.508640   0.096578   \n",
              "59534             1  1.100505  1.429252        1  ...   -0.315493   0.012590   \n",
              "2288              1  1.082024 -0.111890        0  ...    1.039934   0.348541   \n",
              "\n",
              "        initial_list_status  mort_acc  pub_rec_bankruptcies  is_36mnths  \\\n",
              "168070                    0 -0.843069                     0           1   \n",
              "175254                    0  0.094187                     0           1   \n",
              "29248                     1  0.562816                     0           1   \n",
              "175162                    0 -0.843069                     0           1   \n",
              "48540                     1  0.094187                     0           1   \n",
              "...                     ...       ...                   ...         ...   \n",
              "57916                     1  0.562816                     0           1   \n",
              "143462                    0 -0.843069                     0           1   \n",
              "85076                     0 -0.374441                     0           1   \n",
              "59534                     0  0.094187                     1           1   \n",
              "2288                      1 -0.843069                     0           1   \n",
              "\n",
              "        home_ownership_OTHERS  home_ownership_RENT  \\\n",
              "168070                      1                    0   \n",
              "175254                      0                    0   \n",
              "29248                       0                    0   \n",
              "175162                      0                    1   \n",
              "48540                       0                    0   \n",
              "...                       ...                  ...   \n",
              "57916                       1                    0   \n",
              "143462                      0                    1   \n",
              "85076                       0                    0   \n",
              "59534                       0                    0   \n",
              "2288                        0                    1   \n",
              "\n",
              "        purpose_debt_consolidation  purpose_others  \n",
              "168070                           1               0  \n",
              "175254                           1               0  \n",
              "29248                            1               0  \n",
              "175162                           0               0  \n",
              "48540                            0               1  \n",
              "...                            ...             ...  \n",
              "57916                            0               0  \n",
              "143462                           1               0  \n",
              "85076                            0               1  \n",
              "59534                            1               0  \n",
              "2288                             1               0  \n",
              "\n",
              "[12471 rows x 21 columns]"
            ],
            "text/html": [
              "\n",
              "  <div id=\"df-5ae17152-e1a1-4556-8e9b-86a31b918294\">\n",
              "    <div class=\"colab-df-container\">\n",
              "      <div>\n",
              "<style scoped>\n",
              "    .dataframe tbody tr th:only-of-type {\n",
              "        vertical-align: middle;\n",
              "    }\n",
              "\n",
              "    .dataframe tbody tr th {\n",
              "        vertical-align: top;\n",
              "    }\n",
              "\n",
              "    .dataframe thead th {\n",
              "        text-align: right;\n",
              "    }\n",
              "</style>\n",
              "<table border=\"1\" class=\"dataframe\">\n",
              "  <thead>\n",
              "    <tr style=\"text-align: right;\">\n",
              "      <th></th>\n",
              "      <th>loan_amnt</th>\n",
              "      <th>int_rate</th>\n",
              "      <th>installment</th>\n",
              "      <th>sub_grade</th>\n",
              "      <th>grade</th>\n",
              "      <th>annual_inc</th>\n",
              "      <th>is_verified</th>\n",
              "      <th>dti</th>\n",
              "      <th>open_acc</th>\n",
              "      <th>pub_rec</th>\n",
              "      <th>...</th>\n",
              "      <th>revol_util</th>\n",
              "      <th>total_acc</th>\n",
              "      <th>initial_list_status</th>\n",
              "      <th>mort_acc</th>\n",
              "      <th>pub_rec_bankruptcies</th>\n",
              "      <th>is_36mnths</th>\n",
              "      <th>home_ownership_OTHERS</th>\n",
              "      <th>home_ownership_RENT</th>\n",
              "      <th>purpose_debt_consolidation</th>\n",
              "      <th>purpose_others</th>\n",
              "    </tr>\n",
              "  </thead>\n",
              "  <tbody>\n",
              "    <tr>\n",
              "      <th>168070</th>\n",
              "      <td>-1.010173</td>\n",
              "      <td>0.883518</td>\n",
              "      <td>-0.903050</td>\n",
              "      <td>0.256257</td>\n",
              "      <td>0.294368</td>\n",
              "      <td>-0.627242</td>\n",
              "      <td>1</td>\n",
              "      <td>-0.503631</td>\n",
              "      <td>-0.111890</td>\n",
              "      <td>0</td>\n",
              "      <td>...</td>\n",
              "      <td>0.814030</td>\n",
              "      <td>-0.995261</td>\n",
              "      <td>0</td>\n",
              "      <td>-0.843069</td>\n",
              "      <td>0</td>\n",
              "      <td>1</td>\n",
              "      <td>1</td>\n",
              "      <td>0</td>\n",
              "      <td>1</td>\n",
              "      <td>0</td>\n",
              "    </tr>\n",
              "    <tr>\n",
              "      <th>175254</th>\n",
              "      <td>1.616660</td>\n",
              "      <td>-1.627479</td>\n",
              "      <td>1.652660</td>\n",
              "      <td>0.043807</td>\n",
              "      <td>0.061363</td>\n",
              "      <td>1.137022</td>\n",
              "      <td>1</td>\n",
              "      <td>0.924321</td>\n",
              "      <td>1.814537</td>\n",
              "      <td>0</td>\n",
              "      <td>...</td>\n",
              "      <td>0.709444</td>\n",
              "      <td>1.692342</td>\n",
              "      <td>0</td>\n",
              "      <td>0.094187</td>\n",
              "      <td>0</td>\n",
              "      <td>1</td>\n",
              "      <td>0</td>\n",
              "      <td>0</td>\n",
              "      <td>1</td>\n",
              "      <td>0</td>\n",
              "    </tr>\n",
              "    <tr>\n",
              "      <th>29248</th>\n",
              "      <td>1.139054</td>\n",
              "      <td>-1.315554</td>\n",
              "      <td>1.225852</td>\n",
              "      <td>0.082898</td>\n",
              "      <td>0.061363</td>\n",
              "      <td>1.137022</td>\n",
              "      <td>0</td>\n",
              "      <td>0.002744</td>\n",
              "      <td>0.273396</td>\n",
              "      <td>0</td>\n",
              "      <td>...</td>\n",
              "      <td>0.052647</td>\n",
              "      <td>0.264553</td>\n",
              "      <td>1</td>\n",
              "      <td>0.562816</td>\n",
              "      <td>0</td>\n",
              "      <td>1</td>\n",
              "      <td>0</td>\n",
              "      <td>0</td>\n",
              "      <td>1</td>\n",
              "      <td>0</td>\n",
              "    </tr>\n",
              "    <tr>\n",
              "      <th>175162</th>\n",
              "      <td>-0.272869</td>\n",
              "      <td>0.446823</td>\n",
              "      <td>-0.064326</td>\n",
              "      <td>0.220937</td>\n",
              "      <td>0.212574</td>\n",
              "      <td>-0.837474</td>\n",
              "      <td>1</td>\n",
              "      <td>1.974032</td>\n",
              "      <td>0.080753</td>\n",
              "      <td>0</td>\n",
              "      <td>...</td>\n",
              "      <td>0.245085</td>\n",
              "      <td>0.432528</td>\n",
              "      <td>0</td>\n",
              "      <td>-0.843069</td>\n",
              "      <td>0</td>\n",
              "      <td>1</td>\n",
              "      <td>0</td>\n",
              "      <td>1</td>\n",
              "      <td>0</td>\n",
              "      <td>0</td>\n",
              "    </tr>\n",
              "    <tr>\n",
              "      <th>48540</th>\n",
              "      <td>1.855463</td>\n",
              "      <td>-0.027749</td>\n",
              "      <td>2.299621</td>\n",
              "      <td>0.220937</td>\n",
              "      <td>0.212574</td>\n",
              "      <td>-0.068460</td>\n",
              "      <td>1</td>\n",
              "      <td>-1.438761</td>\n",
              "      <td>0.080753</td>\n",
              "      <td>0</td>\n",
              "      <td>...</td>\n",
              "      <td>-0.549765</td>\n",
              "      <td>0.516516</td>\n",
              "      <td>1</td>\n",
              "      <td>0.094187</td>\n",
              "      <td>0</td>\n",
              "      <td>1</td>\n",
              "      <td>0</td>\n",
              "      <td>0</td>\n",
              "      <td>0</td>\n",
              "      <td>1</td>\n",
              "    </tr>\n",
              "    <tr>\n",
              "      <th>...</th>\n",
              "      <td>...</td>\n",
              "      <td>...</td>\n",
              "      <td>...</td>\n",
              "      <td>...</td>\n",
              "      <td>...</td>\n",
              "      <td>...</td>\n",
              "      <td>...</td>\n",
              "      <td>...</td>\n",
              "      <td>...</td>\n",
              "      <td>...</td>\n",
              "      <td>...</td>\n",
              "      <td>...</td>\n",
              "      <td>...</td>\n",
              "      <td>...</td>\n",
              "      <td>...</td>\n",
              "      <td>...</td>\n",
              "      <td>...</td>\n",
              "      <td>...</td>\n",
              "      <td>...</td>\n",
              "      <td>...</td>\n",
              "      <td>...</td>\n",
              "    </tr>\n",
              "    <tr>\n",
              "      <th>57916</th>\n",
              "      <td>-0.699730</td>\n",
              "      <td>-1.204152</td>\n",
              "      <td>-0.684649</td>\n",
              "      <td>0.082898</td>\n",
              "      <td>0.061363</td>\n",
              "      <td>0.492713</td>\n",
              "      <td>0</td>\n",
              "      <td>-1.375926</td>\n",
              "      <td>-0.882460</td>\n",
              "      <td>0</td>\n",
              "      <td>...</td>\n",
              "      <td>-1.260946</td>\n",
              "      <td>-0.407348</td>\n",
              "      <td>1</td>\n",
              "      <td>0.562816</td>\n",
              "      <td>0</td>\n",
              "      <td>1</td>\n",
              "      <td>1</td>\n",
              "      <td>0</td>\n",
              "      <td>0</td>\n",
              "      <td>0</td>\n",
              "    </tr>\n",
              "    <tr>\n",
              "      <th>143462</th>\n",
              "      <td>-1.129575</td>\n",
              "      <td>-0.103502</td>\n",
              "      <td>-1.089915</td>\n",
              "      <td>0.220937</td>\n",
              "      <td>0.212574</td>\n",
              "      <td>-0.879042</td>\n",
              "      <td>1</td>\n",
              "      <td>-0.385354</td>\n",
              "      <td>3.355679</td>\n",
              "      <td>1</td>\n",
              "      <td>...</td>\n",
              "      <td>1.696731</td>\n",
              "      <td>1.020442</td>\n",
              "      <td>0</td>\n",
              "      <td>-0.843069</td>\n",
              "      <td>0</td>\n",
              "      <td>1</td>\n",
              "      <td>0</td>\n",
              "      <td>1</td>\n",
              "      <td>1</td>\n",
              "      <td>0</td>\n",
              "    </tr>\n",
              "    <tr>\n",
              "      <th>85076</th>\n",
              "      <td>2.452470</td>\n",
              "      <td>0.041320</td>\n",
              "      <td>2.997827</td>\n",
              "      <td>0.170407</td>\n",
              "      <td>0.212574</td>\n",
              "      <td>0.929180</td>\n",
              "      <td>1</td>\n",
              "      <td>1.864379</td>\n",
              "      <td>0.080753</td>\n",
              "      <td>0</td>\n",
              "      <td>...</td>\n",
              "      <td>0.508640</td>\n",
              "      <td>0.096578</td>\n",
              "      <td>0</td>\n",
              "      <td>-0.374441</td>\n",
              "      <td>0</td>\n",
              "      <td>1</td>\n",
              "      <td>0</td>\n",
              "      <td>0</td>\n",
              "      <td>0</td>\n",
              "      <td>1</td>\n",
              "    </tr>\n",
              "    <tr>\n",
              "      <th>59534</th>\n",
              "      <td>-0.413166</td>\n",
              "      <td>0.841185</td>\n",
              "      <td>-0.189872</td>\n",
              "      <td>0.320043</td>\n",
              "      <td>0.294368</td>\n",
              "      <td>-0.514945</td>\n",
              "      <td>1</td>\n",
              "      <td>1.100505</td>\n",
              "      <td>1.429252</td>\n",
              "      <td>1</td>\n",
              "      <td>...</td>\n",
              "      <td>-0.315493</td>\n",
              "      <td>0.012590</td>\n",
              "      <td>0</td>\n",
              "      <td>0.094187</td>\n",
              "      <td>1</td>\n",
              "      <td>1</td>\n",
              "      <td>0</td>\n",
              "      <td>0</td>\n",
              "      <td>1</td>\n",
              "      <td>0</td>\n",
              "    </tr>\n",
              "    <tr>\n",
              "      <th>2288</th>\n",
              "      <td>1.258455</td>\n",
              "      <td>0.555996</td>\n",
              "      <td>1.750054</td>\n",
              "      <td>0.286172</td>\n",
              "      <td>0.294368</td>\n",
              "      <td>-0.359438</td>\n",
              "      <td>1</td>\n",
              "      <td>1.082024</td>\n",
              "      <td>-0.111890</td>\n",
              "      <td>0</td>\n",
              "      <td>...</td>\n",
              "      <td>1.039934</td>\n",
              "      <td>0.348541</td>\n",
              "      <td>1</td>\n",
              "      <td>-0.843069</td>\n",
              "      <td>0</td>\n",
              "      <td>1</td>\n",
              "      <td>0</td>\n",
              "      <td>1</td>\n",
              "      <td>1</td>\n",
              "      <td>0</td>\n",
              "    </tr>\n",
              "  </tbody>\n",
              "</table>\n",
              "<p>12471 rows × 21 columns</p>\n",
              "</div>\n",
              "      <button class=\"colab-df-convert\" onclick=\"convertToInteractive('df-5ae17152-e1a1-4556-8e9b-86a31b918294')\"\n",
              "              title=\"Convert this dataframe to an interactive table.\"\n",
              "              style=\"display:none;\">\n",
              "        \n",
              "  <svg xmlns=\"http://www.w3.org/2000/svg\" height=\"24px\"viewBox=\"0 0 24 24\"\n",
              "       width=\"24px\">\n",
              "    <path d=\"M0 0h24v24H0V0z\" fill=\"none\"/>\n",
              "    <path d=\"M18.56 5.44l.94 2.06.94-2.06 2.06-.94-2.06-.94-.94-2.06-.94 2.06-2.06.94zm-11 1L8.5 8.5l.94-2.06 2.06-.94-2.06-.94L8.5 2.5l-.94 2.06-2.06.94zm10 10l.94 2.06.94-2.06 2.06-.94-2.06-.94-.94-2.06-.94 2.06-2.06.94z\"/><path d=\"M17.41 7.96l-1.37-1.37c-.4-.4-.92-.59-1.43-.59-.52 0-1.04.2-1.43.59L10.3 9.45l-7.72 7.72c-.78.78-.78 2.05 0 2.83L4 21.41c.39.39.9.59 1.41.59.51 0 1.02-.2 1.41-.59l7.78-7.78 2.81-2.81c.8-.78.8-2.07 0-2.86zM5.41 20L4 18.59l7.72-7.72 1.47 1.35L5.41 20z\"/>\n",
              "  </svg>\n",
              "      </button>\n",
              "      \n",
              "  <style>\n",
              "    .colab-df-container {\n",
              "      display:flex;\n",
              "      flex-wrap:wrap;\n",
              "      gap: 12px;\n",
              "    }\n",
              "\n",
              "    .colab-df-convert {\n",
              "      background-color: #E8F0FE;\n",
              "      border: none;\n",
              "      border-radius: 50%;\n",
              "      cursor: pointer;\n",
              "      display: none;\n",
              "      fill: #1967D2;\n",
              "      height: 32px;\n",
              "      padding: 0 0 0 0;\n",
              "      width: 32px;\n",
              "    }\n",
              "\n",
              "    .colab-df-convert:hover {\n",
              "      background-color: #E2EBFA;\n",
              "      box-shadow: 0px 1px 2px rgba(60, 64, 67, 0.3), 0px 1px 3px 1px rgba(60, 64, 67, 0.15);\n",
              "      fill: #174EA6;\n",
              "    }\n",
              "\n",
              "    [theme=dark] .colab-df-convert {\n",
              "      background-color: #3B4455;\n",
              "      fill: #D2E3FC;\n",
              "    }\n",
              "\n",
              "    [theme=dark] .colab-df-convert:hover {\n",
              "      background-color: #434B5C;\n",
              "      box-shadow: 0px 1px 3px 1px rgba(0, 0, 0, 0.15);\n",
              "      filter: drop-shadow(0px 1px 2px rgba(0, 0, 0, 0.3));\n",
              "      fill: #FFFFFF;\n",
              "    }\n",
              "  </style>\n",
              "\n",
              "      <script>\n",
              "        const buttonEl =\n",
              "          document.querySelector('#df-5ae17152-e1a1-4556-8e9b-86a31b918294 button.colab-df-convert');\n",
              "        buttonEl.style.display =\n",
              "          google.colab.kernel.accessAllowed ? 'block' : 'none';\n",
              "\n",
              "        async function convertToInteractive(key) {\n",
              "          const element = document.querySelector('#df-5ae17152-e1a1-4556-8e9b-86a31b918294');\n",
              "          const dataTable =\n",
              "            await google.colab.kernel.invokeFunction('convertToInteractive',\n",
              "                                                     [key], {});\n",
              "          if (!dataTable) return;\n",
              "\n",
              "          const docLinkHtml = 'Like what you see? Visit the ' +\n",
              "            '<a target=\"_blank\" href=https://colab.research.google.com/notebooks/data_table.ipynb>data table notebook</a>'\n",
              "            + ' to learn more about interactive tables.';\n",
              "          element.innerHTML = '';\n",
              "          dataTable['output_type'] = 'display_data';\n",
              "          await google.colab.output.renderOutput(dataTable, element);\n",
              "          const docLink = document.createElement('div');\n",
              "          docLink.innerHTML = docLinkHtml;\n",
              "          element.appendChild(docLink);\n",
              "        }\n",
              "      </script>\n",
              "    </div>\n",
              "  </div>\n",
              "  "
            ]
          },
          "metadata": {},
          "execution_count": 61
        }
      ]
    },
    {
      "cell_type": "code",
      "source": [
        "from sklearn.linear_model import LogisticRegression"
      ],
      "metadata": {
        "id": "eOtfx45HL0oR"
      },
      "execution_count": 62,
      "outputs": []
    },
    {
      "cell_type": "code",
      "source": [
        "y_train.value_counts(normalize=True)"
      ],
      "metadata": {
        "colab": {
          "base_uri": "https://localhost:8080/"
        },
        "id": "cxMAimwNL5Kv",
        "outputId": "d3ed502a-2045-4113-807f-73c9b0ff1e4d"
      },
      "execution_count": 63,
      "outputs": [
        {
          "output_type": "execute_result",
          "data": {
            "text/plain": [
              "0    0.801445\n",
              "1    0.198555\n",
              "Name: y_obs, dtype: float64"
            ]
          },
          "metadata": {},
          "execution_count": 63
        }
      ]
    },
    {
      "cell_type": "code",
      "source": [
        "from sklearn import metrics"
      ],
      "metadata": {
        "id": "xLkVUHu0L7_C"
      },
      "execution_count": 64,
      "outputs": []
    },
    {
      "cell_type": "markdown",
      "source": [
        "Making a Logistic Regression Model"
      ],
      "metadata": {
        "id": "QV4H-QinMEkX"
      }
    },
    {
      "cell_type": "code",
      "source": [
        "train_cost=[]\n",
        "val_cost=[]\n",
        "lambdaa=[]\n",
        "l=0.01\n",
        "while l<=100:\n",
        "  lambdaa.append(l)\n",
        "  model=LogisticRegression(C=1/l,class_weight={0:0.1,1:0.5},max_iter=500)\n",
        "  model.fit(x_train,y_train)\n",
        "  y_train_probs=model.predict_proba(x_train)\n",
        "  y_val_probs=model.predict_proba(x_val)\n",
        "  train_loss=metrics.log_loss(y_train,y_train_probs)\n",
        "  val_loss=metrics.log_loss(y_val,y_val_probs)\n",
        "  train_cost.append(train_loss)\n",
        "  val_cost.append(val_loss)\n",
        "  l*=2\n",
        "plt.plot(lambdaa,train_cost,label='train')\n",
        "plt.plot(lambdaa,val_cost,label='val')\n",
        "plt.legend()\n",
        "plt.show()\n"
      ],
      "metadata": {
        "colab": {
          "base_uri": "https://localhost:8080/",
          "height": 265
        },
        "id": "jVnQ_UOmMGM1",
        "outputId": "30c213d5-a984-4704-b89d-996fca70f404"
      },
      "execution_count": 65,
      "outputs": [
        {
          "output_type": "display_data",
          "data": {
            "text/plain": [
              "<Figure size 432x288 with 1 Axes>"
            ],
            "image/png": "[encoded data removed]"
          },
          "metadata": {
            "needs_background": "light"
          }
        }
      ]
    },
    {
      "cell_type": "code",
      "source": [
        "z=np.argmin(val_cost)\n",
        "lbest=0.01*(2**z)\n",
        "lbest"
      ],
      "metadata": {
        "colab": {
          "base_uri": "https://localhost:8080/"
        },
        "id": "AFBrfcWJMQ02",
        "outputId": "7461b408-e79f-4a2f-a4bd-00f5c91d6815"
      },
      "execution_count": 66,
      "outputs": [
        {
          "output_type": "execute_result",
          "data": {
            "text/plain": [
              "0.32"
            ]
          },
          "metadata": {},
          "execution_count": 66
        }
      ]
    },
    {
      "cell_type": "code",
      "source": [
        "model=LogisticRegression(C=1/lbest,class_weight={0:0.1,1:0.5},max_iter=500)\n",
        "model.fit(x_train,y_train)\n",
        "print(model.score(x_train,y_train))\n",
        "print(model.score(x_val,y_val))\n",
        "print(model.score(x_test,y_test))\n"
      ],
      "metadata": {
        "colab": {
          "base_uri": "https://localhost:8080/"
        },
        "id": "dNePRb6gMabn",
        "outputId": "440bdc13-5286-47f1-9e82-529d4b84e06c"
      },
      "execution_count": 67,
      "outputs": [
        {
          "output_type": "stream",
          "name": "stdout",
          "text": [
            "0.6085175812466702\n",
            "0.6017924528301887\n",
            "0.6125410953411916\n"
          ]
        }
      ]
    },
    {
      "cell_type": "code",
      "source": [
        "from sklearn.metrics import confusion_matrix, precision_score, recall_score\n",
        "ypred=model.predict(x_test)\n",
        "confusion_matrix(y_test,ypred)"
      ],
      "metadata": {
        "colab": {
          "base_uri": "https://localhost:8080/"
        },
        "id": "RSPd9l6uMej_",
        "outputId": "4812e314-5aa6-4e32-b740-d4c267f549a7"
      },
      "execution_count": 68,
      "outputs": [
        {
          "output_type": "execute_result",
          "data": {
            "text/plain": [
              "array([[5878, 4128],\n",
              "       [ 704, 1761]])"
            ]
          },
          "metadata": {},
          "execution_count": 68
        }
      ]
    },
    {
      "cell_type": "code",
      "source": [
        "print(precision_score(y_test,ypred))\n",
        "print(recall_score(y_test,ypred))"
      ],
      "metadata": {
        "colab": {
          "base_uri": "https://localhost:8080/"
        },
        "id": "iDmi2QahMl3s",
        "outputId": "5cb644ea-2ec5-41b1-b98c-40ee33777709"
      },
      "execution_count": 69,
      "outputs": [
        {
          "output_type": "stream",
          "name": "stdout",
          "text": [
            "0.29903209373408046\n",
            "0.7144016227180527\n"
          ]
        }
      ]
    },
    {
      "cell_type": "markdown",
      "source": [
        "Removing the outliers which are on the wrong side of the plane theta_T*x+theta_not"
      ],
      "metadata": {
        "id": "SyZet_23MvSG"
      }
    },
    {
      "cell_type": "code",
      "source": [
        "z=np.array(list(model.intercept_)+list(model.coef_[0]))\n",
        "z=z.T\n",
        "z"
      ],
      "metadata": {
        "colab": {
          "base_uri": "https://localhost:8080/"
        },
        "id": "d3bomn6zMwG9",
        "outputId": "fa6d8adf-4761-4cc6-b779-d129c7364975"
      },
      "execution_count": 70,
      "outputs": [
        {
          "output_type": "execute_result",
          "data": {
            "text/plain": [
              "array([-1.18301242, -0.09650479, -0.29099025,  0.16941001,  5.88681228,\n",
              "        1.20578914, -0.10099467,  0.09044842,  0.18659154,  0.12380857,\n",
              "        0.08806162, -0.06664212,  0.10399329, -0.11620505, -0.05037909,\n",
              "       -0.06811848, -0.08659769, -0.52070181,  0.10977775,  0.27586991,\n",
              "        0.04856874,  0.12837232])"
            ]
          },
          "metadata": {},
          "execution_count": 70
        }
      ]
    },
    {
      "cell_type": "code",
      "source": [
        "x_train.insert(0,'x_not',1)"
      ],
      "metadata": {
        "id": "a9wls-pPMpdV"
      },
      "execution_count": 71,
      "outputs": []
    },
    {
      "cell_type": "code",
      "source": [
        "x_train"
      ],
      "metadata": {
        "colab": {
          "base_uri": "https://localhost:8080/",
          "height": 488
        },
        "id": "x4FH-IB6M5hS",
        "outputId": "0013619d-1ea3-4bf5-9d9e-a7a21f81f86e"
      },
      "execution_count": 72,
      "outputs": [
        {
          "output_type": "execute_result",
          "data": {
            "text/plain": [
              "        x_not  loan_amnt  int_rate  installment  sub_grade     grade  \\\n",
              "41364       1   0.431600  0.119301     0.707463   0.170407  0.212574   \n",
              "77418       1   2.452470  0.745380     1.710117   0.320043  0.294368   \n",
              "81476       1  -1.368378  0.404490    -1.346223   0.256257  0.294368   \n",
              "27492       1  -1.129575 -0.624863    -1.112213   0.109393  0.122275   \n",
              "87626       1  -0.771370 -1.315554    -0.767311   0.082898  0.061363   \n",
              "...       ...        ...       ...          ...        ...       ...   \n",
              "134090      1  -1.248976  0.992692    -1.186075   0.306399  0.294368   \n",
              "9180        1   0.780849 -0.152519     0.143364   0.123631  0.122275   \n",
              "32844       1  -0.353465 -0.027749    -0.206197   0.155393  0.122275   \n",
              "74074       1  -0.532567  0.119301    -0.396606   0.170407  0.212574   \n",
              "56072       1   2.452470  2.291637     2.251759   0.453488  0.432493   \n",
              "\n",
              "        annual_inc  is_verified       dti  open_acc  ...  revol_util  \\\n",
              "41364    -0.297086            1 -0.226418  2.970394  ...    0.470989   \n",
              "77418     4.029263            0 -1.969776 -1.267746  ...   -0.855154   \n",
              "81476    -0.816690            1  1.641377 -0.497175  ...   -0.106322   \n",
              "27492    -0.629632            1  1.111594  1.429252  ...   -0.085405   \n",
              "87626     0.409576            0 -1.644514  0.273396  ...   -1.319514   \n",
              "...            ...          ...       ...       ...  ...         ...   \n",
              "134090   -1.253157            1  1.518172 -0.882460  ...   -0.068672   \n",
              "9180      0.929180            1 -0.428475  1.043967  ...    0.738728   \n",
              "32844    -1.037757            1 -0.767291 -1.267746  ...    1.182171   \n",
              "74074    -0.276301            1 -1.451081 -0.304532  ...    0.826580   \n",
              "56072     0.721338            1  1.714069  0.466039  ...    0.090298   \n",
              "\n",
              "        total_acc  initial_list_status  mort_acc  pub_rec_bankruptcies  \\\n",
              "41364    1.608355                    0 -0.374441                     0   \n",
              "77418   -0.239373                    1  2.437328                     1   \n",
              "81476   -0.911273                    0 -0.843069                     0   \n",
              "27492    1.608355                    0 -0.374441                     0   \n",
              "87626    1.356392                    1  1.968700                     0   \n",
              "...           ...                  ...       ...                   ...   \n",
              "134090  -0.911273                    0  0.562816                     0   \n",
              "9180     1.272404                    0  1.968700                     0   \n",
              "32844   -1.331211                    0 -0.843069                     0   \n",
              "74074    0.600504                    1  0.094187                     1   \n",
              "56072    1.272404                    1 -0.374441                     0   \n",
              "\n",
              "        is_36mnths  home_ownership_OTHERS  home_ownership_RENT  \\\n",
              "41364            1                      0                    0   \n",
              "77418            0                      0                    0   \n",
              "81476            1                      0                    1   \n",
              "27492            1                      0                    0   \n",
              "87626            1                      1                    0   \n",
              "...            ...                    ...                  ...   \n",
              "134090           1                      0                    0   \n",
              "9180             0                      0                    0   \n",
              "32844            1                      0                    1   \n",
              "74074            1                      0                    1   \n",
              "56072            0                      0                    1   \n",
              "\n",
              "        purpose_debt_consolidation  purpose_others  \n",
              "41364                            1               0  \n",
              "77418                            0               1  \n",
              "81476                            0               1  \n",
              "27492                            0               0  \n",
              "87626                            1               0  \n",
              "...                            ...             ...  \n",
              "134090                           0               1  \n",
              "9180                             1               0  \n",
              "32844                            1               0  \n",
              "74074                            1               0  \n",
              "56072                            1               0  \n",
              "\n",
              "[60064 rows x 22 columns]"
            ],
            "text/html": [
              "\n",
              "  <div id=\"df-c32f04d4-0ec9-4fcf-966d-fa5732bbdd1a\">\n",
              "    <div class=\"colab-df-container\">\n",
              "      <div>\n",
              "<style scoped>\n",
              "    .dataframe tbody tr th:only-of-type {\n",
              "        vertical-align: middle;\n",
              "    }\n",
              "\n",
              "    .dataframe tbody tr th {\n",
              "        vertical-align: top;\n",
              "    }\n",
              "\n",
              "    .dataframe thead th {\n",
              "        text-align: right;\n",
              "    }\n",
              "</style>\n",
              "<table border=\"1\" class=\"dataframe\">\n",
              "  <thead>\n",
              "    <tr style=\"text-align: right;\">\n",
              "      <th></th>\n",
              "      <th>x_not</th>\n",
              "      <th>loan_amnt</th>\n",
              "      <th>int_rate</th>\n",
              "      <th>installment</th>\n",
              "      <th>sub_grade</th>\n",
              "      <th>grade</th>\n",
              "      <th>annual_inc</th>\n",
              "      <th>is_verified</th>\n",
              "      <th>dti</th>\n",
              "      <th>open_acc</th>\n",
              "      <th>...</th>\n",
              "      <th>revol_util</th>\n",
              "      <th>total_acc</th>\n",
              "      <th>initial_list_status</th>\n",
              "      <th>mort_acc</th>\n",
              "      <th>pub_rec_bankruptcies</th>\n",
              "      <th>is_36mnths</th>\n",
              "      <th>home_ownership_OTHERS</th>\n",
              "      <th>home_ownership_RENT</th>\n",
              "      <th>purpose_debt_consolidation</th>\n",
              "      <th>purpose_others</th>\n",
              "    </tr>\n",
              "  </thead>\n",
              "  <tbody>\n",
              "    <tr>\n",
              "      <th>41364</th>\n",
              "      <td>1</td>\n",
              "      <td>0.431600</td>\n",
              "      <td>0.119301</td>\n",
              "      <td>0.707463</td>\n",
              "      <td>0.170407</td>\n",
              "      <td>0.212574</td>\n",
              "      <td>-0.297086</td>\n",
              "      <td>1</td>\n",
              "      <td>-0.226418</td>\n",
              "      <td>2.970394</td>\n",
              "      <td>...</td>\n",
              "      <td>0.470989</td>\n",
              "      <td>1.608355</td>\n",
              "      <td>0</td>\n",
              "      <td>-0.374441</td>\n",
              "      <td>0</td>\n",
              "      <td>1</td>\n",
              "      <td>0</td>\n",
              "      <td>0</td>\n",
              "      <td>1</td>\n",
              "      <td>0</td>\n",
              "    </tr>\n",
              "    <tr>\n",
              "      <th>77418</th>\n",
              "      <td>1</td>\n",
              "      <td>2.452470</td>\n",
              "      <td>0.745380</td>\n",
              "      <td>1.710117</td>\n",
              "      <td>0.320043</td>\n",
              "      <td>0.294368</td>\n",
              "      <td>4.029263</td>\n",
              "      <td>0</td>\n",
              "      <td>-1.969776</td>\n",
              "      <td>-1.267746</td>\n",
              "      <td>...</td>\n",
              "      <td>-0.855154</td>\n",
              "      <td>-0.239373</td>\n",
              "      <td>1</td>\n",
              "      <td>2.437328</td>\n",
              "      <td>1</td>\n",
              "      <td>0</td>\n",
              "      <td>0</td>\n",
              "      <td>0</td>\n",
              "      <td>0</td>\n",
              "      <td>1</td>\n",
              "    </tr>\n",
              "    <tr>\n",
              "      <th>81476</th>\n",
              "      <td>1</td>\n",
              "      <td>-1.368378</td>\n",
              "      <td>0.404490</td>\n",
              "      <td>-1.346223</td>\n",
              "      <td>0.256257</td>\n",
              "      <td>0.294368</td>\n",
              "      <td>-0.816690</td>\n",
              "      <td>1</td>\n",
              "      <td>1.641377</td>\n",
              "      <td>-0.497175</td>\n",
              "      <td>...</td>\n",
              "      <td>-0.106322</td>\n",
              "      <td>-0.911273</td>\n",
              "      <td>0</td>\n",
              "      <td>-0.843069</td>\n",
              "      <td>0</td>\n",
              "      <td>1</td>\n",
              "      <td>0</td>\n",
              "      <td>1</td>\n",
              "      <td>0</td>\n",
              "      <td>1</td>\n",
              "    </tr>\n",
              "    <tr>\n",
              "      <th>27492</th>\n",
              "      <td>1</td>\n",
              "      <td>-1.129575</td>\n",
              "      <td>-0.624863</td>\n",
              "      <td>-1.112213</td>\n",
              "      <td>0.109393</td>\n",
              "      <td>0.122275</td>\n",
              "      <td>-0.629632</td>\n",
              "      <td>1</td>\n",
              "      <td>1.111594</td>\n",
              "      <td>1.429252</td>\n",
              "      <td>...</td>\n",
              "      <td>-0.085405</td>\n",
              "      <td>1.608355</td>\n",
              "      <td>0</td>\n",
              "      <td>-0.374441</td>\n",
              "      <td>0</td>\n",
              "      <td>1</td>\n",
              "      <td>0</td>\n",
              "      <td>0</td>\n",
              "      <td>0</td>\n",
              "      <td>0</td>\n",
              "    </tr>\n",
              "    <tr>\n",
              "      <th>87626</th>\n",
              "      <td>1</td>\n",
              "      <td>-0.771370</td>\n",
              "      <td>-1.315554</td>\n",
              "      <td>-0.767311</td>\n",
              "      <td>0.082898</td>\n",
              "      <td>0.061363</td>\n",
              "      <td>0.409576</td>\n",
              "      <td>0</td>\n",
              "      <td>-1.644514</td>\n",
              "      <td>0.273396</td>\n",
              "      <td>...</td>\n",
              "      <td>-1.319514</td>\n",
              "      <td>1.356392</td>\n",
              "      <td>1</td>\n",
              "      <td>1.968700</td>\n",
              "      <td>0</td>\n",
              "      <td>1</td>\n",
              "      <td>1</td>\n",
              "      <td>0</td>\n",
              "      <td>1</td>\n",
              "      <td>0</td>\n",
              "    </tr>\n",
              "    <tr>\n",
              "      <th>...</th>\n",
              "      <td>...</td>\n",
              "      <td>...</td>\n",
              "      <td>...</td>\n",
              "      <td>...</td>\n",
              "      <td>...</td>\n",
              "      <td>...</td>\n",
              "      <td>...</td>\n",
              "      <td>...</td>\n",
              "      <td>...</td>\n",
              "      <td>...</td>\n",
              "      <td>...</td>\n",
              "      <td>...</td>\n",
              "      <td>...</td>\n",
              "      <td>...</td>\n",
              "      <td>...</td>\n",
              "      <td>...</td>\n",
              "      <td>...</td>\n",
              "      <td>...</td>\n",
              "      <td>...</td>\n",
              "      <td>...</td>\n",
              "      <td>...</td>\n",
              "    </tr>\n",
              "    <tr>\n",
              "      <th>134090</th>\n",
              "      <td>1</td>\n",
              "      <td>-1.248976</td>\n",
              "      <td>0.992692</td>\n",
              "      <td>-1.186075</td>\n",
              "      <td>0.306399</td>\n",
              "      <td>0.294368</td>\n",
              "      <td>-1.253157</td>\n",
              "      <td>1</td>\n",
              "      <td>1.518172</td>\n",
              "      <td>-0.882460</td>\n",
              "      <td>...</td>\n",
              "      <td>-0.068672</td>\n",
              "      <td>-0.911273</td>\n",
              "      <td>0</td>\n",
              "      <td>0.562816</td>\n",
              "      <td>0</td>\n",
              "      <td>1</td>\n",
              "      <td>0</td>\n",
              "      <td>0</td>\n",
              "      <td>0</td>\n",
              "      <td>1</td>\n",
              "    </tr>\n",
              "    <tr>\n",
              "      <th>9180</th>\n",
              "      <td>1</td>\n",
              "      <td>0.780849</td>\n",
              "      <td>-0.152519</td>\n",
              "      <td>0.143364</td>\n",
              "      <td>0.123631</td>\n",
              "      <td>0.122275</td>\n",
              "      <td>0.929180</td>\n",
              "      <td>1</td>\n",
              "      <td>-0.428475</td>\n",
              "      <td>1.043967</td>\n",
              "      <td>...</td>\n",
              "      <td>0.738728</td>\n",
              "      <td>1.272404</td>\n",
              "      <td>0</td>\n",
              "      <td>1.968700</td>\n",
              "      <td>0</td>\n",
              "      <td>0</td>\n",
              "      <td>0</td>\n",
              "      <td>0</td>\n",
              "      <td>1</td>\n",
              "      <td>0</td>\n",
              "    </tr>\n",
              "    <tr>\n",
              "      <th>32844</th>\n",
              "      <td>1</td>\n",
              "      <td>-0.353465</td>\n",
              "      <td>-0.027749</td>\n",
              "      <td>-0.206197</td>\n",
              "      <td>0.155393</td>\n",
              "      <td>0.122275</td>\n",
              "      <td>-1.037757</td>\n",
              "      <td>1</td>\n",
              "      <td>-0.767291</td>\n",
              "      <td>-1.267746</td>\n",
              "      <td>...</td>\n",
              "      <td>1.182171</td>\n",
              "      <td>-1.331211</td>\n",
              "      <td>0</td>\n",
              "      <td>-0.843069</td>\n",
              "      <td>0</td>\n",
              "      <td>1</td>\n",
              "      <td>0</td>\n",
              "      <td>1</td>\n",
              "      <td>1</td>\n",
              "      <td>0</td>\n",
              "    </tr>\n",
              "    <tr>\n",
              "      <th>74074</th>\n",
              "      <td>1</td>\n",
              "      <td>-0.532567</td>\n",
              "      <td>0.119301</td>\n",
              "      <td>-0.396606</td>\n",
              "      <td>0.170407</td>\n",
              "      <td>0.212574</td>\n",
              "      <td>-0.276301</td>\n",
              "      <td>1</td>\n",
              "      <td>-1.451081</td>\n",
              "      <td>-0.304532</td>\n",
              "      <td>...</td>\n",
              "      <td>0.826580</td>\n",
              "      <td>0.600504</td>\n",
              "      <td>1</td>\n",
              "      <td>0.094187</td>\n",
              "      <td>1</td>\n",
              "      <td>1</td>\n",
              "      <td>0</td>\n",
              "      <td>1</td>\n",
              "      <td>1</td>\n",
              "      <td>0</td>\n",
              "    </tr>\n",
              "    <tr>\n",
              "      <th>56072</th>\n",
              "      <td>1</td>\n",
              "      <td>2.452470</td>\n",
              "      <td>2.291637</td>\n",
              "      <td>2.251759</td>\n",
              "      <td>0.453488</td>\n",
              "      <td>0.432493</td>\n",
              "      <td>0.721338</td>\n",
              "      <td>1</td>\n",
              "      <td>1.714069</td>\n",
              "      <td>0.466039</td>\n",
              "      <td>...</td>\n",
              "      <td>0.090298</td>\n",
              "      <td>1.272404</td>\n",
              "      <td>1</td>\n",
              "      <td>-0.374441</td>\n",
              "      <td>0</td>\n",
              "      <td>0</td>\n",
              "      <td>0</td>\n",
              "      <td>1</td>\n",
              "      <td>1</td>\n",
              "      <td>0</td>\n",
              "    </tr>\n",
              "  </tbody>\n",
              "</table>\n",
              "<p>60064 rows × 22 columns</p>\n",
              "</div>\n",
              "      <button class=\"colab-df-convert\" onclick=\"convertToInteractive('df-c32f04d4-0ec9-4fcf-966d-fa5732bbdd1a')\"\n",
              "              title=\"Convert this dataframe to an interactive table.\"\n",
              "              style=\"display:none;\">\n",
              "        \n",
              "  <svg xmlns=\"http://www.w3.org/2000/svg\" height=\"24px\"viewBox=\"0 0 24 24\"\n",
              "       width=\"24px\">\n",
              "    <path d=\"M0 0h24v24H0V0z\" fill=\"none\"/>\n",
              "    <path d=\"M18.56 5.44l.94 2.06.94-2.06 2.06-.94-2.06-.94-.94-2.06-.94 2.06-2.06.94zm-11 1L8.5 8.5l.94-2.06 2.06-.94-2.06-.94L8.5 2.5l-.94 2.06-2.06.94zm10 10l.94 2.06.94-2.06 2.06-.94-2.06-.94-.94-2.06-.94 2.06-2.06.94z\"/><path d=\"M17.41 7.96l-1.37-1.37c-.4-.4-.92-.59-1.43-.59-.52 0-1.04.2-1.43.59L10.3 9.45l-7.72 7.72c-.78.78-.78 2.05 0 2.83L4 21.41c.39.39.9.59 1.41.59.51 0 1.02-.2 1.41-.59l7.78-7.78 2.81-2.81c.8-.78.8-2.07 0-2.86zM5.41 20L4 18.59l7.72-7.72 1.47 1.35L5.41 20z\"/>\n",
              "  </svg>\n",
              "      </button>\n",
              "      \n",
              "  <style>\n",
              "    .colab-df-container {\n",
              "      display:flex;\n",
              "      flex-wrap:wrap;\n",
              "      gap: 12px;\n",
              "    }\n",
              "\n",
              "    .colab-df-convert {\n",
              "      background-color: #E8F0FE;\n",
              "      border: none;\n",
              "      border-radius: 50%;\n",
              "      cursor: pointer;\n",
              "      display: none;\n",
              "      fill: #1967D2;\n",
              "      height: 32px;\n",
              "      padding: 0 0 0 0;\n",
              "      width: 32px;\n",
              "    }\n",
              "\n",
              "    .colab-df-convert:hover {\n",
              "      background-color: #E2EBFA;\n",
              "      box-shadow: 0px 1px 2px rgba(60, 64, 67, 0.3), 0px 1px 3px 1px rgba(60, 64, 67, 0.15);\n",
              "      fill: #174EA6;\n",
              "    }\n",
              "\n",
              "    [theme=dark] .colab-df-convert {\n",
              "      background-color: #3B4455;\n",
              "      fill: #D2E3FC;\n",
              "    }\n",
              "\n",
              "    [theme=dark] .colab-df-convert:hover {\n",
              "      background-color: #434B5C;\n",
              "      box-shadow: 0px 1px 3px 1px rgba(0, 0, 0, 0.15);\n",
              "      filter: drop-shadow(0px 1px 2px rgba(0, 0, 0, 0.3));\n",
              "      fill: #FFFFFF;\n",
              "    }\n",
              "  </style>\n",
              "\n",
              "      <script>\n",
              "        const buttonEl =\n",
              "          document.querySelector('#df-c32f04d4-0ec9-4fcf-966d-fa5732bbdd1a button.colab-df-convert');\n",
              "        buttonEl.style.display =\n",
              "          google.colab.kernel.accessAllowed ? 'block' : 'none';\n",
              "\n",
              "        async function convertToInteractive(key) {\n",
              "          const element = document.querySelector('#df-c32f04d4-0ec9-4fcf-966d-fa5732bbdd1a');\n",
              "          const dataTable =\n",
              "            await google.colab.kernel.invokeFunction('convertToInteractive',\n",
              "                                                     [key], {});\n",
              "          if (!dataTable) return;\n",
              "\n",
              "          const docLinkHtml = 'Like what you see? Visit the ' +\n",
              "            '<a target=\"_blank\" href=https://colab.research.google.com/notebooks/data_table.ipynb>data table notebook</a>'\n",
              "            + ' to learn more about interactive tables.';\n",
              "          element.innerHTML = '';\n",
              "          dataTable['output_type'] = 'display_data';\n",
              "          await google.colab.output.renderOutput(dataTable, element);\n",
              "          const docLink = document.createElement('div');\n",
              "          docLink.innerHTML = docLinkHtml;\n",
              "          element.appendChild(docLink);\n",
              "        }\n",
              "      </script>\n",
              "    </div>\n",
              "  </div>\n",
              "  "
            ]
          },
          "metadata": {},
          "execution_count": 72
        }
      ]
    },
    {
      "cell_type": "code",
      "source": [
        "z2=x_train.dot(z)\n",
        "z3=1/(1+np.exp(-z2))\n",
        "z3"
      ],
      "metadata": {
        "colab": {
          "base_uri": "https://localhost:8080/"
        },
        "id": "Kc5Pc6wyM7CO",
        "outputId": "0e5f180b-28c5-48e3-b99b-c4237cee3d76"
      },
      "execution_count": 73,
      "outputs": [
        {
          "output_type": "execute_result",
          "data": {
            "text/plain": [
              "41364     0.493096\n",
              "77418     0.463053\n",
              "81476     0.716637\n",
              "27492     0.392416\n",
              "87626     0.192294\n",
              "            ...   \n",
              "134090    0.669328\n",
              "9180      0.379719\n",
              "32844     0.484904\n",
              "74074     0.407216\n",
              "56072     0.887406\n",
              "Length: 60064, dtype: float64"
            ]
          },
          "metadata": {},
          "execution_count": 73
        }
      ]
    },
    {
      "cell_type": "code",
      "source": [
        "x_train['log_loss']=-1*(y_train*np.log(z3)+(1-y_train)*(1-np.log(z3)))"
      ],
      "metadata": {
        "id": "MryEddPhM_Sz"
      },
      "execution_count": 74,
      "outputs": []
    },
    {
      "cell_type": "code",
      "source": [
        "x_train['log_loss'].describe()"
      ],
      "metadata": {
        "colab": {
          "base_uri": "https://localhost:8080/"
        },
        "id": "r4lDHpWQNDww",
        "outputId": "5bb33678-ac7a-4773-e621-819eccb054b2"
      },
      "execution_count": 75,
      "outputs": [
        {
          "output_type": "execute_result",
          "data": {
            "text/plain": [
              "count    60064.000000\n",
              "mean        -1.330839\n",
              "std          0.993246\n",
              "min         -5.537985\n",
              "25%         -1.974127\n",
              "50%         -1.643565\n",
              "75%         -1.273849\n",
              "max          2.629999\n",
              "Name: log_loss, dtype: float64"
            ]
          },
          "metadata": {},
          "execution_count": 75
        }
      ]
    },
    {
      "cell_type": "code",
      "source": [
        "x_train=pd.concat([x_train,y_train],axis=1)"
      ],
      "metadata": {
        "id": "s8yYDyJwNGzm"
      },
      "execution_count": 76,
      "outputs": []
    },
    {
      "cell_type": "code",
      "source": [
        "q05=x_train['log_loss'].quantile(0.05)\n",
        "q95=x_train['log_loss'].quantile(0.95)\n",
        "x_train=x_train[(x_train['log_loss']>q05)&(x_train['log_loss']<q95)]"
      ],
      "metadata": {
        "id": "GvOIu56PNJ0o"
      },
      "execution_count": 77,
      "outputs": []
    },
    {
      "cell_type": "code",
      "source": [
        "y_train=x_train['y_obs']\n",
        "y_train"
      ],
      "metadata": {
        "colab": {
          "base_uri": "https://localhost:8080/"
        },
        "id": "wE11lpC_NOBn",
        "outputId": "8c6a90ae-5987-4d1b-a93d-53806904532e"
      },
      "execution_count": 78,
      "outputs": [
        {
          "output_type": "execute_result",
          "data": {
            "text/plain": [
              "41364     0\n",
              "81476     1\n",
              "27492     0\n",
              "181934    0\n",
              "104402    0\n",
              "         ..\n",
              "8424      0\n",
              "134090    0\n",
              "32844     0\n",
              "74074     0\n",
              "56072     1\n",
              "Name: y_obs, Length: 54056, dtype: int64"
            ]
          },
          "metadata": {},
          "execution_count": 78
        }
      ]
    },
    {
      "cell_type": "code",
      "source": [
        "x_train=x_train.drop(['x_not','y_obs','log_loss'],axis=1)"
      ],
      "metadata": {
        "id": "VwADXDrRNQuG"
      },
      "execution_count": 79,
      "outputs": []
    },
    {
      "cell_type": "markdown",
      "source": [
        "Performing LogisticRegression after removing outliers"
      ],
      "metadata": {
        "id": "u-ClZFfENYXB"
      }
    },
    {
      "cell_type": "code",
      "source": [
        "train_cost=[]\n",
        "val_cost=[]\n",
        "lambdaa=[]\n",
        "l=0.01\n",
        "while l<=100:\n",
        "  lambdaa.append(l)\n",
        "  model=LogisticRegression(C=1/l,class_weight={0:0.1,1:0.9},max_iter=500)\n",
        "  model.fit(x_train,y_train)\n",
        "  y_train_probs=model.predict_proba(x_train)\n",
        "  y_val_probs=model.predict_proba(x_val)\n",
        "  train_loss=metrics.log_loss(y_train,y_train_probs)\n",
        "  val_loss=metrics.log_loss(y_val,y_val_probs)\n",
        "  train_cost.append(train_loss)\n",
        "  val_cost.append(val_loss)\n",
        "  l*=2\n",
        "plt.plot(lambdaa,train_cost,label='train')\n",
        "plt.plot(lambdaa,val_cost,label='val')\n",
        "plt.legend()\n",
        "plt.show()"
      ],
      "metadata": {
        "colab": {
          "base_uri": "https://localhost:8080/",
          "height": 265
        },
        "id": "OCFVpuU4NcDK",
        "outputId": "037aaa99-6964-468b-df3c-286fb97fa388"
      },
      "execution_count": 80,
      "outputs": [
        {
          "output_type": "display_data",
          "data": {
            "text/plain": [
              "<Figure size 432x288 with 1 Axes>"
            ],
            "image/png": "[encoded data removed]"
          },
          "metadata": {
            "needs_background": "light"
          }
        }
      ]
    },
    {
      "cell_type": "code",
      "source": [
        "z=np.argmin(val_cost)\n",
        "lbest=0.01*(2**(z))\n",
        "lbest"
      ],
      "metadata": {
        "colab": {
          "base_uri": "https://localhost:8080/"
        },
        "id": "X_LpiQrMNW-_",
        "outputId": "d0270f54-4c63-4350-8d7b-4df7a16334f1"
      },
      "execution_count": 81,
      "outputs": [
        {
          "output_type": "execute_result",
          "data": {
            "text/plain": [
              "1.28"
            ]
          },
          "metadata": {},
          "execution_count": 81
        }
      ]
    },
    {
      "cell_type": "code",
      "source": [
        "model=LogisticRegression(C=1/lbest,class_weight={0:0.1,1:0.9},max_iter=500)\n",
        "model.fit(x_train,y_train)\n",
        "print(model.score(x_train,y_train))\n",
        "print(model.score(x_val,y_val))\n",
        "print(model.score(x_test,y_test))"
      ],
      "metadata": {
        "colab": {
          "base_uri": "https://localhost:8080/"
        },
        "id": "j9hNDxY4NlzD",
        "outputId": "9b1b0df1-b9bd-4253-e052-8fec88d9a10f"
      },
      "execution_count": 82,
      "outputs": [
        {
          "output_type": "stream",
          "name": "stdout",
          "text": [
            "0.6630531300873168\n",
            "0.639811320754717\n",
            "0.6491861117793281\n"
          ]
        }
      ]
    },
    {
      "cell_type": "code",
      "source": [
        "ypred=model.predict(x_test)\n",
        "confusion_matrix(y_test,ypred)"
      ],
      "metadata": {
        "colab": {
          "base_uri": "https://localhost:8080/"
        },
        "id": "yRwpzYBqNoZp",
        "outputId": "36f4df70-fcfd-449e-8064-57ac3037a4d8"
      },
      "execution_count": 83,
      "outputs": [
        {
          "output_type": "execute_result",
          "data": {
            "text/plain": [
              "array([[6467, 3539],\n",
              "       [ 836, 1629]])"
            ]
          },
          "metadata": {},
          "execution_count": 83
        }
      ]
    },
    {
      "cell_type": "code",
      "source": [
        "print(precision_score(y_test,ypred))\n",
        "print(recall_score(y_test,ypred))"
      ],
      "metadata": {
        "colab": {
          "base_uri": "https://localhost:8080/"
        },
        "id": "ZU1vkeZzNtER",
        "outputId": "cb08502c-1ff2-4bae-dcda-413bdfc278d7"
      },
      "execution_count": 84,
      "outputs": [
        {
          "output_type": "stream",
          "name": "stdout",
          "text": [
            "0.31520897832817335\n",
            "0.6608519269776876\n"
          ]
        }
      ]
    },
    {
      "cell_type": "markdown",
      "source": [
        "Decision Tree Classifier"
      ],
      "metadata": {
        "id": "Z8RHiiQKN3bw"
      }
    },
    {
      "cell_type": "code",
      "source": [
        "from sklearn.tree import DecisionTreeClassifier"
      ],
      "metadata": {
        "id": "fZPPLRZ-N4ad"
      },
      "execution_count": 85,
      "outputs": []
    },
    {
      "cell_type": "code",
      "source": [
        "x_trainn,x_test,y_trainn,y_test=train_test_split(XS,y,test_size=0.15,random_state=42)\n",
        "x_train,x_val,y_train,y_val=train_test_split(x_trainn,y_trainn,test_size=0.15,random_state=42)"
      ],
      "metadata": {
        "id": "TWuq3BDFNxXh"
      },
      "execution_count": 86,
      "outputs": []
    },
    {
      "cell_type": "code",
      "source": [
        "print(x_train.shape,x_val.shape,x_test.shape,y_train.shape,\n",
        "     y_val.shape,y_test.shape)"
      ],
      "metadata": {
        "colab": {
          "base_uri": "https://localhost:8080/"
        },
        "id": "5lzv4a6jN_M8",
        "outputId": "e21ff547-ad2e-4eab-e970-b73b6e297f53"
      },
      "execution_count": 87,
      "outputs": [
        {
          "output_type": "stream",
          "name": "stdout",
          "text": [
            "(60064, 21) (10600, 21) (12471, 21) (60064,) (10600,) (12471,)\n"
          ]
        }
      ]
    },
    {
      "cell_type": "code",
      "source": [
        "ce_target=ce.TargetEncoder(cols=['grade','sub_grade'])\n",
        "x_train=ce_target.fit_transform(x_train,y_train)\n",
        "x_val=ce_target.transform(x_val)\n",
        "x_test=ce_target.transform(x_test)"
      ],
      "metadata": {
        "colab": {
          "base_uri": "https://localhost:8080/"
        },
        "id": "vbc56YypOCcP",
        "outputId": "1f8f85cb-f94b-431c-a99d-2e1e8629a395"
      },
      "execution_count": 88,
      "outputs": [
        {
          "output_type": "stream",
          "name": "stderr",
          "text": [
            "/usr/local/lib/python3.7/dist-packages/category_encoders/target_encoder.py:94: FutureWarning: Default parameter min_samples_leaf will change in version 2.6.See https://github.com/scikit-learn-contrib/category_encoders/issues/327\n",
            "  category=FutureWarning)\n",
            "/usr/local/lib/python3.7/dist-packages/category_encoders/target_encoder.py:99: FutureWarning: Default parameter smoothing will change in version 2.6.See https://github.com/scikit-learn-contrib/category_encoders/issues/327\n",
            "  category=FutureWarning)\n"
          ]
        }
      ]
    },
    {
      "cell_type": "code",
      "source": [
        "x_train"
      ],
      "metadata": {
        "colab": {
          "base_uri": "https://localhost:8080/",
          "height": 488
        },
        "id": "xOLZvksQOG-4",
        "outputId": "55bf1cf2-932f-44bc-848f-72074e4fc694"
      },
      "execution_count": 89,
      "outputs": [
        {
          "output_type": "execute_result",
          "data": {
            "text/plain": [
              "        loan_amnt  int_rate  installment  sub_grade     grade  annual_inc  \\\n",
              "41364     18075.0     14.33       620.67   0.170407  0.212574    61000.00   \n",
              "77418     35000.0     17.14       872.48   0.320043  0.294368   269156.00   \n",
              "81476      3000.0     15.61       104.90   0.256257  0.294368    36000.00   \n",
              "27492      5000.0     10.99       163.67   0.109393  0.122275    45000.00   \n",
              "87626      8000.0      7.89       250.29   0.082898  0.061363    95000.00   \n",
              "...           ...       ...          ...        ...       ...         ...   \n",
              "134090     4000.0     18.25       145.12   0.306399  0.294368    15000.00   \n",
              "9180      21000.0     13.11       479.00   0.123631  0.122275   120000.00   \n",
              "32844     11500.0     13.67       391.21   0.155393  0.122275    25363.68   \n",
              "74074     10000.0     14.33       343.39   0.170407  0.212574    62000.00   \n",
              "56072     35000.0     24.08      1008.51   0.453488  0.432493   110000.00   \n",
              "\n",
              "        is_verified    dti  open_acc  pub_rec  ...  revol_util  total_acc  \\\n",
              "41364             1  15.84        27        0  ...        65.5       45.0   \n",
              "77418             0   1.69         5        1  ...        33.8       23.0   \n",
              "81476             1  31.00         9        0  ...        51.7       15.0   \n",
              "27492             1  26.70        19        0  ...        52.2       45.0   \n",
              "87626             0   4.33        13        0  ...        22.7       42.0   \n",
              "...             ...    ...       ...      ...  ...         ...        ...   \n",
              "134090            1  30.00         7        0  ...        52.6       15.0   \n",
              "9180              1  14.20        17        0  ...        71.9       41.0   \n",
              "32844             1  11.45         5        0  ...        82.5       10.0   \n",
              "74074             1   5.90        10        1  ...        74.0       33.0   \n",
              "56072             1  31.59        14        0  ...        56.4       41.0   \n",
              "\n",
              "        initial_list_status  mort_acc  pub_rec_bankruptcies  is_36mnths  \\\n",
              "41364                     0         1                     0           1   \n",
              "77418                     1         7                     1           0   \n",
              "81476                     0         0                     0           1   \n",
              "27492                     0         1                     0           1   \n",
              "87626                     1         6                     0           1   \n",
              "...                     ...       ...                   ...         ...   \n",
              "134090                    0         3                     0           1   \n",
              "9180                      0         6                     0           0   \n",
              "32844                     0         0                     0           1   \n",
              "74074                     1         2                     1           1   \n",
              "56072                     1         1                     0           0   \n",
              "\n",
              "        home_ownership_OTHERS  home_ownership_RENT  \\\n",
              "41364                       0                    0   \n",
              "77418                       0                    0   \n",
              "81476                       0                    1   \n",
              "27492                       0                    0   \n",
              "87626                       1                    0   \n",
              "...                       ...                  ...   \n",
              "134090                      0                    0   \n",
              "9180                        0                    0   \n",
              "32844                       0                    1   \n",
              "74074                       0                    1   \n",
              "56072                       0                    1   \n",
              "\n",
              "        purpose_debt_consolidation  purpose_others  \n",
              "41364                            1               0  \n",
              "77418                            0               1  \n",
              "81476                            0               1  \n",
              "27492                            0               0  \n",
              "87626                            1               0  \n",
              "...                            ...             ...  \n",
              "134090                           0               1  \n",
              "9180                             1               0  \n",
              "32844                            1               0  \n",
              "74074                            1               0  \n",
              "56072                            1               0  \n",
              "\n",
              "[60064 rows x 21 columns]"
            ],
            "text/html": [
              "\n",
              "  <div id=\"df-2e546a13-1fe8-4f4c-b09f-2a647da7168c\">\n",
              "    <div class=\"colab-df-container\">\n",
              "      <div>\n",
              "<style scoped>\n",
              "    .dataframe tbody tr th:only-of-type {\n",
              "        vertical-align: middle;\n",
              "    }\n",
              "\n",
              "    .dataframe tbody tr th {\n",
              "        vertical-align: top;\n",
              "    }\n",
              "\n",
              "    .dataframe thead th {\n",
              "        text-align: right;\n",
              "    }\n",
              "</style>\n",
              "<table border=\"1\" class=\"dataframe\">\n",
              "  <thead>\n",
              "    <tr style=\"text-align: right;\">\n",
              "      <th></th>\n",
              "      <th>loan_amnt</th>\n",
              "      <th>int_rate</th>\n",
              "      <th>installment</th>\n",
              "      <th>sub_grade</th>\n",
              "      <th>grade</th>\n",
              "      <th>annual_inc</th>\n",
              "      <th>is_verified</th>\n",
              "      <th>dti</th>\n",
              "      <th>open_acc</th>\n",
              "      <th>pub_rec</th>\n",
              "      <th>...</th>\n",
              "      <th>revol_util</th>\n",
              "      <th>total_acc</th>\n",
              "      <th>initial_list_status</th>\n",
              "      <th>mort_acc</th>\n",
              "      <th>pub_rec_bankruptcies</th>\n",
              "      <th>is_36mnths</th>\n",
              "      <th>home_ownership_OTHERS</th>\n",
              "      <th>home_ownership_RENT</th>\n",
              "      <th>purpose_debt_consolidation</th>\n",
              "      <th>purpose_others</th>\n",
              "    </tr>\n",
              "  </thead>\n",
              "  <tbody>\n",
              "    <tr>\n",
              "      <th>41364</th>\n",
              "      <td>18075.0</td>\n",
              "      <td>14.33</td>\n",
              "      <td>620.67</td>\n",
              "      <td>0.170407</td>\n",
              "      <td>0.212574</td>\n",
              "      <td>61000.00</td>\n",
              "      <td>1</td>\n",
              "      <td>15.84</td>\n",
              "      <td>27</td>\n",
              "      <td>0</td>\n",
              "      <td>...</td>\n",
              "      <td>65.5</td>\n",
              "      <td>45.0</td>\n",
              "      <td>0</td>\n",
              "      <td>1</td>\n",
              "      <td>0</td>\n",
              "      <td>1</td>\n",
              "      <td>0</td>\n",
              "      <td>0</td>\n",
              "      <td>1</td>\n",
              "      <td>0</td>\n",
              "    </tr>\n",
              "    <tr>\n",
              "      <th>77418</th>\n",
              "      <td>35000.0</td>\n",
              "      <td>17.14</td>\n",
              "      <td>872.48</td>\n",
              "      <td>0.320043</td>\n",
              "      <td>0.294368</td>\n",
              "      <td>269156.00</td>\n",
              "      <td>0</td>\n",
              "      <td>1.69</td>\n",
              "      <td>5</td>\n",
              "      <td>1</td>\n",
              "      <td>...</td>\n",
              "      <td>33.8</td>\n",
              "      <td>23.0</td>\n",
              "      <td>1</td>\n",
              "      <td>7</td>\n",
              "      <td>1</td>\n",
              "      <td>0</td>\n",
              "      <td>0</td>\n",
              "      <td>0</td>\n",
              "      <td>0</td>\n",
              "      <td>1</td>\n",
              "    </tr>\n",
              "    <tr>\n",
              "      <th>81476</th>\n",
              "      <td>3000.0</td>\n",
              "      <td>15.61</td>\n",
              "      <td>104.90</td>\n",
              "      <td>0.256257</td>\n",
              "      <td>0.294368</td>\n",
              "      <td>36000.00</td>\n",
              "      <td>1</td>\n",
              "      <td>31.00</td>\n",
              "      <td>9</td>\n",
              "      <td>0</td>\n",
              "      <td>...</td>\n",
              "      <td>51.7</td>\n",
              "      <td>15.0</td>\n",
              "      <td>0</td>\n",
              "      <td>0</td>\n",
              "      <td>0</td>\n",
              "      <td>1</td>\n",
              "      <td>0</td>\n",
              "      <td>1</td>\n",
              "      <td>0</td>\n",
              "      <td>1</td>\n",
              "    </tr>\n",
              "    <tr>\n",
              "      <th>27492</th>\n",
              "      <td>5000.0</td>\n",
              "      <td>10.99</td>\n",
              "      <td>163.67</td>\n",
              "      <td>0.109393</td>\n",
              "      <td>0.122275</td>\n",
              "      <td>45000.00</td>\n",
              "      <td>1</td>\n",
              "      <td>26.70</td>\n",
              "      <td>19</td>\n",
              "      <td>0</td>\n",
              "      <td>...</td>\n",
              "      <td>52.2</td>\n",
              "      <td>45.0</td>\n",
              "      <td>0</td>\n",
              "      <td>1</td>\n",
              "      <td>0</td>\n",
              "      <td>1</td>\n",
              "      <td>0</td>\n",
              "      <td>0</td>\n",
              "      <td>0</td>\n",
              "      <td>0</td>\n",
              "    </tr>\n",
              "    <tr>\n",
              "      <th>87626</th>\n",
              "      <td>8000.0</td>\n",
              "      <td>7.89</td>\n",
              "      <td>250.29</td>\n",
              "      <td>0.082898</td>\n",
              "      <td>0.061363</td>\n",
              "      <td>95000.00</td>\n",
              "      <td>0</td>\n",
              "      <td>4.33</td>\n",
              "      <td>13</td>\n",
              "      <td>0</td>\n",
              "      <td>...</td>\n",
              "      <td>22.7</td>\n",
              "      <td>42.0</td>\n",
              "      <td>1</td>\n",
              "      <td>6</td>\n",
              "      <td>0</td>\n",
              "      <td>1</td>\n",
              "      <td>1</td>\n",
              "      <td>0</td>\n",
              "      <td>1</td>\n",
              "      <td>0</td>\n",
              "    </tr>\n",
              "    <tr>\n",
              "      <th>...</th>\n",
              "      <td>...</td>\n",
              "      <td>...</td>\n",
              "      <td>...</td>\n",
              "      <td>...</td>\n",
              "      <td>...</td>\n",
              "      <td>...</td>\n",
              "      <td>...</td>\n",
              "      <td>...</td>\n",
              "      <td>...</td>\n",
              "      <td>...</td>\n",
              "      <td>...</td>\n",
              "      <td>...</td>\n",
              "      <td>...</td>\n",
              "      <td>...</td>\n",
              "      <td>...</td>\n",
              "      <td>...</td>\n",
              "      <td>...</td>\n",
              "      <td>...</td>\n",
              "      <td>...</td>\n",
              "      <td>...</td>\n",
              "      <td>...</td>\n",
              "    </tr>\n",
              "    <tr>\n",
              "      <th>134090</th>\n",
              "      <td>4000.0</td>\n",
              "      <td>18.25</td>\n",
              "      <td>145.12</td>\n",
              "      <td>0.306399</td>\n",
              "      <td>0.294368</td>\n",
              "      <td>15000.00</td>\n",
              "      <td>1</td>\n",
              "      <td>30.00</td>\n",
              "      <td>7</td>\n",
              "      <td>0</td>\n",
              "      <td>...</td>\n",
              "      <td>52.6</td>\n",
              "      <td>15.0</td>\n",
              "      <td>0</td>\n",
              "      <td>3</td>\n",
              "      <td>0</td>\n",
              "      <td>1</td>\n",
              "      <td>0</td>\n",
              "      <td>0</td>\n",
              "      <td>0</td>\n",
              "      <td>1</td>\n",
              "    </tr>\n",
              "    <tr>\n",
              "      <th>9180</th>\n",
              "      <td>21000.0</td>\n",
              "      <td>13.11</td>\n",
              "      <td>479.00</td>\n",
              "      <td>0.123631</td>\n",
              "      <td>0.122275</td>\n",
              "      <td>120000.00</td>\n",
              "      <td>1</td>\n",
              "      <td>14.20</td>\n",
              "      <td>17</td>\n",
              "      <td>0</td>\n",
              "      <td>...</td>\n",
              "      <td>71.9</td>\n",
              "      <td>41.0</td>\n",
              "      <td>0</td>\n",
              "      <td>6</td>\n",
              "      <td>0</td>\n",
              "      <td>0</td>\n",
              "      <td>0</td>\n",
              "      <td>0</td>\n",
              "      <td>1</td>\n",
              "      <td>0</td>\n",
              "    </tr>\n",
              "    <tr>\n",
              "      <th>32844</th>\n",
              "      <td>11500.0</td>\n",
              "      <td>13.67</td>\n",
              "      <td>391.21</td>\n",
              "      <td>0.155393</td>\n",
              "      <td>0.122275</td>\n",
              "      <td>25363.68</td>\n",
              "      <td>1</td>\n",
              "      <td>11.45</td>\n",
              "      <td>5</td>\n",
              "      <td>0</td>\n",
              "      <td>...</td>\n",
              "      <td>82.5</td>\n",
              "      <td>10.0</td>\n",
              "      <td>0</td>\n",
              "      <td>0</td>\n",
              "      <td>0</td>\n",
              "      <td>1</td>\n",
              "      <td>0</td>\n",
              "      <td>1</td>\n",
              "      <td>1</td>\n",
              "      <td>0</td>\n",
              "    </tr>\n",
              "    <tr>\n",
              "      <th>74074</th>\n",
              "      <td>10000.0</td>\n",
              "      <td>14.33</td>\n",
              "      <td>343.39</td>\n",
              "      <td>0.170407</td>\n",
              "      <td>0.212574</td>\n",
              "      <td>62000.00</td>\n",
              "      <td>1</td>\n",
              "      <td>5.90</td>\n",
              "      <td>10</td>\n",
              "      <td>1</td>\n",
              "      <td>...</td>\n",
              "      <td>74.0</td>\n",
              "      <td>33.0</td>\n",
              "      <td>1</td>\n",
              "      <td>2</td>\n",
              "      <td>1</td>\n",
              "      <td>1</td>\n",
              "      <td>0</td>\n",
              "      <td>1</td>\n",
              "      <td>1</td>\n",
              "      <td>0</td>\n",
              "    </tr>\n",
              "    <tr>\n",
              "      <th>56072</th>\n",
              "      <td>35000.0</td>\n",
              "      <td>24.08</td>\n",
              "      <td>1008.51</td>\n",
              "      <td>0.453488</td>\n",
              "      <td>0.432493</td>\n",
              "      <td>110000.00</td>\n",
              "      <td>1</td>\n",
              "      <td>31.59</td>\n",
              "      <td>14</td>\n",
              "      <td>0</td>\n",
              "      <td>...</td>\n",
              "      <td>56.4</td>\n",
              "      <td>41.0</td>\n",
              "      <td>1</td>\n",
              "      <td>1</td>\n",
              "      <td>0</td>\n",
              "      <td>0</td>\n",
              "      <td>0</td>\n",
              "      <td>1</td>\n",
              "      <td>1</td>\n",
              "      <td>0</td>\n",
              "    </tr>\n",
              "  </tbody>\n",
              "</table>\n",
              "<p>60064 rows × 21 columns</p>\n",
              "</div>\n",
              "      <button class=\"colab-df-convert\" onclick=\"convertToInteractive('df-2e546a13-1fe8-4f4c-b09f-2a647da7168c')\"\n",
              "              title=\"Convert this dataframe to an interactive table.\"\n",
              "              style=\"display:none;\">\n",
              "        \n",
              "  <svg xmlns=\"http://www.w3.org/2000/svg\" height=\"24px\"viewBox=\"0 0 24 24\"\n",
              "       width=\"24px\">\n",
              "    <path d=\"M0 0h24v24H0V0z\" fill=\"none\"/>\n",
              "    <path d=\"M18.56 5.44l.94 2.06.94-2.06 2.06-.94-2.06-.94-.94-2.06-.94 2.06-2.06.94zm-11 1L8.5 8.5l.94-2.06 2.06-.94-2.06-.94L8.5 2.5l-.94 2.06-2.06.94zm10 10l.94 2.06.94-2.06 2.06-.94-2.06-.94-.94-2.06-.94 2.06-2.06.94z\"/><path d=\"M17.41 7.96l-1.37-1.37c-.4-.4-.92-.59-1.43-.59-.52 0-1.04.2-1.43.59L10.3 9.45l-7.72 7.72c-.78.78-.78 2.05 0 2.83L4 21.41c.39.39.9.59 1.41.59.51 0 1.02-.2 1.41-.59l7.78-7.78 2.81-2.81c.8-.78.8-2.07 0-2.86zM5.41 20L4 18.59l7.72-7.72 1.47 1.35L5.41 20z\"/>\n",
              "  </svg>\n",
              "      </button>\n",
              "      \n",
              "  <style>\n",
              "    .colab-df-container {\n",
              "      display:flex;\n",
              "      flex-wrap:wrap;\n",
              "      gap: 12px;\n",
              "    }\n",
              "\n",
              "    .colab-df-convert {\n",
              "      background-color: #E8F0FE;\n",
              "      border: none;\n",
              "      border-radius: 50%;\n",
              "      cursor: pointer;\n",
              "      display: none;\n",
              "      fill: #1967D2;\n",
              "      height: 32px;\n",
              "      padding: 0 0 0 0;\n",
              "      width: 32px;\n",
              "    }\n",
              "\n",
              "    .colab-df-convert:hover {\n",
              "      background-color: #E2EBFA;\n",
              "      box-shadow: 0px 1px 2px rgba(60, 64, 67, 0.3), 0px 1px 3px 1px rgba(60, 64, 67, 0.15);\n",
              "      fill: #174EA6;\n",
              "    }\n",
              "\n",
              "    [theme=dark] .colab-df-convert {\n",
              "      background-color: #3B4455;\n",
              "      fill: #D2E3FC;\n",
              "    }\n",
              "\n",
              "    [theme=dark] .colab-df-convert:hover {\n",
              "      background-color: #434B5C;\n",
              "      box-shadow: 0px 1px 3px 1px rgba(0, 0, 0, 0.15);\n",
              "      filter: drop-shadow(0px 1px 2px rgba(0, 0, 0, 0.3));\n",
              "      fill: #FFFFFF;\n",
              "    }\n",
              "  </style>\n",
              "\n",
              "      <script>\n",
              "        const buttonEl =\n",
              "          document.querySelector('#df-2e546a13-1fe8-4f4c-b09f-2a647da7168c button.colab-df-convert');\n",
              "        buttonEl.style.display =\n",
              "          google.colab.kernel.accessAllowed ? 'block' : 'none';\n",
              "\n",
              "        async function convertToInteractive(key) {\n",
              "          const element = document.querySelector('#df-2e546a13-1fe8-4f4c-b09f-2a647da7168c');\n",
              "          const dataTable =\n",
              "            await google.colab.kernel.invokeFunction('convertToInteractive',\n",
              "                                                     [key], {});\n",
              "          if (!dataTable) return;\n",
              "\n",
              "          const docLinkHtml = 'Like what you see? Visit the ' +\n",
              "            '<a target=\"_blank\" href=https://colab.research.google.com/notebooks/data_table.ipynb>data table notebook</a>'\n",
              "            + ' to learn more about interactive tables.';\n",
              "          element.innerHTML = '';\n",
              "          dataTable['output_type'] = 'display_data';\n",
              "          await google.colab.output.renderOutput(dataTable, element);\n",
              "          const docLink = document.createElement('div');\n",
              "          docLink.innerHTML = docLinkHtml;\n",
              "          element.appendChild(docLink);\n",
              "        }\n",
              "      </script>\n",
              "    </div>\n",
              "  </div>\n",
              "  "
            ]
          },
          "metadata": {},
          "execution_count": 89
        }
      ]
    },
    {
      "cell_type": "code",
      "source": [
        "\n",
        "train_cost=[]\n",
        "val_cost=[]\n",
        "depth=1\n",
        "maxdepth=[]\n",
        "while depth<=20:\n",
        "    model=DecisionTreeClassifier(random_state=0,max_depth=depth,class_weight={0:0.1,1:0.6})\n",
        "    model.fit(x_train,y_train)\n",
        "    y_train_probs=model.predict_proba(x_train)\n",
        "    y_val_probs=model.predict_proba(x_val)\n",
        "    train_loss=metrics.log_loss(y_train,y_train_probs)\n",
        "    val_loss=metrics.log_loss(y_val,y_val_probs)\n",
        "    train_cost.append(train_loss)\n",
        "    val_cost.append(val_loss)\n",
        "    maxdepth.append(depth)\n",
        "    depth+=1\n",
        "plt.plot(maxdepth,train_cost,label='train_data')\n",
        "plt.plot(maxdepth,val_cost,label='val_data')\n",
        "plt.xlabel('Max_Depth')\n",
        "plt.ylabel('Loss Function')\n",
        "plt.title('Loss Function Vs Max_Depth')\n",
        "plt.legend()\n",
        "plt.show()"
      ],
      "metadata": {
        "colab": {
          "base_uri": "https://localhost:8080/",
          "height": 296
        },
        "id": "MTYKtuAAONrL",
        "outputId": "a431c0d0-c6ad-4198-ee08-94921ac6dfa4"
      },
      "execution_count": 90,
      "outputs": [
        {
          "output_type": "display_data",
          "data": {
            "text/plain": [
              "<Figure size 432x288 with 1 Axes>"
            ],
            "image/png": "[encoded data removed]"
          },
          "metadata": {
            "needs_background": "light"
          }
        }
      ]
    },
    {
      "cell_type": "code",
      "source": [
        "z=np.argmin(val_cost)\n",
        "depth_best=z+1"
      ],
      "metadata": {
        "id": "_cv778PROSVZ"
      },
      "execution_count": 91,
      "outputs": []
    },
    {
      "cell_type": "code",
      "source": [
        "model=DecisionTreeClassifier(max_depth=depth_best,class_weight={0:0.1,1:0.6})\n",
        "model.fit(x_train,y_train)\n",
        "print(model.score(x_train,y_train))\n",
        "print(model.score(x_val,y_val))\n",
        "print(model.score(x_test,y_test))"
      ],
      "metadata": {
        "colab": {
          "base_uri": "https://localhost:8080/"
        },
        "id": "L9b0djveOW27",
        "outputId": "c5e84dae-e38a-4947-9cfb-04b5fb1ac3d0"
      },
      "execution_count": 92,
      "outputs": [
        {
          "output_type": "stream",
          "name": "stdout",
          "text": [
            "0.5481319925412893\n",
            "0.5369811320754717\n",
            "0.5481517119717745\n"
          ]
        }
      ]
    },
    {
      "cell_type": "code",
      "source": [
        "from sklearn.metrics import confusion_matrix, precision_score, recall_score\n",
        "ypred=model.predict(x_test)\n",
        "confusion_matrix(y_test,ypred)"
      ],
      "metadata": {
        "colab": {
          "base_uri": "https://localhost:8080/"
        },
        "id": "C_uVayWDOZd4",
        "outputId": "f0f33d3b-1ffc-4288-9c72-fafc13b414c7"
      },
      "execution_count": 93,
      "outputs": [
        {
          "output_type": "execute_result",
          "data": {
            "text/plain": [
              "array([[4919, 5087],\n",
              "       [ 548, 1917]])"
            ]
          },
          "metadata": {},
          "execution_count": 93
        }
      ]
    },
    {
      "cell_type": "code",
      "source": [
        "print(precision_score(y_test,ypred))\n",
        "print(recall_score(y_test,ypred))"
      ],
      "metadata": {
        "colab": {
          "base_uri": "https://localhost:8080/"
        },
        "id": "E2rCY5wJOeSq",
        "outputId": "b3b7722c-e7f1-4d2c-ed38-e6d408f60503"
      },
      "execution_count": 94,
      "outputs": [
        {
          "output_type": "stream",
          "name": "stdout",
          "text": [
            "0.2737007424328955\n",
            "0.7776876267748478\n"
          ]
        }
      ]
    },
    {
      "cell_type": "code",
      "source": [
        "# Feature importance\n",
        "importances = model.feature_importances_\n",
        "indices = np.argsort(importances)[::-1] \n",
        "names = [x_train.columns[i] for i in indices] \n",
        "plt.figure(figsize=(15, 7)) \n",
        "plt.title(\"Feature Importance\") \n",
        "plt.bar(range(x_train.shape[1]), importances[indices]) \n",
        "plt.xticks(range(x_train.shape[1]), names, rotation=90)\n",
        "plt.show()"
      ],
      "metadata": {
        "colab": {
          "base_uri": "https://localhost:8080/",
          "height": 574
        },
        "id": "zlUnWeD2OiyB",
        "outputId": "747b8b9d-57f7-4b1c-9ef3-93e43d98dfc8"
      },
      "execution_count": 95,
      "outputs": [
        {
          "output_type": "display_data",
          "data": {
            "text/plain": [
              "<Figure size 1080x504 with 1 Axes>"
            ],
            "image/png": "[encoded data removed]"
          },
          "metadata": {
            "needs_background": "light"
          }
        }
      ]
    },
    {
      "cell_type": "markdown",
      "source": [
        "Ensemples\n",
        "1)BaggingClassifier"
      ],
      "metadata": {
        "id": "4KBKQqJHOr6S"
      }
    },
    {
      "cell_type": "code",
      "source": [
        "from sklearn.model_selection import train_test_split"
      ],
      "metadata": {
        "id": "_RtNYu_COs18"
      },
      "execution_count": 96,
      "outputs": []
    },
    {
      "cell_type": "code",
      "source": [
        "x_train,x_test,y_train,y_test=train_test_split(XS,y,test_size=0.15,random_state=42)"
      ],
      "metadata": {
        "id": "OXafrS7yOxNq"
      },
      "execution_count": 97,
      "outputs": []
    },
    {
      "cell_type": "code",
      "source": [
        "print(x_train.shape,x_test.shape,y_train.shape,y_test.shape)"
      ],
      "metadata": {
        "colab": {
          "base_uri": "https://localhost:8080/"
        },
        "id": "eEBRJ0VtO0U3",
        "outputId": "9303d837-26d4-4854-82c4-64a4108b066f"
      },
      "execution_count": 98,
      "outputs": [
        {
          "output_type": "stream",
          "name": "stdout",
          "text": [
            "(70664, 21) (12471, 21) (70664,) (12471,)\n"
          ]
        }
      ]
    },
    {
      "cell_type": "code",
      "source": [
        "ce_target=ce.TargetEncoder(cols=['grade','sub_grade'])\n",
        "x_train=ce_target.fit_transform(x_train,y_train)\n",
        "x_val=ce_target.transform(x_val)\n",
        "x_test=ce_target.transform(x_test)"
      ],
      "metadata": {
        "colab": {
          "base_uri": "https://localhost:8080/"
        },
        "id": "Qp6_AO-8O4wZ",
        "outputId": "864311f3-8385-460d-df33-13e4f1cea539"
      },
      "execution_count": 99,
      "outputs": [
        {
          "output_type": "stream",
          "name": "stderr",
          "text": [
            "/usr/local/lib/python3.7/dist-packages/category_encoders/target_encoder.py:94: FutureWarning: Default parameter min_samples_leaf will change in version 2.6.See https://github.com/scikit-learn-contrib/category_encoders/issues/327\n",
            "  category=FutureWarning)\n",
            "/usr/local/lib/python3.7/dist-packages/category_encoders/target_encoder.py:99: FutureWarning: Default parameter smoothing will change in version 2.6.See https://github.com/scikit-learn-contrib/category_encoders/issues/327\n",
            "  category=FutureWarning)\n"
          ]
        }
      ]
    },
    {
      "cell_type": "code",
      "source": [
        "x_train"
      ],
      "metadata": {
        "colab": {
          "base_uri": "https://localhost:8080/",
          "height": 488
        },
        "id": "wSusdXxhO923",
        "outputId": "54224dde-17b4-4cb5-fd4b-cb700b85cd1a"
      },
      "execution_count": 100,
      "outputs": [
        {
          "output_type": "execute_result",
          "data": {
            "text/plain": [
              "        loan_amnt  int_rate  installment  sub_grade     grade  annual_inc  \\\n",
              "188918     7550.0     11.99       250.74   0.121014  0.123050     58000.0   \n",
              "33308     35000.0     22.15       969.65   0.409915  0.377368    186830.0   \n",
              "145410    16225.0     25.89       484.73   0.509434  0.472119    102000.0   \n",
              "93300     20000.0      8.19       628.49   0.081124  0.060600     75000.0   \n",
              "111234     7000.0      5.32       210.81   0.028554  0.060600     85000.0   \n",
              "...           ...       ...          ...        ...       ...         ...   \n",
              "15020     35000.0     16.49       860.28   0.300092  0.293317    121000.0   \n",
              "132272    14000.0     14.49       481.83   0.240697  0.212023     80000.0   \n",
              "185334    10000.0      6.03       304.36   0.028554  0.060600    135000.0   \n",
              "2020      10625.0     13.11       358.57   0.127305  0.123050     50000.0   \n",
              "37936     11775.0     17.86       424.87   0.326698  0.293317     36500.0   \n",
              "\n",
              "        is_verified    dti  open_acc  pub_rec  ...  revol_util  total_acc  \\\n",
              "188918            1  15.04        13        0  ...        76.9       36.0   \n",
              "33308             1   4.14         5        0  ...         8.9       20.0   \n",
              "145410            1  14.08         8        0  ...        54.2       16.0   \n",
              "93300             1  26.16        16        0  ...        39.7       30.0   \n",
              "111234            1  14.25         9        0  ...        13.0       17.0   \n",
              "...             ...    ...       ...      ...  ...         ...        ...   \n",
              "15020             1  25.61        24        0  ...        64.6       38.0   \n",
              "132272            1  18.30        15        0  ...        89.0       27.0   \n",
              "185334            0   3.58        10        0  ...         3.1       30.0   \n",
              "2020              1  15.84        22        0  ...        47.0       39.0   \n",
              "37936             1  22.66         8        1  ...        65.9       23.0   \n",
              "\n",
              "        initial_list_status  mort_acc  pub_rec_bankruptcies  is_36mnths  \\\n",
              "188918                    0         6                     0           1   \n",
              "33308                     1         5                     0           0   \n",
              "145410                    1         3                     0           0   \n",
              "93300                     0         2                     0           1   \n",
              "111234                    1         1                     0           1   \n",
              "...                     ...       ...                   ...         ...   \n",
              "15020                     0         3                     0           0   \n",
              "132272                    0         4                     0           1   \n",
              "185334                    1         7                     0           1   \n",
              "2020                      1         1                     0           1   \n",
              "37936                     1         2                     1           1   \n",
              "\n",
              "        home_ownership_OTHERS  home_ownership_RENT  \\\n",
              "188918                      0                    0   \n",
              "33308                       0                    0   \n",
              "145410                      0                    1   \n",
              "93300                       0                    0   \n",
              "111234                      0                    0   \n",
              "...                       ...                  ...   \n",
              "15020                       1                    0   \n",
              "132272                      0                    0   \n",
              "185334                      0                    0   \n",
              "2020                        1                    0   \n",
              "37936                       0                    1   \n",
              "\n",
              "        purpose_debt_consolidation  purpose_others  \n",
              "188918                           0               0  \n",
              "33308                            1               0  \n",
              "145410                           0               1  \n",
              "93300                            0               0  \n",
              "111234                           0               0  \n",
              "...                            ...             ...  \n",
              "15020                            1               0  \n",
              "132272                           1               0  \n",
              "185334                           0               1  \n",
              "2020                             0               0  \n",
              "37936                            1               0  \n",
              "\n",
              "[70664 rows x 21 columns]"
            ],
            "text/html": [
              "\n",
              "  <div id=\"df-3f38aa15-6901-494b-9cb8-3b0c72eae797\">\n",
              "    <div class=\"colab-df-container\">\n",
              "      <div>\n",
              "<style scoped>\n",
              "    .dataframe tbody tr th:only-of-type {\n",
              "        vertical-align: middle;\n",
              "    }\n",
              "\n",
              "    .dataframe tbody tr th {\n",
              "        vertical-align: top;\n",
              "    }\n",
              "\n",
              "    .dataframe thead th {\n",
              "        text-align: right;\n",
              "    }\n",
              "</style>\n",
              "<table border=\"1\" class=\"dataframe\">\n",
              "  <thead>\n",
              "    <tr style=\"text-align: right;\">\n",
              "      <th></th>\n",
              "      <th>loan_amnt</th>\n",
              "      <th>int_rate</th>\n",
              "      <th>installment</th>\n",
              "      <th>sub_grade</th>\n",
              "      <th>grade</th>\n",
              "      <th>annual_inc</th>\n",
              "      <th>is_verified</th>\n",
              "      <th>dti</th>\n",
              "      <th>open_acc</th>\n",
              "      <th>pub_rec</th>\n",
              "      <th>...</th>\n",
              "      <th>revol_util</th>\n",
              "      <th>total_acc</th>\n",
              "      <th>initial_list_status</th>\n",
              "      <th>mort_acc</th>\n",
              "      <th>pub_rec_bankruptcies</th>\n",
              "      <th>is_36mnths</th>\n",
              "      <th>home_ownership_OTHERS</th>\n",
              "      <th>home_ownership_RENT</th>\n",
              "      <th>purpose_debt_consolidation</th>\n",
              "      <th>purpose_others</th>\n",
              "    </tr>\n",
              "  </thead>\n",
              "  <tbody>\n",
              "    <tr>\n",
              "      <th>188918</th>\n",
              "      <td>7550.0</td>\n",
              "      <td>11.99</td>\n",
              "      <td>250.74</td>\n",
              "      <td>0.121014</td>\n",
              "      <td>0.123050</td>\n",
              "      <td>58000.0</td>\n",
              "      <td>1</td>\n",
              "      <td>15.04</td>\n",
              "      <td>13</td>\n",
              "      <td>0</td>\n",
              "      <td>...</td>\n",
              "      <td>76.9</td>\n",
              "      <td>36.0</td>\n",
              "      <td>0</td>\n",
              "      <td>6</td>\n",
              "      <td>0</td>\n",
              "      <td>1</td>\n",
              "      <td>0</td>\n",
              "      <td>0</td>\n",
              "      <td>0</td>\n",
              "      <td>0</td>\n",
              "    </tr>\n",
              "    <tr>\n",
              "      <th>33308</th>\n",
              "      <td>35000.0</td>\n",
              "      <td>22.15</td>\n",
              "      <td>969.65</td>\n",
              "      <td>0.409915</td>\n",
              "      <td>0.377368</td>\n",
              "      <td>186830.0</td>\n",
              "      <td>1</td>\n",
              "      <td>4.14</td>\n",
              "      <td>5</td>\n",
              "      <td>0</td>\n",
              "      <td>...</td>\n",
              "      <td>8.9</td>\n",
              "      <td>20.0</td>\n",
              "      <td>1</td>\n",
              "      <td>5</td>\n",
              "      <td>0</td>\n",
              "      <td>0</td>\n",
              "      <td>0</td>\n",
              "      <td>0</td>\n",
              "      <td>1</td>\n",
              "      <td>0</td>\n",
              "    </tr>\n",
              "    <tr>\n",
              "      <th>145410</th>\n",
              "      <td>16225.0</td>\n",
              "      <td>25.89</td>\n",
              "      <td>484.73</td>\n",
              "      <td>0.509434</td>\n",
              "      <td>0.472119</td>\n",
              "      <td>102000.0</td>\n",
              "      <td>1</td>\n",
              "      <td>14.08</td>\n",
              "      <td>8</td>\n",
              "      <td>0</td>\n",
              "      <td>...</td>\n",
              "      <td>54.2</td>\n",
              "      <td>16.0</td>\n",
              "      <td>1</td>\n",
              "      <td>3</td>\n",
              "      <td>0</td>\n",
              "      <td>0</td>\n",
              "      <td>0</td>\n",
              "      <td>1</td>\n",
              "      <td>0</td>\n",
              "      <td>1</td>\n",
              "    </tr>\n",
              "    <tr>\n",
              "      <th>93300</th>\n",
              "      <td>20000.0</td>\n",
              "      <td>8.19</td>\n",
              "      <td>628.49</td>\n",
              "      <td>0.081124</td>\n",
              "      <td>0.060600</td>\n",
              "      <td>75000.0</td>\n",
              "      <td>1</td>\n",
              "      <td>26.16</td>\n",
              "      <td>16</td>\n",
              "      <td>0</td>\n",
              "      <td>...</td>\n",
              "      <td>39.7</td>\n",
              "      <td>30.0</td>\n",
              "      <td>0</td>\n",
              "      <td>2</td>\n",
              "      <td>0</td>\n",
              "      <td>1</td>\n",
              "      <td>0</td>\n",
              "      <td>0</td>\n",
              "      <td>0</td>\n",
              "      <td>0</td>\n",
              "    </tr>\n",
              "    <tr>\n",
              "      <th>111234</th>\n",
              "      <td>7000.0</td>\n",
              "      <td>5.32</td>\n",
              "      <td>210.81</td>\n",
              "      <td>0.028554</td>\n",
              "      <td>0.060600</td>\n",
              "      <td>85000.0</td>\n",
              "      <td>1</td>\n",
              "      <td>14.25</td>\n",
              "      <td>9</td>\n",
              "      <td>0</td>\n",
              "      <td>...</td>\n",
              "      <td>13.0</td>\n",
              "      <td>17.0</td>\n",
              "      <td>1</td>\n",
              "      <td>1</td>\n",
              "      <td>0</td>\n",
              "      <td>1</td>\n",
              "      <td>0</td>\n",
              "      <td>0</td>\n",
              "      <td>0</td>\n",
              "      <td>0</td>\n",
              "    </tr>\n",
              "    <tr>\n",
              "      <th>...</th>\n",
              "      <td>...</td>\n",
              "      <td>...</td>\n",
              "      <td>...</td>\n",
              "      <td>...</td>\n",
              "      <td>...</td>\n",
              "      <td>...</td>\n",
              "      <td>...</td>\n",
              "      <td>...</td>\n",
              "      <td>...</td>\n",
              "      <td>...</td>\n",
              "      <td>...</td>\n",
              "      <td>...</td>\n",
              "      <td>...</td>\n",
              "      <td>...</td>\n",
              "      <td>...</td>\n",
              "      <td>...</td>\n",
              "      <td>...</td>\n",
              "      <td>...</td>\n",
              "      <td>...</td>\n",
              "      <td>...</td>\n",
              "      <td>...</td>\n",
              "    </tr>\n",
              "    <tr>\n",
              "      <th>15020</th>\n",
              "      <td>35000.0</td>\n",
              "      <td>16.49</td>\n",
              "      <td>860.28</td>\n",
              "      <td>0.300092</td>\n",
              "      <td>0.293317</td>\n",
              "      <td>121000.0</td>\n",
              "      <td>1</td>\n",
              "      <td>25.61</td>\n",
              "      <td>24</td>\n",
              "      <td>0</td>\n",
              "      <td>...</td>\n",
              "      <td>64.6</td>\n",
              "      <td>38.0</td>\n",
              "      <td>0</td>\n",
              "      <td>3</td>\n",
              "      <td>0</td>\n",
              "      <td>0</td>\n",
              "      <td>1</td>\n",
              "      <td>0</td>\n",
              "      <td>1</td>\n",
              "      <td>0</td>\n",
              "    </tr>\n",
              "    <tr>\n",
              "      <th>132272</th>\n",
              "      <td>14000.0</td>\n",
              "      <td>14.49</td>\n",
              "      <td>481.83</td>\n",
              "      <td>0.240697</td>\n",
              "      <td>0.212023</td>\n",
              "      <td>80000.0</td>\n",
              "      <td>1</td>\n",
              "      <td>18.30</td>\n",
              "      <td>15</td>\n",
              "      <td>0</td>\n",
              "      <td>...</td>\n",
              "      <td>89.0</td>\n",
              "      <td>27.0</td>\n",
              "      <td>0</td>\n",
              "      <td>4</td>\n",
              "      <td>0</td>\n",
              "      <td>1</td>\n",
              "      <td>0</td>\n",
              "      <td>0</td>\n",
              "      <td>1</td>\n",
              "      <td>0</td>\n",
              "    </tr>\n",
              "    <tr>\n",
              "      <th>185334</th>\n",
              "      <td>10000.0</td>\n",
              "      <td>6.03</td>\n",
              "      <td>304.36</td>\n",
              "      <td>0.028554</td>\n",
              "      <td>0.060600</td>\n",
              "      <td>135000.0</td>\n",
              "      <td>0</td>\n",
              "      <td>3.58</td>\n",
              "      <td>10</td>\n",
              "      <td>0</td>\n",
              "      <td>...</td>\n",
              "      <td>3.1</td>\n",
              "      <td>30.0</td>\n",
              "      <td>1</td>\n",
              "      <td>7</td>\n",
              "      <td>0</td>\n",
              "      <td>1</td>\n",
              "      <td>0</td>\n",
              "      <td>0</td>\n",
              "      <td>0</td>\n",
              "      <td>1</td>\n",
              "    </tr>\n",
              "    <tr>\n",
              "      <th>2020</th>\n",
              "      <td>10625.0</td>\n",
              "      <td>13.11</td>\n",
              "      <td>358.57</td>\n",
              "      <td>0.127305</td>\n",
              "      <td>0.123050</td>\n",
              "      <td>50000.0</td>\n",
              "      <td>1</td>\n",
              "      <td>15.84</td>\n",
              "      <td>22</td>\n",
              "      <td>0</td>\n",
              "      <td>...</td>\n",
              "      <td>47.0</td>\n",
              "      <td>39.0</td>\n",
              "      <td>1</td>\n",
              "      <td>1</td>\n",
              "      <td>0</td>\n",
              "      <td>1</td>\n",
              "      <td>1</td>\n",
              "      <td>0</td>\n",
              "      <td>0</td>\n",
              "      <td>0</td>\n",
              "    </tr>\n",
              "    <tr>\n",
              "      <th>37936</th>\n",
              "      <td>11775.0</td>\n",
              "      <td>17.86</td>\n",
              "      <td>424.87</td>\n",
              "      <td>0.326698</td>\n",
              "      <td>0.293317</td>\n",
              "      <td>36500.0</td>\n",
              "      <td>1</td>\n",
              "      <td>22.66</td>\n",
              "      <td>8</td>\n",
              "      <td>1</td>\n",
              "      <td>...</td>\n",
              "      <td>65.9</td>\n",
              "      <td>23.0</td>\n",
              "      <td>1</td>\n",
              "      <td>2</td>\n",
              "      <td>1</td>\n",
              "      <td>1</td>\n",
              "      <td>0</td>\n",
              "      <td>1</td>\n",
              "      <td>1</td>\n",
              "      <td>0</td>\n",
              "    </tr>\n",
              "  </tbody>\n",
              "</table>\n",
              "<p>70664 rows × 21 columns</p>\n",
              "</div>\n",
              "      <button class=\"colab-df-convert\" onclick=\"convertToInteractive('df-3f38aa15-6901-494b-9cb8-3b0c72eae797')\"\n",
              "              title=\"Convert this dataframe to an interactive table.\"\n",
              "              style=\"display:none;\">\n",
              "        \n",
              "  <svg xmlns=\"http://www.w3.org/2000/svg\" height=\"24px\"viewBox=\"0 0 24 24\"\n",
              "       width=\"24px\">\n",
              "    <path d=\"M0 0h24v24H0V0z\" fill=\"none\"/>\n",
              "    <path d=\"M18.56 5.44l.94 2.06.94-2.06 2.06-.94-2.06-.94-.94-2.06-.94 2.06-2.06.94zm-11 1L8.5 8.5l.94-2.06 2.06-.94-2.06-.94L8.5 2.5l-.94 2.06-2.06.94zm10 10l.94 2.06.94-2.06 2.06-.94-2.06-.94-.94-2.06-.94 2.06-2.06.94z\"/><path d=\"M17.41 7.96l-1.37-1.37c-.4-.4-.92-.59-1.43-.59-.52 0-1.04.2-1.43.59L10.3 9.45l-7.72 7.72c-.78.78-.78 2.05 0 2.83L4 21.41c.39.39.9.59 1.41.59.51 0 1.02-.2 1.41-.59l7.78-7.78 2.81-2.81c.8-.78.8-2.07 0-2.86zM5.41 20L4 18.59l7.72-7.72 1.47 1.35L5.41 20z\"/>\n",
              "  </svg>\n",
              "      </button>\n",
              "      \n",
              "  <style>\n",
              "    .colab-df-container {\n",
              "      display:flex;\n",
              "      flex-wrap:wrap;\n",
              "      gap: 12px;\n",
              "    }\n",
              "\n",
              "    .colab-df-convert {\n",
              "      background-color: #E8F0FE;\n",
              "      border: none;\n",
              "      border-radius: 50%;\n",
              "      cursor: pointer;\n",
              "      display: none;\n",
              "      fill: #1967D2;\n",
              "      height: 32px;\n",
              "      padding: 0 0 0 0;\n",
              "      width: 32px;\n",
              "    }\n",
              "\n",
              "    .colab-df-convert:hover {\n",
              "      background-color: #E2EBFA;\n",
              "      box-shadow: 0px 1px 2px rgba(60, 64, 67, 0.3), 0px 1px 3px 1px rgba(60, 64, 67, 0.15);\n",
              "      fill: #174EA6;\n",
              "    }\n",
              "\n",
              "    [theme=dark] .colab-df-convert {\n",
              "      background-color: #3B4455;\n",
              "      fill: #D2E3FC;\n",
              "    }\n",
              "\n",
              "    [theme=dark] .colab-df-convert:hover {\n",
              "      background-color: #434B5C;\n",
              "      box-shadow: 0px 1px 3px 1px rgba(0, 0, 0, 0.15);\n",
              "      filter: drop-shadow(0px 1px 2px rgba(0, 0, 0, 0.3));\n",
              "      fill: #FFFFFF;\n",
              "    }\n",
              "  </style>\n",
              "\n",
              "      <script>\n",
              "        const buttonEl =\n",
              "          document.querySelector('#df-3f38aa15-6901-494b-9cb8-3b0c72eae797 button.colab-df-convert');\n",
              "        buttonEl.style.display =\n",
              "          google.colab.kernel.accessAllowed ? 'block' : 'none';\n",
              "\n",
              "        async function convertToInteractive(key) {\n",
              "          const element = document.querySelector('#df-3f38aa15-6901-494b-9cb8-3b0c72eae797');\n",
              "          const dataTable =\n",
              "            await google.colab.kernel.invokeFunction('convertToInteractive',\n",
              "                                                     [key], {});\n",
              "          if (!dataTable) return;\n",
              "\n",
              "          const docLinkHtml = 'Like what you see? Visit the ' +\n",
              "            '<a target=\"_blank\" href=https://colab.research.google.com/notebooks/data_table.ipynb>data table notebook</a>'\n",
              "            + ' to learn more about interactive tables.';\n",
              "          element.innerHTML = '';\n",
              "          dataTable['output_type'] = 'display_data';\n",
              "          await google.colab.output.renderOutput(dataTable, element);\n",
              "          const docLink = document.createElement('div');\n",
              "          docLink.innerHTML = docLinkHtml;\n",
              "          element.appendChild(docLink);\n",
              "        }\n",
              "      </script>\n",
              "    </div>\n",
              "  </div>\n",
              "  "
            ]
          },
          "metadata": {},
          "execution_count": 100
        }
      ]
    },
    {
      "cell_type": "code",
      "source": [
        "from sklearn.model_selection import GridSearchCV,RandomizedSearchCV\n",
        "from sklearn.model_selection import KFold,cross_validate"
      ],
      "metadata": {
        "id": "YbLkz7BrPB5e"
      },
      "execution_count": 101,
      "outputs": []
    },
    {
      "cell_type": "code",
      "source": [
        "from sklearn.ensemble import GradientBoostingClassifier, RandomForestClassifier"
      ],
      "metadata": {
        "id": "imR4ns0hPGOw"
      },
      "execution_count": 102,
      "outputs": []
    },
    {
      "cell_type": "code",
      "source": [
        "rf_model=RandomForestClassifier(random_state=1,class_weight={0:0.1,1:0.6})\n",
        "fold=KFold(n_splits=5)\n",
        "params={'n_estimators':[51,101],\n",
        "        'max_depth':[5,8,12,15,20],\n",
        "        'max_samples':[0.60,0.80],\n",
        "        'max_features':[0.60,0.80]}"
      ],
      "metadata": {
        "id": "YepJvySTPJaQ"
      },
      "execution_count": 103,
      "outputs": []
    },
    {
      "cell_type": "code",
      "source": [
        "clf=RandomizedSearchCV(rf_model,params,cv=fold,scoring='f1',n_jobs=-1)"
      ],
      "metadata": {
        "id": "rv0gyxOyPMqW"
      },
      "execution_count": 104,
      "outputs": []
    },
    {
      "cell_type": "code",
      "source": [
        "clf.fit(x_train,y_train)\n"
      ],
      "metadata": {
        "colab": {
          "base_uri": "https://localhost:8080/"
        },
        "id": "rY7YHxdfPQOO",
        "outputId": "333efef4-dfd3-4936-ce4b-f62aa8b65c49"
      },
      "execution_count": 105,
      "outputs": [
        {
          "output_type": "execute_result",
          "data": {
            "text/plain": [
              "RandomizedSearchCV(cv=KFold(n_splits=5, random_state=None, shuffle=False),\n",
              "                   estimator=RandomForestClassifier(class_weight={0: 0.1,\n",
              "                                                                  1: 0.6},\n",
              "                                                    random_state=1),\n",
              "                   n_jobs=-1,\n",
              "                   param_distributions={'max_depth': [5, 8, 12, 15, 20],\n",
              "                                        'max_features': [0.6, 0.8],\n",
              "                                        'max_samples': [0.6, 0.8],\n",
              "                                        'n_estimators': [51, 101]},\n",
              "                   scoring='f1')"
            ]
          },
          "metadata": {},
          "execution_count": 105
        }
      ]
    },
    {
      "cell_type": "code",
      "source": [
        "clf.best_estimator_"
      ],
      "metadata": {
        "colab": {
          "base_uri": "https://localhost:8080/"
        },
        "id": "kivpwl2_PStF",
        "outputId": "c382fc44-d86d-40a3-ff4e-f71c5a35aa65"
      },
      "execution_count": 106,
      "outputs": [
        {
          "output_type": "execute_result",
          "data": {
            "text/plain": [
              "RandomForestClassifier(class_weight={0: 0.1, 1: 0.6}, max_depth=12,\n",
              "                       max_features=0.6, max_samples=0.6, n_estimators=51,\n",
              "                       random_state=1)"
            ]
          },
          "metadata": {},
          "execution_count": 106
        }
      ]
    },
    {
      "cell_type": "code",
      "source": [
        "rf_model=RandomForestClassifier(class_weight={0:0.1,1:0.6},max_depth=12,max_features=0.6,max_samples=0.6,n_estimators=51)\n",
        "rf_model.fit(x_train,y_train)\n",
        "print(rf_model.score(x_train,y_train))\n",
        "print(rf_model.score(x_test,y_test))"
      ],
      "metadata": {
        "colab": {
          "base_uri": "https://localhost:8080/"
        },
        "id": "96Z1G2llSJQz",
        "outputId": "5aa7c888-9344-4def-c7fd-1354cc27537a"
      },
      "execution_count": 107,
      "outputs": [
        {
          "output_type": "stream",
          "name": "stdout",
          "text": [
            "0.7198573531076644\n",
            "0.6621762488974421\n"
          ]
        }
      ]
    },
    {
      "cell_type": "code",
      "source": [
        "ypred=rf_model.predict(x_test)\n",
        "confusion_matrix(y_test,ypred)"
      ],
      "metadata": {
        "colab": {
          "base_uri": "https://localhost:8080/"
        },
        "id": "EaiWDS4xSUE7",
        "outputId": "f5987858-d68c-4434-fa1f-a6c2516d4ed4"
      },
      "execution_count": 108,
      "outputs": [
        {
          "output_type": "execute_result",
          "data": {
            "text/plain": [
              "array([[6680, 3326],\n",
              "       [ 887, 1578]])"
            ]
          },
          "metadata": {},
          "execution_count": 108
        }
      ]
    },
    {
      "cell_type": "code",
      "source": [
        "print(precision_score(y_test,ypred))\n",
        "print(recall_score(y_test,ypred))"
      ],
      "metadata": {
        "colab": {
          "base_uri": "https://localhost:8080/"
        },
        "id": "Uca6TY9eSbxp",
        "outputId": "294225f4-57b1-445c-df2f-ab6b911aa28e"
      },
      "execution_count": 109,
      "outputs": [
        {
          "output_type": "stream",
          "name": "stdout",
          "text": [
            "0.3217781402936378\n",
            "0.6401622718052739\n"
          ]
        }
      ]
    },
    {
      "cell_type": "code",
      "source": [
        "# Feature importance\n",
        "importances = rf_model.feature_importances_\n",
        "indices = np.argsort(importances)[::-1] \n",
        "names = [x_train.columns[i] for i in indices] \n",
        "plt.figure(figsize=(15, 7)) \n",
        "plt.title(\"Feature Importance\") \n",
        "plt.bar(range(x_train.shape[1]), importances[indices]) \n",
        "plt.xticks(range(x_train.shape[1]), names, rotation=90)\n",
        "plt.show()"
      ],
      "metadata": {
        "colab": {
          "base_uri": "https://localhost:8080/",
          "height": 574
        },
        "id": "BblYITIgSggS",
        "outputId": "5ab386e7-3c07-42ab-eded-6e8f521582a2"
      },
      "execution_count": 110,
      "outputs": [
        {
          "output_type": "display_data",
          "data": {
            "text/plain": [
              "<Figure size 1080x504 with 1 Axes>"
            ],
            "image/png": "[encoded data removed]"
          },
          "metadata": {
            "needs_background": "light"
          }
        }
      ]
    },
    {
      "cell_type": "markdown",
      "source": [
        "GBDTs"
      ],
      "metadata": {
        "id": "v2SjiWJoSqOM"
      }
    },
    {
      "cell_type": "code",
      "source": [
        "from xgboost import XGBClassifier"
      ],
      "metadata": {
        "id": "pNBqyL3oSrA5"
      },
      "execution_count": 111,
      "outputs": []
    },
    {
      "cell_type": "code",
      "source": [
        "xgb=XGBClassifier(random_state=1)\n",
        "fold=KFold(n_splits=5)\n",
        "params={'n_estimators':[101,150],\n",
        "        'max_depth':[4,5,7],\n",
        "        'subsamples':[0.60,0.80],\n",
        "        'colsample_bytree':[0.60,0.80],\n",
        "        'learning_rate':[0.1,0.5,0.8]}"
      ],
      "metadata": {
        "id": "P7OkJnZLSv4_"
      },
      "execution_count": 112,
      "outputs": []
    },
    {
      "cell_type": "code",
      "source": [
        "clf=RandomizedSearchCV(xgb,params,cv=fold,scoring='f1',n_jobs=-1)"
      ],
      "metadata": {
        "id": "xTNUl7MlSzBh"
      },
      "execution_count": 113,
      "outputs": []
    },
    {
      "cell_type": "code",
      "source": [
        "clf.fit(x_train,y_train)"
      ],
      "metadata": {
        "colab": {
          "base_uri": "https://localhost:8080/"
        },
        "id": "SODsHDJLS4rE",
        "outputId": "63c0d6b2-cdd4-49cd-c3c8-2e0e1850b80c"
      },
      "execution_count": 114,
      "outputs": [
        {
          "output_type": "execute_result",
          "data": {
            "text/plain": [
              "RandomizedSearchCV(cv=KFold(n_splits=5, random_state=None, shuffle=False),\n",
              "                   estimator=XGBClassifier(random_state=1), n_jobs=-1,\n",
              "                   param_distributions={'colsample_bytree': [0.6, 0.8],\n",
              "                                        'learning_rate': [0.1, 0.5, 0.8],\n",
              "                                        'max_depth': [4, 5, 7],\n",
              "                                        'n_estimators': [101, 150],\n",
              "                                        'subsamples': [0.6, 0.8]},\n",
              "                   scoring='f1')"
            ]
          },
          "metadata": {},
          "execution_count": 114
        }
      ]
    },
    {
      "cell_type": "code",
      "source": [
        "clf.best_estimator_"
      ],
      "metadata": {
        "colab": {
          "base_uri": "https://localhost:8080/"
        },
        "id": "RoHu3fhHS8Em",
        "outputId": "a509186e-4823-49ec-b086-e6e5bc8cdda9"
      },
      "execution_count": 115,
      "outputs": [
        {
          "output_type": "execute_result",
          "data": {
            "text/plain": [
              "XGBClassifier(colsample_bytree=0.8, learning_rate=0.8, max_depth=5,\n",
              "              n_estimators=150, random_state=1, subsamples=0.6)"
            ]
          },
          "metadata": {},
          "execution_count": 115
        }
      ]
    },
    {
      "cell_type": "code",
      "source": [
        "xgb=XGBClassifier(max_depth=7,colsample_bytree=0.8,subsamples=0.8,learning_rate=0.8,n_estimators=101)\n",
        "xgb.fit(x_train,y_train)\n",
        "print(xgb.score(x_train,y_train))\n",
        "print(xgb.score(x_test,y_test))"
      ],
      "metadata": {
        "colab": {
          "base_uri": "https://localhost:8080/"
        },
        "id": "lgGW7z-8bm28",
        "outputId": "3ee44627-b9cd-4338-a3fc-c038bf56383c"
      },
      "execution_count": 116,
      "outputs": [
        {
          "output_type": "stream",
          "name": "stdout",
          "text": [
            "0.9007273859390921\n",
            "0.7749178093176169\n"
          ]
        }
      ]
    },
    {
      "cell_type": "code",
      "source": [
        "ypred=xgb.predict(x_test)\n",
        "confusion_matrix(y_test,ypred)"
      ],
      "metadata": {
        "colab": {
          "base_uri": "https://localhost:8080/"
        },
        "id": "9723IefWbsx0",
        "outputId": "b2ebd11e-f4e0-4102-9132-1b4fa27bd9e4"
      },
      "execution_count": 117,
      "outputs": [
        {
          "output_type": "execute_result",
          "data": {
            "text/plain": [
              "array([[9188,  818],\n",
              "       [1989,  476]])"
            ]
          },
          "metadata": {},
          "execution_count": 117
        }
      ]
    },
    {
      "cell_type": "code",
      "source": [
        "print(precision_score(y_test,ypred))\n",
        "print(recall_score(y_test,ypred))"
      ],
      "metadata": {
        "colab": {
          "base_uri": "https://localhost:8080/"
        },
        "id": "Ycczchskb4XD",
        "outputId": "bb1cdf8a-4962-4685-83ee-c7a336b546f9"
      },
      "execution_count": 118,
      "outputs": [
        {
          "output_type": "stream",
          "name": "stdout",
          "text": [
            "0.3678516228748068\n",
            "0.19310344827586207\n"
          ]
        }
      ]
    },
    {
      "cell_type": "markdown",
      "source": [
        "Insights:\n",
        "1)As we move from Grade A to Grade G,the percent of people who are repaying their loans is decreasing and the percent of people who are defaulting is increasing.\n",
        "2)Among the people who have repaid their loans,around 50% of people have taken loans for mortgage,folowed by rent and others.For the people who defaluted,around 50% of people have taken loans for rent,followed by mortgage and others.\n",
        "3)Debt consolidation is the major purpose for which a customer takes a loan irrespective of whether he repays it or default.\n",
        "4)The median loan amount for customers who have repaid their loans is 12000 while The median loan amount for customers who have defaulted their loans is 14000.Also the median annual income for customers who have repaid their loans is 65000 and the median annual income for customers who have defaulted their loans is 59000.\n",
        "5)Since it is an imbalanced dataset-80% negatives and 20% positives,I have taken f1 score a the performance metric.Among the different models-Logistic Regression,Decision tree classifier,Random Forest classifier and Gbdt,Random Forest classifier is giving the highest f1 score of 0.41.\n",
        "6)The most important features which will determine whether a customer will default or not are sub-grade,dti and annual income while the least 3 important features are home_ownership_others,purpose_others and pub rec bankrupcies."
      ],
      "metadata": {
        "id": "JNuXvprScJgm"
      }
    },
    {
      "cell_type": "code",
      "source": [
        ""
      ],
      "metadata": {
        "id": "L3mRu_Rwb7SY"
      },
      "execution_count": null,
      "outputs": []
    }
  ]
}